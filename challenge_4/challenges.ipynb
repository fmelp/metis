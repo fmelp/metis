{
 "cells": [
  {
   "cell_type": "markdown",
   "metadata": {},
   "source": [
    "##Challenge 1"
   ]
  },
  {
   "cell_type": "code",
   "execution_count": 46,
   "metadata": {
    "collapsed": false
   },
   "outputs": [],
   "source": [
    "import csv\n",
    "import pandas as pd\n",
    "import numpy as np\n",
    "import seaborn as sns\n",
    "from sklearn.cross_validation import train_test_split\n",
    "from sklearn.neighbors import KNeighborsClassifier\n",
    "from sklearn.metrics import accuracy_score\n",
    "from sklearn.linear_model import LogisticRegression\n",
    "import matplotlib.pyplot as plt\n",
    "%matplotlib inline\n",
    "\n",
    "pd.options.mode.chained_assignment = None\n",
    "\n",
    "headers = ['party', 'handicapped_infants', 'water_project_cost_sharing',\n",
    "    'adoption_of_the_budget_resolution', 'physician_fee_freeze', 'el_salvador_aid',\n",
    "    'religious_groups_in_schools', 'anti_satellite_test_ban', 'aid_to_nicaraguan_contras',\n",
    "    'mx_missile', 'immigration', 'synfuels_corporation_cutback','education_spending',\n",
    "    'superfund_right_to_sue', 'crime', 'duty_free_exports', 'export_administration_act_south_africa']\n",
    "\n",
    "# read in data -- NOTE: has no headers\n",
    "data = pd.read_csv(\"~/Desktop/metis/challenge_4/house-votes-84.csv\", header=None,\n",
    "    names=headers)\n",
    "\n",
    "#change yes to 1, no to 0, ? to nan\n",
    "data[data=='y'] = float(1)\n",
    "data[data=='n'] = float(0)\n",
    "data[data=='?'] = np.nan\n",
    "#fill in nan with avg of column, then round to 0 or 1\n",
    "new = data.ix[:, 'handicapped_infants':].apply(lambda x: x.fillna(x.mean()), axis=0)\n",
    "new[new < .5] = float(0)\n",
    "new[new >= .5] = float(1)\n",
    "new['party'] = data['party']"
   ]
  },
  {
   "cell_type": "markdown",
   "metadata": {},
   "source": [
    "##Challenge 2"
   ]
  },
  {
   "cell_type": "code",
   "execution_count": 47,
   "metadata": {
    "collapsed": false
   },
   "outputs": [],
   "source": [
    "def split_data(data):\n",
    "    \"\"\"\n",
    "    @param -> data : pandas DataFrame\n",
    "    @return -> train, test : split into 2 pandas DFs with NO HEADERS\n",
    "    \"\"\"\n",
    "    train, test = train_test_split(data)\n",
    "    train = pd.DataFrame(train)\n",
    "    test = pd.DataFrame(test)\n",
    "    return train, test\n",
    "\n",
    "train, test = split_data(new)"
   ]
  },
  {
   "cell_type": "markdown",
   "metadata": {},
   "source": [
    "##Challenge 3"
   ]
  },
  {
   "cell_type": "code",
   "execution_count": 48,
   "metadata": {
    "collapsed": false
   },
   "outputs": [
    {
     "name": "stdout",
     "output_type": "stream",
     "text": [
      "k = 20, 0.935779816514\n"
     ]
    }
   ],
   "source": [
    "#KNN\n",
    "train_X = train.ix[:, :15]\n",
    "train_y = train.ix[:, 16]\n",
    "test_X = test.ix[:, :15]\n",
    "test_y = test.ix[:, 16]\n",
    "\n",
    "\n",
    "knn_3 = KNeighborsClassifier(n_neighbors=5)\n",
    "knn_3.fit(train_X, train_y)\n",
    "result = knn_3.predict(test_X)\n",
    "#print accuracy_score(test_y, result)\n",
    "\n",
    "#find best k where k = 1,...,20\n",
    "def find_best_k(train_X, train_y, test_X, test_y):\n",
    "    best_k_num = 0\n",
    "    best_k_result = 0\n",
    "    for i in xrange(1,21):\n",
    "        knn = KNeighborsClassifier(n_neighbors=i)\n",
    "        knn.fit(train_X, train_y)\n",
    "        result = knn.predict(test_X)\n",
    "        accuracy = accuracy_score(test_y, result)\n",
    "        if accuracy > best_k_result:\n",
    "            best_k_result = accuracy\n",
    "            best_k_num = i\n",
    "    return 'k = ' + str(i) + ', ' + str(best_k_result)\n",
    "\n",
    "print find_best_k(train_X, train_y, test_X, test_y)"
   ]
  },
  {
   "cell_type": "markdown",
   "metadata": {},
   "source": [
    "##Challenge 4"
   ]
  },
  {
   "cell_type": "code",
   "execution_count": 49,
   "metadata": {
    "collapsed": false
   },
   "outputs": [
    {
     "name": "stdout",
     "output_type": "stream",
     "text": [
      "0.94495412844\n"
     ]
    }
   ],
   "source": [
    "#use logistic regression to predict \n",
    "logit = LogisticRegression()\n",
    "logit.fit(train_X, train_y)\n",
    "result = logit.predict(test_X)\n",
    "logit_accuracy = accuracy_score(test_y, result)\n",
    "print logit_accuracy"
   ]
  },
  {
   "cell_type": "markdown",
   "metadata": {},
   "source": [
    "##Challenge 5"
   ]
  },
  {
   "cell_type": "code",
   "execution_count": 50,
   "metadata": {
    "collapsed": false
   },
   "outputs": [
    {
     "data": {
      "image/png": "[encoded data removed]",
      "text/plain": [
       "<matplotlib.figure.Figure at 0x10e0ddad0>"
      ]
     },
     "metadata": {},
     "output_type": "display_data"
    },
    {
     "name": "stdout",
     "output_type": "stream",
     "text": [
      "0.633027522936\n",
      "0.366972477064\n"
     ]
    }
   ],
   "source": [
    "flatui = [\"#3498db\", \"#e74c3c\"]\n",
    "sns.barplot(x=new['party'],dropna=True, palette=flatui)\n",
    "sns.despine(left=True, right=True, bottom=True)\n",
    "plt.title('Party Membership')\n",
    "plt.xlabel('Party')\n",
    "plt.ylabel('Count')\n",
    "#plt.xticks(rotation = 60)\n",
    "plt.gcf().subplots_adjust(bottom=0.25)\n",
    "plt.show()\n",
    "\n",
    "def fake_predict(X, fake_y):\n",
    "    return [fake_y for x in range(len(X))]\n",
    "\n",
    "fake_dems = fake_predict(test_X, \"democrat\")\n",
    "fake_rep = fake_predict(test_X, \"republican\")\n",
    "\n",
    "print accuracy_score(fake_dems, result)\n",
    "print accuracy_score(fake_rep, result)"
   ]
  },
  {
   "cell_type": "markdown",
   "metadata": {},
   "source": [
    "##Challenge 6"
   ]
  },
  {
   "cell_type": "code",
   "execution_count": 60,
   "metadata": {
    "collapsed": false
   },
   "outputs": [
    {
     "data": {
      "image/png": "[encoded data removed]",
      "text/plain": [
       "<matplotlib.figure.Figure at 0x10e423ed0>"
      ]
     },
     "metadata": {},
     "output_type": "display_data"
    }
   ],
   "source": [
    "#plot accuracies\n",
    "def find_all_k(train_X, train_y, test_X, test_y):\n",
    "    k_nums = []\n",
    "    k_results = []\n",
    "    for i in xrange(1,21):\n",
    "        knn = KNeighborsClassifier(n_neighbors=i)\n",
    "        knn.fit(train_X, train_y)\n",
    "        result = knn.predict(test_X)\n",
    "        accuracy = accuracy_score(test_y, result)\n",
    "        k_nums.append(i)\n",
    "        k_results.append(accuracy)\n",
    "    return k_nums, k_results\n",
    "\n",
    "k_nums, k_results = find_all_k(train_X, train_y, test_X, test_y)\n",
    "\n",
    "plt.scatter(k_nums, k_results)\n",
    "plt.title('Regression Results')\n",
    "plt.xlabel('K')\n",
    "plt.ylabel('Accuracy')\n",
    "plt.plot([0,25], [logit_accuracy, logit_accuracy], label=\"Logistic Regression\", lw=3)\n",
    "plt.annotate('local max', xy=(.945, 20), xytext=(3, 1.5),\n",
    "            arrowprops=dict(facecolor='black', shrink=0.05),\n",
    "            )\n",
    "plt.show()\n"
   ]
  },
  {
   "cell_type": "code",
   "execution_count": null,
   "metadata": {
    "collapsed": true
   },
   "outputs": [],
   "source": []
  },
  {
   "cell_type": "code",
   "execution_count": null,
   "metadata": {
    "collapsed": true
   },
   "outputs": [],
   "source": []
  }
 ],
 "metadata": {
  "kernelspec": {
   "display_name": "Python 2",
   "language": "python",
   "name": "python2"
  },
  "language_info": {
   "codemirror_mode": {
    "name": "ipython",
    "version": 2
   },
   "file_extension": ".py",
   "mimetype": "text/x-python",
   "name": "python",
   "nbconvert_exporter": "python",
   "pygments_lexer": "ipython2",
   "version": "2.7.5"
  }
 },
 "nbformat": 4,
 "nbformat_minor": 0
}
