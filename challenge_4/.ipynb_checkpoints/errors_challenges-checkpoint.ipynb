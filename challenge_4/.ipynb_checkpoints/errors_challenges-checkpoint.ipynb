{
 "cells": [
  {
   "cell_type": "markdown",
   "metadata": {},
   "source": [
    "##Challenge 1"
   ]
  },
  {
   "cell_type": "code",
   "execution_count": 19,
   "metadata": {
    "collapsed": true
   },
   "outputs": [],
   "source": [
    "import csv\n",
    "import pandas as pd\n",
    "import numpy as np\n",
    "import seaborn as sns\n",
    "from sklearn.cross_validation import train_test_split\n",
    "from sklearn.neighbors import KNeighborsClassifier\n",
    "from sklearn.metrics import accuracy_score\n",
    "from sklearn.linear_model import LogisticRegression\n",
    "import matplotlib.pyplot as plt\n",
    "from sklearn.learning_curve import learning_curve\n",
    "from sklearn.naive_bayes import GaussianNB\n",
    "from sklearn.svm import SVC\n",
    "from sklearn.tree import DecisionTreeClassifier\n",
    "from sklearn.ensemble import RandomForestClassifier\n",
    "from sklearn.cross_validation import cross_val_score\n",
    "from scipy.stats import mode\n",
    "from sklearn.metrics import precision_recall_fscore_support, roc_auc_score, roc_curve, auc\n",
    "\n",
    "%matplotlib inline\n",
    "\n",
    "\n",
    "pd.options.mode.chained_assignment = None\n",
    "\n",
    "headers = ['party', 'handicapped_infants', 'water_project_cost_sharing',\n",
    "    'adoption_of_the_budget_resolution', 'physician_fee_freeze', 'el_salvador_aid',\n",
    "    'religious_groups_in_schools', 'anti_satellite_test_ban', 'aid_to_nicaraguan_contras',\n",
    "    'mx_missile', 'immigration', 'synfuels_corporation_cutback','education_spending',\n",
    "    'superfund_right_to_sue', 'crime', 'duty_free_exports', 'export_administration_act_south_africa']\n",
    "\n",
    "# read in data -- NOTE: has no headers\n",
    "data = pd.read_csv(\"~/Desktop/metis/challenge_4/house-votes-84.csv\", header=None,\n",
    "    names=headers)\n",
    "\n",
    "#change yes to 1, no to 0, ? to nan\n",
    "data[data=='y'] = float(1)\n",
    "data[data=='n'] = float(0)\n",
    "data[data=='?'] = np.nan\n",
    "#fill in nan with avg of column, then round to 0 or 1\n",
    "new = data.ix[:, 'handicapped_infants':].apply(lambda x: x.fillna(x.mean()), axis=0)\n",
    "new[new < .5] = float(0)\n",
    "new[new >= .5] = float(1)\n",
    "new['party'] = data['party'].apply(lambda x: 1 if x == 'republican' else 0)\n"
   ]
  },
  {
   "cell_type": "code",
   "execution_count": 20,
   "metadata": {
    "collapsed": true
   },
   "outputs": [],
   "source": [
    "def split_data(data):\n",
    "    \"\"\"\n",
    "    @param -> data : pandas DataFrame\n",
    "    @return -> train, test : split into 2 pandas DFs with NO HEADERS\n",
    "    \"\"\"\n",
    "    train, test = train_test_split(data)\n",
    "    train = pd.DataFrame(train)\n",
    "    test = pd.DataFrame(test)\n",
    "    return train, test\n",
    "\n",
    "train, test = split_data(new)"
   ]
  },
  {
   "cell_type": "code",
   "execution_count": 31,
   "metadata": {
    "collapsed": false
   },
   "outputs": [
    {
     "name": "stdout",
     "output_type": "stream",
     "text": [
      "0.935779816514\n",
      "(array([ 0.98333333,  0.87755102]), array([ 0.90769231,  0.97727273]), array([ 0.944     ,  0.92473118]), array([65, 44]))\n",
      "0.954128440367\n",
      "(array([ 0.98387097,  0.91489362]), array([ 0.93846154,  0.97727273]), array([ 0.96062992,  0.94505495]), array([65, 44]))\n"
     ]
    }
   ],
   "source": [
    "#KNN\n",
    "train_X = train.ix[:, :15]\n",
    "train_y = train.ix[:, 16]\n",
    "test_X = test.ix[:, :15]\n",
    "test_y = test.ix[:, 16]\n",
    "\n",
    "\n",
    "knn_3 = KNeighborsClassifier(n_neighbors=10)\n",
    "knn_3.fit(train_X, train_y)\n",
    "knn_result_prob = knn_3.predict_proba(test_X)\n",
    "knn_result = knn_3.predict(test_X)\n",
    "print accuracy_score(test_y, knn_result)\n",
    "\n",
    "\n",
    "# precision, recall, fscore, support = precision_recall_fscore_support(test_y, results)\n",
    "# print precision, recall, fscore, support\n",
    "print precision_recall_fscore_support(test_y, knn_result)\n",
    "\n",
    "logit = LogisticRegression()\n",
    "logit.fit(train_X, train_y)\n",
    "logit_result_prob = logit.predict_proba(test_X)\n",
    "logit_result = logit.predict(test_X)\n",
    "logit_accuracy = accuracy_score(test_y, logit_result)\n",
    "print logit_accuracy\n",
    "print precision_recall_fscore_support(test_y, logit_result)\n"
   ]
  },
  {
   "cell_type": "markdown",
   "metadata": {},
   "source": [
    "##Challenge 2"
   ]
  },
  {
   "cell_type": "code",
   "execution_count": 36,
   "metadata": {
    "collapsed": false
   },
   "outputs": [
    {
     "data": {
      "image/png": "[encoded data removed]",
      "text/plain": [
       "<matplotlib.figure.Figure at 0x10e423a50>"
      ]
     },
     "metadata": {},
     "output_type": "display_data"
    }
   ],
   "source": [
    "false_positive_rate, recall, thresholds = roc_curve(test_y, logit_result_prob[:,1])\n",
    "roc_auc = auc(false_positive_rate, recall)\n",
    "plt.title('Receiver Operating Characteristic')\n",
    "plt.plot(false_positive_rate, recall, 'b', label='AUC = %0.2f' % roc_auc)\n",
    "plt.legend(loc='lower right')\n",
    "plt.plot([0, 1], [0, 1], 'r--')\n",
    "plt.xlim([0.0, 1.0])\n",
    "plt.ylim([0.0, 1.0])\n",
    "plt.ylabel('Recall')\n",
    "plt.xlabel('Fall-out')\n",
    "plt.show()"
   ]
  },
  {
   "cell_type": "code",
   "execution_count": 37,
   "metadata": {
    "collapsed": false
   },
   "outputs": [
    {
     "data": {
      "image/png": "[encoded data removed]",
      "text/plain": [
       "<matplotlib.figure.Figure at 0x10e5d0650>"
      ]
     },
     "metadata": {},
     "output_type": "display_data"
    }
   ],
   "source": [
    "false_positive_rate, recall, thresholds = roc_curve(test_y, knn_result_prob[:,1])\n",
    "roc_auc = auc(false_positive_rate, recall)\n",
    "plt.title('Receiver Operating Characteristic')\n",
    "plt.plot(false_positive_rate, recall, 'b', label='AUC = %0.2f' % roc_auc)\n",
    "plt.legend(loc='lower right')\n",
    "plt.plot([0, 1], [0, 1], 'r--')\n",
    "plt.xlim([0.0, 1.0])\n",
    "plt.ylim([0.0, 1.0])\n",
    "plt.ylabel('Recall')\n",
    "plt.xlabel('Fall-out')\n",
    "plt.show()"
   ]
  },
  {
   "cell_type": "markdown",
   "metadata": {
    "collapsed": true
   },
   "source": [
    "##Challenge 3"
   ]
  },
  {
   "cell_type": "code",
   "execution_count": 46,
   "metadata": {
    "collapsed": false
   },
   "outputs": [
    {
     "name": "stdout",
     "output_type": "stream",
     "text": [
      "KNN results: \n",
      "precision 0.886368898768\n",
      "recall 0.928571428571\n",
      "accuracy 0.926436781609\n",
      "f1 0.906704446922\n"
     ]
    }
   ],
   "source": [
    "print \"KNN results: \"\n",
    "print \"precision \" + str(np.mean(cross_val_score(knn_3, new.ix[:, :15], new.ix[:, 16], scoring='precision')))\n",
    "print \"recall \" + str(np.mean(cross_val_score(knn_3, new.ix[:, :15], new.ix[:, 16], scoring='recall')))\n",
    "print \"accuracy \" + str(np.mean(cross_val_score(knn_3, new.ix[:, :15], new.ix[:, 16], scoring='accuracy')))\n",
    "print \"f1 \" + str(np.mean(cross_val_score(knn_3, new.ix[:, :15], new.ix[:, 16], scoring='f1')))"
   ]
  },
  {
   "cell_type": "code",
   "execution_count": 49,
   "metadata": {
    "collapsed": false
   },
   "outputs": [
    {
     "name": "stdout",
     "output_type": "stream",
     "text": [
      "Logit results: \n",
      "precision 0.954195804196\n",
      "recall 0.946428571429\n",
      "accuracy 0.96091954023\n",
      "f1 0.949483966725\n"
     ]
    }
   ],
   "source": [
    "print \"Logit results: \"\n",
    "print \"precision \" + str(np.mean(cross_val_score(logit, new.ix[:, :15], new.ix[:, 16], scoring='precision')))\n",
    "print \"recall \" + str(np.mean(cross_val_score(logit, new.ix[:, :15], new.ix[:, 16], scoring='recall')))\n",
    "print \"accuracy \" + str(np.mean(cross_val_score(logit, new.ix[:, :15], new.ix[:, 16], scoring='accuracy')))\n",
    "print \"f1 \" + str(np.mean(cross_val_score(logit, new.ix[:, :15], new.ix[:, 16], scoring='f1'))) "
   ]
  },
  {
   "cell_type": "markdown",
   "metadata": {},
   "source": [
    "##Challenge 4"
   ]
  },
  {
   "cell_type": "code",
   "execution_count": 50,
   "metadata": {
    "collapsed": false
   },
   "outputs": [
    {
     "name": "stdout",
     "output_type": "stream",
     "text": [
      "Logistic Regression Accuracy: 0.391304347826\n",
      "KNN Accuracy: 0.434782608696\n"
     ]
    }
   ],
   "source": [
    "data = pd.read_csv(\"~/Desktop/metis/challenge_4/2013_movies.csv\")\n",
    "data = data.dropna(subset=['Rating'])\n",
    "data = data[['Budget','DomesticTotalGross', 'Runtime', 'Rating']]\n",
    "data = data.convert_objects(convert_numeric=True)\n",
    "data = data.dropna()\n",
    "\n",
    "tr_mov, ts_mov = split_data(data)\n",
    "\n",
    "tr_mov_X = tr_mov.iloc[:,0:2]\n",
    "ts_mov_X = ts_mov.iloc[:,0:2]\n",
    "tr_mov_y = tr_mov.loc[:, 3]\n",
    "ts_mov_y = ts_mov.loc[:, 3]\n",
    "\n",
    "\n",
    "#predict genres using Logit\n",
    "logit = LogisticRegression()\n",
    "logit.fit(tr_mov_X, tr_mov_y)\n",
    "result = logit.predict(ts_mov_X)\n",
    "logit_accuracy = accuracy_score(ts_mov_y, result)\n",
    "print 'Logistic Regression Accuracy: ' + str(logit_accuracy)\n",
    "\n",
    "#predict genres using KNN, n=10\n",
    "knn = KNeighborsClassifier(n_neighbors=10)\n",
    "knn.fit(tr_mov_X, tr_mov_y)\n",
    "result = knn.predict(ts_mov_X)\n",
    "knn_accuracy = accuracy_score(ts_mov_y, result)\n",
    "print 'KNN Accuracy: ' + str(knn_accuracy)"
   ]
  },
  {
   "cell_type": "code",
   "execution_count": 52,
   "metadata": {
    "collapsed": false
   },
   "outputs": [
    {
     "name": "stdout",
     "output_type": "stream",
     "text": [
      "Logit results: \n",
      "precision 0.473361380073\n",
      "recall 0.538697318008\n"
     ]
    },
    {
     "name": "stderr",
     "output_type": "stream",
     "text": [
      "/Library/Frameworks/Python.framework/Versions/2.7/lib/python2.7/site-packages/sklearn/metrics/metrics.py:1771: UndefinedMetricWarning: Precision is ill-defined and being set to 0.0 in labels with no predicted samples.\n",
      "  'precision', 'predicted', average, warn_for)\n"
     ]
    }
   ],
   "source": [
    "print \"Logit results: \"\n",
    "print \"precision \" + str(np.mean(cross_val_score(logit, data.ix[:, :2], data.ix[:, 3], scoring='precision')))\n",
    "print \"recall \" + str(np.mean(cross_val_score(logit, data.ix[:, :2], data.ix[:, 3], scoring='recall')))"
   ]
  },
  {
   "cell_type": "markdown",
   "metadata": {},
   "source": [
    "##Challenge 5"
   ]
  },
  {
   "cell_type": "code",
   "execution_count": 56,
   "metadata": {
    "collapsed": false
   },
   "outputs": [
    {
     "data": {
      "image/png": "[encoded data removed]",
      "text/plain": [
       "<matplotlib.figure.Figure at 0x10ea1d810>"
      ]
     },
     "metadata": {},
     "output_type": "display_data"
    }
   ],
   "source": [
    "haberman = pd.read_csv(\"~/Desktop/metis/challenge_4/haberman.csv\", header=None)\n",
    "headers = ['age_patient', 'year_operation', 'pos_nodes', 'survival_status']\n",
    "d = dict(zip(range(0,4), headers))\n",
    "haberman.rename(columns=d, inplace=True)\n",
    "haberman['survival_status'] = haberman['survival_status'].apply(lambda x: 1 if x == 2 else 0)\n",
    "\n",
    "train, test = split_data(haberman)\n",
    "\n",
    "train_X = train.ix[:, :2]\n",
    "train_y = train.ix[:, 3]\n",
    "test_X = test.ix[:, :2]\n",
    "test_y = test.ix[:, 3]\n",
    "\n",
    "#use logistic regression to predict \n",
    "logit = LogisticRegression()\n",
    "logit.fit(train_X, train_y)\n",
    "result = logit.predict(test_X)\n",
    "result_prob = logit.predict_proba(test_X)\n",
    "logit_accuracy = accuracy_score(test_y, result)\n",
    "\n",
    "false_positive_rate, recall, thresholds = roc_curve(test_y, result_prob[:,1])\n",
    "roc_auc = auc(false_positive_rate, recall)\n",
    "plt.title('Receiver Operating Characteristic')\n",
    "plt.plot(false_positive_rate, recall, 'b', label='AUC = %0.2f' % roc_auc)\n",
    "plt.legend(loc='lower right')\n",
    "plt.plot([0, 1], [0, 1], 'r--')\n",
    "plt.xlim([0.0, 1.0])\n",
    "plt.ylim([0.0, 1.0])\n",
    "plt.ylabel('Recall')\n",
    "plt.xlabel('Fall-out')\n",
    "plt.show()"
   ]
  },
  {
   "cell_type": "code",
   "execution_count": null,
   "metadata": {
    "collapsed": true
   },
   "outputs": [],
   "source": []
  }
 ],
 "metadata": {
  "kernelspec": {
   "display_name": "Python 2",
   "language": "python",
   "name": "python2"
  },
  "language_info": {
   "codemirror_mode": {
    "name": "ipython",
    "version": 2
   },
   "file_extension": ".py",
   "mimetype": "text/x-python",
   "name": "python",
   "nbconvert_exporter": "python",
   "pygments_lexer": "ipython2",
   "version": "2.7.5"
  }
 },
 "nbformat": 4,
 "nbformat_minor": 0
}
