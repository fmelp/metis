{
 "cells": [
  {
   "cell_type": "markdown",
   "metadata": {},
   "source": [
    "##Challenge 1"
   ]
  },
  {
   "cell_type": "code",
   "execution_count": 52,
   "metadata": {
    "collapsed": false
   },
   "outputs": [],
   "source": [
    "import csv\n",
    "import pandas as pd\n",
    "import numpy as np\n",
    "import seaborn as sns\n",
    "from sklearn.cross_validation import train_test_split\n",
    "from sklearn.neighbors import KNeighborsClassifier\n",
    "from sklearn.metrics import accuracy_score\n",
    "from sklearn.linear_model import LogisticRegression\n",
    "import matplotlib.pyplot as plt\n",
    "from sklearn.learning_curve import learning_curve\n",
    "from sklearn.naive_bayes import GaussianNB\n",
    "from sklearn.svm import SVC\n",
    "from sklearn.tree import DecisionTreeClassifier\n",
    "from sklearn.ensemble import RandomForestClassifier\n",
    "from sklearn.cross_validation import cross_val_score\n",
    "from scipy.stats import mode\n",
    "\n",
    "%matplotlib inline\n",
    "\n",
    "\n",
    "pd.options.mode.chained_assignment = None\n",
    "\n",
    "headers = ['party', 'handicapped_infants', 'water_project_cost_sharing',\n",
    "    'adoption_of_the_budget_resolution', 'physician_fee_freeze', 'el_salvador_aid',\n",
    "    'religious_groups_in_schools', 'anti_satellite_test_ban', 'aid_to_nicaraguan_contras',\n",
    "    'mx_missile', 'immigration', 'synfuels_corporation_cutback','education_spending',\n",
    "    'superfund_right_to_sue', 'crime', 'duty_free_exports', 'export_administration_act_south_africa']\n",
    "\n",
    "# read in data -- NOTE: has no headers\n",
    "data = pd.read_csv(\"~/Desktop/metis/challenge_4/house-votes-84.csv\", header=None,\n",
    "    names=headers)\n",
    "\n",
    "#change yes to 1, no to 0, ? to nan\n",
    "data[data=='y'] = float(1)\n",
    "data[data=='n'] = float(0)\n",
    "data[data=='?'] = np.nan\n",
    "#fill in nan with avg of column, then round to 0 or 1\n",
    "new = data.ix[:, 'handicapped_infants':].apply(lambda x: x.fillna(x.mean()), axis=0)\n",
    "new[new < .5] = float(0)\n",
    "new[new >= .5] = float(1)\n",
    "new['party'] = data['party']"
   ]
  },
  {
   "cell_type": "markdown",
   "metadata": {},
   "source": [
    "##Challenge 2"
   ]
  },
  {
   "cell_type": "code",
   "execution_count": 53,
   "metadata": {
    "collapsed": false
   },
   "outputs": [],
   "source": [
    "def split_data(data):\n",
    "    \"\"\"\n",
    "    @param -> data : pandas DataFrame\n",
    "    @return -> train, test : split into 2 pandas DFs with NO HEADERS\n",
    "    \"\"\"\n",
    "    train, test = train_test_split(data)\n",
    "    train = pd.DataFrame(train)\n",
    "    test = pd.DataFrame(test)\n",
    "    return train, test\n",
    "\n",
    "train, test = split_data(new)"
   ]
  },
  {
   "cell_type": "markdown",
   "metadata": {},
   "source": [
    "##Challenge 3"
   ]
  },
  {
   "cell_type": "code",
   "execution_count": 54,
   "metadata": {
    "collapsed": false
   },
   "outputs": [
    {
     "name": "stdout",
     "output_type": "stream",
     "text": [
      "k = 20, 0.880733944954\n"
     ]
    }
   ],
   "source": [
    "#KNN\n",
    "train_X = train.ix[:, :15]\n",
    "train_y = train.ix[:, 16]\n",
    "test_X = test.ix[:, :15]\n",
    "test_y = test.ix[:, 16]\n",
    "\n",
    "\n",
    "knn_3 = KNeighborsClassifier(n_neighbors=5)\n",
    "knn_3.fit(train_X, train_y)\n",
    "result = knn_3.predict(test_X)\n",
    "#print accuracy_score(test_y, result)\n",
    "\n",
    "#find best k where k = 1,...,20\n",
    "def find_best_k(train_X, train_y, test_X, test_y):\n",
    "    best_k_num = 0\n",
    "    best_k_result = 0\n",
    "    for i in xrange(1,21):\n",
    "        knn = KNeighborsClassifier(n_neighbors=i)\n",
    "        knn.fit(train_X, train_y)\n",
    "        result = knn.predict(test_X)\n",
    "        accuracy = accuracy_score(test_y, result)\n",
    "        if accuracy > best_k_result:\n",
    "            best_k_result = accuracy\n",
    "            best_k_num = i\n",
    "    return 'k = ' + str(i) + ', ' + str(best_k_result)\n",
    "\n",
    "print find_best_k(train_X, train_y, test_X, test_y)"
   ]
  },
  {
   "cell_type": "markdown",
   "metadata": {},
   "source": [
    "##Challenge 4"
   ]
  },
  {
   "cell_type": "code",
   "execution_count": 55,
   "metadata": {
    "collapsed": false
   },
   "outputs": [
    {
     "name": "stdout",
     "output_type": "stream",
     "text": [
      "0.935779816514\n"
     ]
    }
   ],
   "source": [
    "#use logistic regression to predict \n",
    "logit = LogisticRegression()\n",
    "logit.fit(train_X, train_y)\n",
    "result = logit.predict(test_X)\n",
    "logit_accuracy = accuracy_score(test_y, result)\n",
    "print logit_accuracy"
   ]
  },
  {
   "cell_type": "markdown",
   "metadata": {},
   "source": [
    "##Challenge 5"
   ]
  },
  {
   "cell_type": "code",
   "execution_count": 56,
   "metadata": {
    "collapsed": false
   },
   "outputs": [
    {
     "data": {
      "image/png": "[encoded data removed]",
      "text/plain": [
       "<matplotlib.figure.Figure at 0x10efe5e10>"
      ]
     },
     "metadata": {},
     "output_type": "display_data"
    },
    {
     "name": "stdout",
     "output_type": "stream",
     "text": [
      "0.587155963303\n",
      "0.412844036697\n"
     ]
    }
   ],
   "source": [
    "flatui = [\"#3498db\", \"#e74c3c\"]\n",
    "sns.barplot(x=new['party'],dropna=True, palette=flatui)\n",
    "sns.despine(left=True, right=True, bottom=True)\n",
    "plt.title('Party Membership')\n",
    "plt.xlabel('Party')\n",
    "plt.ylabel('Count')\n",
    "#plt.xticks(rotation = 60)\n",
    "plt.gcf().subplots_adjust(bottom=0.25)\n",
    "plt.show()\n",
    "\n",
    "def fake_predict(X, fake_y):\n",
    "    return [fake_y for x in range(len(X))]\n",
    "\n",
    "fake_dems = fake_predict(test_X, \"democrat\")\n",
    "fake_rep = fake_predict(test_X, \"republican\")\n",
    "\n",
    "print accuracy_score(fake_dems, result)\n",
    "print accuracy_score(fake_rep, result)"
   ]
  },
  {
   "cell_type": "markdown",
   "metadata": {},
   "source": [
    "##Challenge 6"
   ]
  },
  {
   "cell_type": "code",
   "execution_count": 57,
   "metadata": {
    "collapsed": false
   },
   "outputs": [
    {
     "data": {
      "image/png": "[encoded data removed]",
      "text/plain": [
       "<matplotlib.figure.Figure at 0x10f023c90>"
      ]
     },
     "metadata": {},
     "output_type": "display_data"
    }
   ],
   "source": [
    "#plot accuracies\n",
    "def find_all_k(train_X, train_y, test_X, test_y):\n",
    "    k_nums = []\n",
    "    k_results = []\n",
    "    for i in xrange(1,21):\n",
    "        knn = KNeighborsClassifier(n_neighbors=i)\n",
    "        knn.fit(train_X, train_y)\n",
    "        result = knn.predict(test_X)\n",
    "        accuracy = accuracy_score(test_y, result)\n",
    "        k_nums.append(i)\n",
    "        k_results.append(accuracy)\n",
    "    return k_nums, k_results\n",
    "\n",
    "k_nums, k_results = find_all_k(train_X, train_y, test_X, test_y)\n",
    "\n",
    "plt.scatter(k_nums, k_results)\n",
    "plt.title('Regression Results')\n",
    "plt.xlabel('K')\n",
    "plt.ylabel('Accuracy')\n",
    "plt.plot([0,25], [logit_accuracy, logit_accuracy], label=\"Logistic Regression\", lw=3)\n",
    "plt.annotate('local max', xy=(.945, 20), xytext=(3, 1.5),\n",
    "            arrowprops=dict(facecolor='black', shrink=0.05),\n",
    "            )\n",
    "plt.show()\n"
   ]
  },
  {
   "cell_type": "markdown",
   "metadata": {
    "collapsed": true
   },
   "source": [
    "##Challenge 7"
   ]
  },
  {
   "cell_type": "code",
   "execution_count": 58,
   "metadata": {
    "collapsed": false
   },
   "outputs": [
    {
     "data": {
      "text/plain": [
       "<matplotlib.text.Text at 0x10ef5da50>"
      ]
     },
     "execution_count": 58,
     "metadata": {},
     "output_type": "execute_result"
    },
    {
     "data": {
      "image/png": "[encoded data removed]",
      "text/plain": [
       "<matplotlib.figure.Figure at 0x10d482c10>"
      ]
     },
     "metadata": {},
     "output_type": "display_data"
    }
   ],
   "source": [
    "new_X = new.ix[:,:15]\n",
    "new_y = new.ix[:,16]\n",
    "split_size, train_err_knn, test_err_knn = learning_curve(KNeighborsClassifier(n_neighbors=5), new_X, new_y)\n",
    "train_cv_err = np.mean(train_err_knn, axis=1)\n",
    "test_cv_err = np.mean(test_err_knn, axis=1)\n",
    "\n",
    "plt.plot(split_size, train_cv_err,'o-', label=\"Train KNN\")\n",
    "plt.plot(split_size, test_cv_err, 'o-', label=\"Test KNN\")\n",
    "plt.legend(['Train', 'Test'])\n",
    "plt.title('KNN Learning Curve (n=5)')\n",
    "plt.xlabel('Size Sample')\n",
    "plt.ylabel('Accuracy')"
   ]
  },
  {
   "cell_type": "code",
   "execution_count": 59,
   "metadata": {
    "collapsed": false
   },
   "outputs": [
    {
     "data": {
      "text/plain": [
       "<matplotlib.text.Text at 0x1061a4910>"
      ]
     },
     "execution_count": 59,
     "metadata": {},
     "output_type": "execute_result"
    },
    {
     "data": {
      "image/png": "[encoded data removed]",
      "text/plain": [
       "<matplotlib.figure.Figure at 0x10ef6c450>"
      ]
     },
     "metadata": {},
     "output_type": "display_data"
    }
   ],
   "source": [
    "split_size, train_err_logit, test_err_logit = learning_curve(LogisticRegression(), new_X, new_y)\n",
    "train_cv_err = np.mean(train_err_logit, axis=1)\n",
    "test_cv_err = np.mean(test_err_logit, axis=1)\n",
    "\n",
    "plt.plot(split_size, train_cv_err,'o-', label=\"Train Logit\")\n",
    "plt.plot(split_size, test_cv_err, 'o-', label=\"Test Logit\")\n",
    "plt.legend(['Train', 'Test'])\n",
    "plt.title('Logistic Regression Learning Curve')\n",
    "plt.xlabel('Size Sample')\n",
    "plt.ylabel('Accuracy')"
   ]
  },
  {
   "cell_type": "markdown",
   "metadata": {},
   "source": [
    "##Challenge 8"
   ]
  },
  {
   "cell_type": "code",
   "execution_count": 60,
   "metadata": {
    "collapsed": false,
    "scrolled": true
   },
   "outputs": [
    {
     "name": "stdout",
     "output_type": "stream",
     "text": [
      "GaussianNB accuracy: 0.908256880734\n"
     ]
    }
   ],
   "source": [
    "gaussian = GaussianNB()\n",
    "gaussian.fit(train_X, train_y)\n",
    "gaus_pred = gaussian.predict(test_X)\n",
    "print \"GaussianNB accuracy: \" + str(accuracy_score(test_y, gaus_pred))"
   ]
  },
  {
   "cell_type": "code",
   "execution_count": 61,
   "metadata": {
    "collapsed": false
   },
   "outputs": [
    {
     "name": "stdout",
     "output_type": "stream",
     "text": [
      "SVC accuracy: 0.935779816514\n"
     ]
    }
   ],
   "source": [
    "svc = SVC()\n",
    "svc.fit(train_X, train_y)\n",
    "svc_pred = svc.predict(test_X)\n",
    "print \"SVC accuracy: \" + str(accuracy_score(test_y, svc_pred))"
   ]
  },
  {
   "cell_type": "code",
   "execution_count": 62,
   "metadata": {
    "collapsed": false
   },
   "outputs": [
    {
     "name": "stdout",
     "output_type": "stream",
     "text": [
      "Decision Tree accuracy: 0.917431192661\n"
     ]
    }
   ],
   "source": [
    "dec_tree = DecisionTreeClassifier()\n",
    "dec_tree.fit(train_X, train_y)\n",
    "dec_tree_pred = dec_tree.predict(test_X)\n",
    "print \"Decision Tree accuracy: \" + str(accuracy_score(test_y, dec_tree_pred))"
   ]
  },
  {
   "cell_type": "code",
   "execution_count": 63,
   "metadata": {
    "collapsed": false
   },
   "outputs": [
    {
     "name": "stdout",
     "output_type": "stream",
     "text": [
      "Random Forest accuracy: 0.954128440367\n"
     ]
    }
   ],
   "source": [
    "random_forest = RandomForestClassifier()\n",
    "random_forest.fit(train_X, train_y)\n",
    "random_forest_pred = random_forest.predict(test_X)\n",
    "print  \"Random Forest accuracy: \" + str(accuracy_score(test_y, random_forest_pred))"
   ]
  },
  {
   "cell_type": "markdown",
   "metadata": {},
   "source": [
    "##Challenge 9"
   ]
  },
  {
   "cell_type": "code",
   "execution_count": 64,
   "metadata": {
    "collapsed": false
   },
   "outputs": [
    {
     "name": "stdout",
     "output_type": "stream",
     "text": [
      "KNN 0.926436781609\n",
      "LOGIT: 0.96091954023\n",
      "NaiveBayes: 0.931034482759\n",
      "SVC: 0.95632183908\n",
      "Decision Tree: 0.928735632184\n",
      "Random Forest: 0.95632183908\n"
     ]
    }
   ],
   "source": [
    "print \"KNN \" + str(np.mean(cross_val_score(KNeighborsClassifier(n_neighbors=5), new_X, new_y)))\n",
    "print \"LOGIT: \" + str(np.mean(cross_val_score(LogisticRegression(), new_X, new_y)))\n",
    "print \"NaiveBayes: \" + str(np.mean(cross_val_score(GaussianNB(), new_X, new_y)))\n",
    "print \"SVC: \" + str(np.mean(cross_val_score(SVC(), new_X, new_y)))\n",
    "print \"Decision Tree: \" + str(np.mean(cross_val_score(DecisionTreeClassifier(), new_X, new_y)))\n",
    "print \"Random Forest: \" + str(np.mean(cross_val_score(RandomForestClassifier(), new_X, new_y)))\n"
   ]
  },
  {
   "cell_type": "markdown",
   "metadata": {},
   "source": [
    "##Challenge 10"
   ]
  },
  {
   "cell_type": "code",
   "execution_count": 71,
   "metadata": {
    "collapsed": false
   },
   "outputs": [
    {
     "name": "stdout",
     "output_type": "stream",
     "text": [
      "0.899082568807\n"
     ]
    }
   ],
   "source": [
    "data = pd.read_csv(\"~/Desktop/metis/challenge_4/house-votes-84.csv\", header=None,\n",
    "    names=headers)\n",
    "data[data=='y'] = float(1)\n",
    "data[data=='n'] = float(0)\n",
    "data[data=='?'] = np.nan\n",
    "new = data.ix[:, 'handicapped_infants':].apply(lambda x: x.fillna(mode(x)[0][0]), axis=0)\n",
    "#new['party'] = data['party']\n",
    "\n",
    "train, test = split_data(new)\n",
    "train_X = train.ix[:, :14]\n",
    "train_y = train.ix[:, 15]\n",
    "test_X = test.ix[:, :14]\n",
    "test_y = test.ix[:, 15]\n",
    "\n",
    "#use logistic regression to predict \n",
    "logit = LogisticRegression()\n",
    "logit.fit(train_X, train_y)\n",
    "result = logit.predict(test_X)\n",
    "logit_accuracy = accuracy_score(test_y, result)\n",
    "print logit_accuracy"
   ]
  },
  {
   "cell_type": "markdown",
   "metadata": {},
   "source": [
    "##Challenge 11"
   ]
  },
  {
   "cell_type": "code",
   "execution_count": null,
   "metadata": {
    "collapsed": true
   },
   "outputs": [],
   "source": [
    "data = pd.read_csv(\"~/Desktop/metis/project_luther/final_data_genre.csv\")\n",
    "data = data.dropna()"
   ]
  }
 ],
 "metadata": {
  "kernelspec": {
   "display_name": "Python 2",
   "language": "python",
   "name": "python2"
  },
  "language_info": {
   "codemirror_mode": {
    "name": "ipython",
    "version": 2
   },
   "file_extension": ".py",
   "mimetype": "text/x-python",
   "name": "python",
   "nbconvert_exporter": "python",
   "pygments_lexer": "ipython2",
   "version": "2.7.5"
  }
 },
 "nbformat": 4,
 "nbformat_minor": 0
}
