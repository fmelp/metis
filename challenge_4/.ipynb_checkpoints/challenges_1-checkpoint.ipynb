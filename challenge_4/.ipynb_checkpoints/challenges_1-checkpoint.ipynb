{
 "cells": [
  {
   "cell_type": "markdown",
   "metadata": {},
   "source": [
    "##Challenge 1"
   ]
  },
  {
   "cell_type": "code",
   "execution_count": 2,
   "metadata": {
    "collapsed": false
   },
   "outputs": [],
   "source": [
    "import csv\n",
    "import pandas as pd\n",
    "import numpy as np\n",
    "import seaborn as sns\n",
    "from sklearn.cross_validation import train_test_split\n",
    "from sklearn.neighbors import KNeighborsClassifier\n",
    "from sklearn.metrics import accuracy_score\n",
    "from sklearn.linear_model import LogisticRegression\n",
    "import matplotlib.pyplot as plt\n",
    "from sklearn.learning_curve import learning_curve\n",
    "from sklearn.naive_bayes import GaussianNB\n",
    "from sklearn.svm import SVC\n",
    "from sklearn.tree import DecisionTreeClassifier\n",
    "from sklearn.ensemble import RandomForestClassifier\n",
    "from sklearn.cross_validation import cross_val_score\n",
    "from scipy.stats import mode\n",
    "\n",
    "%matplotlib inline\n",
    "\n",
    "\n",
    "pd.options.mode.chained_assignment = None\n",
    "\n",
    "headers = ['party', 'handicapped_infants', 'water_project_cost_sharing',\n",
    "    'adoption_of_the_budget_resolution', 'physician_fee_freeze', 'el_salvador_aid',\n",
    "    'religious_groups_in_schools', 'anti_satellite_test_ban', 'aid_to_nicaraguan_contras',\n",
    "    'mx_missile', 'immigration', 'synfuels_corporation_cutback','education_spending',\n",
    "    'superfund_right_to_sue', 'crime', 'duty_free_exports', 'export_administration_act_south_africa']\n",
    "\n",
    "# read in data -- NOTE: has no headers\n",
    "data = pd.read_csv(\"~/Desktop/metis/challenge_4/house-votes-84.csv\", header=None,\n",
    "    names=headers)\n",
    "\n",
    "#change yes to 1, no to 0, ? to nan\n",
    "data[data=='y'] = float(1)\n",
    "data[data=='n'] = float(0)\n",
    "data[data=='?'] = np.nan\n",
    "#fill in nan with avg of column, then round to 0 or 1\n",
    "new = data.ix[:, 'handicapped_infants':].apply(lambda x: x.fillna(x.mean()), axis=0)\n",
    "new[new < .5] = float(0)\n",
    "new[new >= .5] = float(1)\n",
    "new['party'] = data['party']"
   ]
  },
  {
   "cell_type": "markdown",
   "metadata": {},
   "source": [
    "##Challenge 2"
   ]
  },
  {
   "cell_type": "code",
   "execution_count": 3,
   "metadata": {
    "collapsed": false
   },
   "outputs": [],
   "source": [
    "def split_data(data):\n",
    "    \"\"\"\n",
    "    @param -> data : pandas DataFrame\n",
    "    @return -> train, test : split into 2 pandas DFs with NO HEADERS\n",
    "    \"\"\"\n",
    "    train, test = train_test_split(data)\n",
    "    train = pd.DataFrame(train)\n",
    "    test = pd.DataFrame(test)\n",
    "    return train, test\n",
    "\n",
    "train, test = split_data(new)"
   ]
  },
  {
   "cell_type": "markdown",
   "metadata": {},
   "source": [
    "##Challenge 3"
   ]
  },
  {
   "cell_type": "code",
   "execution_count": 4,
   "metadata": {
    "collapsed": false
   },
   "outputs": [
    {
     "name": "stdout",
     "output_type": "stream",
     "text": [
      "k = 20, 0.94495412844\n"
     ]
    }
   ],
   "source": [
    "#KNN\n",
    "train_X = train.ix[:, :15]\n",
    "train_y = train.ix[:, 16]\n",
    "test_X = test.ix[:, :15]\n",
    "test_y = test.ix[:, 16]\n",
    "\n",
    "\n",
    "knn_3 = KNeighborsClassifier(n_neighbors=5)\n",
    "knn_3.fit(train_X, train_y)\n",
    "result = knn_3.predict(test_X)\n",
    "#print accuracy_score(test_y, result)\n",
    "\n",
    "#find best k where k = 1,...,20\n",
    "def find_best_k(train_X, train_y, test_X, test_y):\n",
    "    best_k_num = 0\n",
    "    best_k_result = 0\n",
    "    for i in xrange(1,21):\n",
    "        knn = KNeighborsClassifier(n_neighbors=i)\n",
    "        knn.fit(train_X, train_y)\n",
    "        result = knn.predict(test_X)\n",
    "        accuracy = accuracy_score(test_y, result)\n",
    "        if accuracy > best_k_result:\n",
    "            best_k_result = accuracy\n",
    "            best_k_num = i\n",
    "    return 'k = ' + str(i) + ', ' + str(best_k_result)\n",
    "\n",
    "print find_best_k(train_X, train_y, test_X, test_y)"
   ]
  },
  {
   "cell_type": "markdown",
   "metadata": {},
   "source": [
    "##Challenge 4"
   ]
  },
  {
   "cell_type": "code",
   "execution_count": 5,
   "metadata": {
    "collapsed": false
   },
   "outputs": [
    {
     "name": "stdout",
     "output_type": "stream",
     "text": [
      "0.954128440367\n"
     ]
    }
   ],
   "source": [
    "#use logistic regression to predict \n",
    "logit = LogisticRegression()\n",
    "logit.fit(train_X, train_y)\n",
    "result = logit.predict(test_X)\n",
    "logit_accuracy = accuracy_score(test_y, result)\n",
    "print logit_accuracy"
   ]
  },
  {
   "cell_type": "markdown",
   "metadata": {},
   "source": [
    "##Challenge 5"
   ]
  },
  {
   "cell_type": "code",
   "execution_count": 6,
   "metadata": {
    "collapsed": false
   },
   "outputs": [
    {
     "data": {
      "image/png": "[encoded data removed]",
      "text/plain": [
       "<matplotlib.figure.Figure at 0x10dbe5810>"
      ]
     },
     "metadata": {},
     "output_type": "display_data"
    },
    {
     "name": "stdout",
     "output_type": "stream",
     "text": [
      "0.587155963303\n",
      "0.412844036697\n"
     ]
    }
   ],
   "source": [
    "flatui = [\"#3498db\", \"#e74c3c\"]\n",
    "sns.barplot(x=new['party'],dropna=True, palette=flatui)\n",
    "sns.despine(left=True, right=True, bottom=True)\n",
    "plt.title('Party Membership')\n",
    "plt.xlabel('Party')\n",
    "plt.ylabel('Count')\n",
    "#plt.xticks(rotation = 60)\n",
    "plt.gcf().subplots_adjust(bottom=0.25)\n",
    "plt.show()\n",
    "\n",
    "def fake_predict(X, fake_y):\n",
    "    return [fake_y for x in range(len(X))]\n",
    "\n",
    "fake_dems = fake_predict(test_X, \"democrat\")\n",
    "fake_rep = fake_predict(test_X, \"republican\")\n",
    "\n",
    "print accuracy_score(fake_dems, result)\n",
    "print accuracy_score(fake_rep, result)"
   ]
  },
  {
   "cell_type": "markdown",
   "metadata": {},
   "source": [
    "##Challenge 6"
   ]
  },
  {
   "cell_type": "code",
   "execution_count": 7,
   "metadata": {
    "collapsed": false
   },
   "outputs": [
    {
     "data": {
      "image/png": "[encoded data removed]",
      "text/plain": [
       "<matplotlib.figure.Figure at 0x10dbf3790>"
      ]
     },
     "metadata": {},
     "output_type": "display_data"
    }
   ],
   "source": [
    "#plot accuracies\n",
    "def find_all_k(train_X, train_y, test_X, test_y):\n",
    "    k_nums = []\n",
    "    k_results = []\n",
    "    for i in xrange(1,21):\n",
    "        knn = KNeighborsClassifier(n_neighbors=i)\n",
    "        knn.fit(train_X, train_y)\n",
    "        result = knn.predict(test_X)\n",
    "        accuracy = accuracy_score(test_y, result)\n",
    "        k_nums.append(i)\n",
    "        k_results.append(accuracy)\n",
    "    return k_nums, k_results\n",
    "\n",
    "k_nums, k_results = find_all_k(train_X, train_y, test_X, test_y)\n",
    "\n",
    "plt.scatter(k_nums, k_results)\n",
    "plt.title('Regression Results')\n",
    "plt.xlabel('K')\n",
    "plt.ylabel('Accuracy')\n",
    "plt.plot([0,25], [logit_accuracy, logit_accuracy], label=\"Logistic Regression\", lw=3)\n",
    "plt.annotate('local max', xy=(.945, 20), xytext=(3, 1.5),\n",
    "            arrowprops=dict(facecolor='black', shrink=0.05),\n",
    "            )\n",
    "plt.show()\n"
   ]
  },
  {
   "cell_type": "markdown",
   "metadata": {
    "collapsed": true
   },
   "source": [
    "##Challenge 7"
   ]
  },
  {
   "cell_type": "code",
   "execution_count": 8,
   "metadata": {
    "collapsed": false
   },
   "outputs": [
    {
     "data": {
      "text/plain": [
       "<matplotlib.text.Text at 0x10dccb790>"
      ]
     },
     "execution_count": 8,
     "metadata": {},
     "output_type": "execute_result"
    },
    {
     "data": {
      "image/png": "[encoded data removed]",
      "text/plain": [
       "<matplotlib.figure.Figure at 0x10054c310>"
      ]
     },
     "metadata": {},
     "output_type": "display_data"
    }
   ],
   "source": [
    "new_X = new.ix[:,:15]\n",
    "new_y = new.ix[:,16]\n",
    "split_size, train_err_knn, test_err_knn = learning_curve(KNeighborsClassifier(n_neighbors=5), new_X, new_y)\n",
    "train_cv_err = np.mean(train_err_knn, axis=1)\n",
    "test_cv_err = np.mean(test_err_knn, axis=1)\n",
    "\n",
    "plt.plot(split_size, train_cv_err,'o-', label=\"Train KNN\")\n",
    "plt.plot(split_size, test_cv_err, 'o-', label=\"Test KNN\")\n",
    "plt.legend(['Train', 'Test'])\n",
    "plt.title('KNN Learning Curve (n=5)')\n",
    "plt.xlabel('Size Sample')\n",
    "plt.ylabel('Accuracy')"
   ]
  },
  {
   "cell_type": "code",
   "execution_count": 9,
   "metadata": {
    "collapsed": false
   },
   "outputs": [
    {
     "data": {
      "text/plain": [
       "<matplotlib.text.Text at 0x10dcd85d0>"
      ]
     },
     "execution_count": 9,
     "metadata": {},
     "output_type": "execute_result"
    },
    {
     "data": {
      "image/png": "[encoded data removed]",
      "text/plain": [
       "<matplotlib.figure.Figure at 0x106b3fa90>"
      ]
     },
     "metadata": {},
     "output_type": "display_data"
    }
   ],
   "source": [
    "split_size, train_err_logit, test_err_logit = learning_curve(LogisticRegression(), new_X, new_y)\n",
    "train_cv_err = np.mean(train_err_logit, axis=1)\n",
    "test_cv_err = np.mean(test_err_logit, axis=1)\n",
    "\n",
    "plt.plot(split_size, train_cv_err,'o-', label=\"Train Logit\")\n",
    "plt.plot(split_size, test_cv_err, 'o-', label=\"Test Logit\")\n",
    "plt.legend(['Train', 'Test'])\n",
    "plt.title('Logistic Regression Learning Curve')\n",
    "plt.xlabel('Size Sample')\n",
    "plt.ylabel('Accuracy')"
   ]
  },
  {
   "cell_type": "markdown",
   "metadata": {},
   "source": [
    "##Challenge 8"
   ]
  },
  {
   "cell_type": "code",
   "execution_count": 10,
   "metadata": {
    "collapsed": false,
    "scrolled": true
   },
   "outputs": [
    {
     "name": "stdout",
     "output_type": "stream",
     "text": [
      "GaussianNB accuracy: 0.94495412844\n"
     ]
    }
   ],
   "source": [
    "gaussian = GaussianNB()\n",
    "gaussian.fit(train_X, train_y)\n",
    "gaus_pred = gaussian.predict(test_X)\n",
    "print \"GaussianNB accuracy: \" + str(accuracy_score(test_y, gaus_pred))"
   ]
  },
  {
   "cell_type": "code",
   "execution_count": 11,
   "metadata": {
    "collapsed": false
   },
   "outputs": [
    {
     "name": "stdout",
     "output_type": "stream",
     "text": [
      "SVC accuracy: 0.94495412844\n"
     ]
    }
   ],
   "source": [
    "svc = SVC()\n",
    "svc.fit(train_X, train_y)\n",
    "svc_pred = svc.predict(test_X)\n",
    "print \"SVC accuracy: \" + str(accuracy_score(test_y, svc_pred))"
   ]
  },
  {
   "cell_type": "code",
   "execution_count": 12,
   "metadata": {
    "collapsed": false
   },
   "outputs": [
    {
     "name": "stdout",
     "output_type": "stream",
     "text": [
      "Decision Tree accuracy: 0.935779816514\n"
     ]
    }
   ],
   "source": [
    "dec_tree = DecisionTreeClassifier()\n",
    "dec_tree.fit(train_X, train_y)\n",
    "dec_tree_pred = dec_tree.predict(test_X)\n",
    "print \"Decision Tree accuracy: \" + str(accuracy_score(test_y, dec_tree_pred))"
   ]
  },
  {
   "cell_type": "code",
   "execution_count": 13,
   "metadata": {
    "collapsed": false
   },
   "outputs": [
    {
     "name": "stdout",
     "output_type": "stream",
     "text": [
      "Random Forest accuracy: 0.94495412844\n"
     ]
    }
   ],
   "source": [
    "random_forest = RandomForestClassifier()\n",
    "random_forest.fit(train_X, train_y)\n",
    "random_forest_pred = random_forest.predict(test_X)\n",
    "print  \"Random Forest accuracy: \" + str(accuracy_score(test_y, random_forest_pred))"
   ]
  },
  {
   "cell_type": "markdown",
   "metadata": {},
   "source": [
    "##Challenge 9"
   ]
  },
  {
   "cell_type": "code",
   "execution_count": 14,
   "metadata": {
    "collapsed": false
   },
   "outputs": [
    {
     "name": "stdout",
     "output_type": "stream",
     "text": [
      "KNN 0.926436781609\n",
      "LOGIT: 0.96091954023\n",
      "NaiveBayes: 0.931034482759\n",
      "SVC: 0.95632183908\n",
      "Decision Tree: 0.931034482759\n",
      "Random Forest: 0.958620689655\n"
     ]
    }
   ],
   "source": [
    "print \"KNN \" + str(np.mean(cross_val_score(KNeighborsClassifier(n_neighbors=5), new_X, new_y)))\n",
    "print \"LOGIT: \" + str(np.mean(cross_val_score(LogisticRegression(), new_X, new_y)))\n",
    "print \"NaiveBayes: \" + str(np.mean(cross_val_score(GaussianNB(), new_X, new_y)))\n",
    "print \"SVC: \" + str(np.mean(cross_val_score(SVC(), new_X, new_y)))\n",
    "print \"Decision Tree: \" + str(np.mean(cross_val_score(DecisionTreeClassifier(), new_X, new_y)))\n",
    "print \"Random Forest: \" + str(np.mean(cross_val_score(RandomForestClassifier(), new_X, new_y)))\n"
   ]
  },
  {
   "cell_type": "markdown",
   "metadata": {},
   "source": [
    "##Challenge 10"
   ]
  },
  {
   "cell_type": "code",
   "execution_count": 15,
   "metadata": {
    "collapsed": false
   },
   "outputs": [
    {
     "name": "stdout",
     "output_type": "stream",
     "text": [
      "0.779816513761\n"
     ]
    },
    {
     "name": "stderr",
     "output_type": "stream",
     "text": [
      "/Library/Frameworks/Python.framework/Versions/2.7/lib/python2.7/site-packages/numpy/lib/arraysetops.py:197: FutureWarning: numpy not_equal will not check object identity in the future. The comparison did not return the same result as suggested by the identity (`is`)) and will change.\n",
      "  flag = np.concatenate(([True], aux[1:] != aux[:-1]))\n"
     ]
    }
   ],
   "source": [
    "data = pd.read_csv(\"~/Desktop/metis/challenge_4/house-votes-84.csv\", header=None,\n",
    "    names=headers)\n",
    "data[data=='y'] = float(1)\n",
    "data[data=='n'] = float(0)\n",
    "data[data=='?'] = np.nan\n",
    "new = data.ix[:, 'handicapped_infants':].apply(lambda x: x.fillna(mode(x)[0][0]), axis=0)\n",
    "#new['party'] = data['party']\n",
    "\n",
    "train, test = split_data(new)\n",
    "train_X = train.ix[:, :14]\n",
    "train_y = train.ix[:, 15]\n",
    "test_X = test.ix[:, :14]\n",
    "test_y = test.ix[:, 15]\n",
    "\n",
    "#use logistic regression to predict \n",
    "logit = LogisticRegression()\n",
    "logit.fit(train_X, train_y)\n",
    "result = logit.predict(test_X)\n",
    "logit_accuracy = accuracy_score(test_y, result)\n",
    "print logit_accuracy"
   ]
  },
  {
   "cell_type": "markdown",
   "metadata": {},
   "source": [
    "##Challenge 11"
   ]
  },
  {
   "cell_type": "code",
   "execution_count": 16,
   "metadata": {
    "collapsed": false
   },
   "outputs": [
    {
     "data": {
      "image/png": "[encoded data removed]",
      "text/plain": [
       "<matplotlib.figure.Figure at 0x10e3de050>"
      ]
     },
     "metadata": {},
     "output_type": "display_data"
    }
   ],
   "source": [
    "data = pd.read_csv(\"~/Desktop/metis/project_luther/final_data_genre.csv\")\n",
    "data = data.dropna(subset=['genre'])\n",
    "sns.barplot(data['genre'], palette=\"Paired\")\n",
    "sns.despine(left = True, right = True, bottom = True)\n",
    "plt.title('# Movies in each Genre')\n",
    "plt.xlabel('Genres')\n",
    "plt.ylabel('Count')\n",
    "plt.xticks(rotation = 90)\n",
    "plt.gcf().subplots_adjust(bottom=0.25)"
   ]
  },
  {
   "cell_type": "code",
   "execution_count": 17,
   "metadata": {
    "collapsed": false
   },
   "outputs": [
    {
     "ename": "ValueError",
     "evalue": "could not convert string to float: N/A000000",
     "output_type": "error",
     "traceback": [
      "\u001b[0;31m---------------------------------------------------------------------------\u001b[0m",
      "\u001b[0;31mValueError\u001b[0m                                Traceback (most recent call last)",
      "\u001b[0;32m<ipython-input-17-98cd2d05731a>\u001b[0m in \u001b[0;36m<module>\u001b[0;34m()\u001b[0m\n\u001b[1;32m     42\u001b[0m \u001b[0;31m# predict genres using Logit\u001b[0m\u001b[0;34m\u001b[0m\u001b[0;34m\u001b[0m\u001b[0m\n\u001b[1;32m     43\u001b[0m \u001b[0mlogit\u001b[0m \u001b[0;34m=\u001b[0m \u001b[0mLogisticRegression\u001b[0m\u001b[0;34m(\u001b[0m\u001b[0;34m)\u001b[0m\u001b[0;34m\u001b[0m\u001b[0m\n\u001b[0;32m---> 44\u001b[0;31m \u001b[0mlogit\u001b[0m\u001b[0;34m.\u001b[0m\u001b[0mfit\u001b[0m\u001b[0;34m(\u001b[0m\u001b[0mtr_mov_X\u001b[0m\u001b[0;34m,\u001b[0m \u001b[0mts_mov_y\u001b[0m\u001b[0;34m)\u001b[0m\u001b[0;34m\u001b[0m\u001b[0m\n\u001b[0m\u001b[1;32m     45\u001b[0m \u001b[0mresult\u001b[0m \u001b[0;34m=\u001b[0m \u001b[0mlogit\u001b[0m\u001b[0;34m.\u001b[0m\u001b[0mpredict\u001b[0m\u001b[0;34m(\u001b[0m\u001b[0mts_mov_X\u001b[0m\u001b[0;34m)\u001b[0m\u001b[0;34m\u001b[0m\u001b[0m\n\u001b[1;32m     46\u001b[0m \u001b[0mlogit_accuracy\u001b[0m \u001b[0;34m=\u001b[0m \u001b[0maccuracy_score\u001b[0m\u001b[0;34m(\u001b[0m\u001b[0mts_mov_y\u001b[0m\u001b[0;34m,\u001b[0m \u001b[0mresult\u001b[0m\u001b[0;34m)\u001b[0m\u001b[0;34m\u001b[0m\u001b[0m\n",
      "\u001b[0;32m/Library/Frameworks/Python.framework/Versions/2.7/lib/python2.7/site-packages/sklearn/svm/base.pyc\u001b[0m in \u001b[0;36mfit\u001b[0;34m(self, X, y)\u001b[0m\n\u001b[1;32m    677\u001b[0m                              \" one.\")\n\u001b[1;32m    678\u001b[0m \u001b[0;34m\u001b[0m\u001b[0m\n\u001b[0;32m--> 679\u001b[0;31m         \u001b[0mX\u001b[0m \u001b[0;34m=\u001b[0m \u001b[0matleast2d_or_csr\u001b[0m\u001b[0;34m(\u001b[0m\u001b[0mX\u001b[0m\u001b[0;34m,\u001b[0m \u001b[0mdtype\u001b[0m\u001b[0;34m=\u001b[0m\u001b[0mnp\u001b[0m\u001b[0;34m.\u001b[0m\u001b[0mfloat64\u001b[0m\u001b[0;34m,\u001b[0m \u001b[0morder\u001b[0m\u001b[0;34m=\u001b[0m\u001b[0;34m\"C\"\u001b[0m\u001b[0;34m)\u001b[0m\u001b[0;34m\u001b[0m\u001b[0m\n\u001b[0m\u001b[1;32m    680\u001b[0m \u001b[0;34m\u001b[0m\u001b[0m\n\u001b[1;32m    681\u001b[0m         self.class_weight_ = compute_class_weight(self.class_weight,\n",
      "\u001b[0;32m/Library/Frameworks/Python.framework/Versions/2.7/lib/python2.7/site-packages/sklearn/utils/validation.pyc\u001b[0m in \u001b[0;36matleast2d_or_csr\u001b[0;34m(X, dtype, order, copy, force_all_finite)\u001b[0m\n\u001b[1;32m    163\u001b[0m     return _atleast2d_or_sparse(X, dtype, order, copy, sp.csr_matrix,\n\u001b[1;32m    164\u001b[0m                                 \u001b[0;34m\"tocsr\"\u001b[0m\u001b[0;34m,\u001b[0m \u001b[0msp\u001b[0m\u001b[0;34m.\u001b[0m\u001b[0misspmatrix_csr\u001b[0m\u001b[0;34m,\u001b[0m\u001b[0;34m\u001b[0m\u001b[0m\n\u001b[0;32m--> 165\u001b[0;31m                                 force_all_finite)\n\u001b[0m\u001b[1;32m    166\u001b[0m \u001b[0;34m\u001b[0m\u001b[0m\n\u001b[1;32m    167\u001b[0m \u001b[0;34m\u001b[0m\u001b[0m\n",
      "\u001b[0;32m/Library/Frameworks/Python.framework/Versions/2.7/lib/python2.7/site-packages/sklearn/utils/validation.pyc\u001b[0m in \u001b[0;36m_atleast2d_or_sparse\u001b[0;34m(X, dtype, order, copy, sparse_class, convmethod, check_same_type, force_all_finite)\u001b[0m\n\u001b[1;32m    140\u001b[0m     \u001b[0;32melse\u001b[0m\u001b[0;34m:\u001b[0m\u001b[0;34m\u001b[0m\u001b[0m\n\u001b[1;32m    141\u001b[0m         X = array2d(X, dtype=dtype, order=order, copy=copy,\n\u001b[0;32m--> 142\u001b[0;31m                     force_all_finite=force_all_finite)\n\u001b[0m\u001b[1;32m    143\u001b[0m     \u001b[0;32mreturn\u001b[0m \u001b[0mX\u001b[0m\u001b[0;34m\u001b[0m\u001b[0m\n\u001b[1;32m    144\u001b[0m \u001b[0;34m\u001b[0m\u001b[0m\n",
      "\u001b[0;32m/Library/Frameworks/Python.framework/Versions/2.7/lib/python2.7/site-packages/sklearn/utils/validation.pyc\u001b[0m in \u001b[0;36marray2d\u001b[0;34m(X, dtype, order, copy, force_all_finite)\u001b[0m\n\u001b[1;32m    118\u001b[0m         raise TypeError('A sparse matrix was passed, but dense data '\n\u001b[1;32m    119\u001b[0m                         'is required. Use X.toarray() to convert to dense.')\n\u001b[0;32m--> 120\u001b[0;31m     \u001b[0mX_2d\u001b[0m \u001b[0;34m=\u001b[0m \u001b[0mnp\u001b[0m\u001b[0;34m.\u001b[0m\u001b[0masarray\u001b[0m\u001b[0;34m(\u001b[0m\u001b[0mnp\u001b[0m\u001b[0;34m.\u001b[0m\u001b[0matleast_2d\u001b[0m\u001b[0;34m(\u001b[0m\u001b[0mX\u001b[0m\u001b[0;34m)\u001b[0m\u001b[0;34m,\u001b[0m \u001b[0mdtype\u001b[0m\u001b[0;34m=\u001b[0m\u001b[0mdtype\u001b[0m\u001b[0;34m,\u001b[0m \u001b[0morder\u001b[0m\u001b[0;34m=\u001b[0m\u001b[0morder\u001b[0m\u001b[0;34m)\u001b[0m\u001b[0;34m\u001b[0m\u001b[0m\n\u001b[0m\u001b[1;32m    121\u001b[0m     \u001b[0;32mif\u001b[0m \u001b[0mforce_all_finite\u001b[0m\u001b[0;34m:\u001b[0m\u001b[0;34m\u001b[0m\u001b[0m\n\u001b[1;32m    122\u001b[0m         \u001b[0m_assert_all_finite\u001b[0m\u001b[0;34m(\u001b[0m\u001b[0mX_2d\u001b[0m\u001b[0;34m)\u001b[0m\u001b[0;34m\u001b[0m\u001b[0m\n",
      "\u001b[0;32m/Library/Frameworks/Python.framework/Versions/2.7/lib/python2.7/site-packages/numpy/core/numeric.pyc\u001b[0m in \u001b[0;36masarray\u001b[0;34m(a, dtype, order)\u001b[0m\n\u001b[1;32m    460\u001b[0m \u001b[0;34m\u001b[0m\u001b[0m\n\u001b[1;32m    461\u001b[0m     \"\"\"\n\u001b[0;32m--> 462\u001b[0;31m     \u001b[0;32mreturn\u001b[0m \u001b[0marray\u001b[0m\u001b[0;34m(\u001b[0m\u001b[0ma\u001b[0m\u001b[0;34m,\u001b[0m \u001b[0mdtype\u001b[0m\u001b[0;34m,\u001b[0m \u001b[0mcopy\u001b[0m\u001b[0;34m=\u001b[0m\u001b[0mFalse\u001b[0m\u001b[0;34m,\u001b[0m \u001b[0morder\u001b[0m\u001b[0;34m=\u001b[0m\u001b[0morder\u001b[0m\u001b[0;34m)\u001b[0m\u001b[0;34m\u001b[0m\u001b[0m\n\u001b[0m\u001b[1;32m    463\u001b[0m \u001b[0;34m\u001b[0m\u001b[0m\n\u001b[1;32m    464\u001b[0m \u001b[0;32mdef\u001b[0m \u001b[0masanyarray\u001b[0m\u001b[0;34m(\u001b[0m\u001b[0ma\u001b[0m\u001b[0;34m,\u001b[0m \u001b[0mdtype\u001b[0m\u001b[0;34m=\u001b[0m\u001b[0mNone\u001b[0m\u001b[0;34m,\u001b[0m \u001b[0morder\u001b[0m\u001b[0;34m=\u001b[0m\u001b[0mNone\u001b[0m\u001b[0;34m)\u001b[0m\u001b[0;34m:\u001b[0m\u001b[0;34m\u001b[0m\u001b[0m\n",
      "\u001b[0;31mValueError\u001b[0m: could not convert string to float: N/A000000"
     ]
    }
   ],
   "source": [
    "# #remove commas from theater number and rank in history\n",
    "#data['number_theaters'] = data['number_theaters'].apply(lambda x: x.lstrip(',') if type(x) == str else x)\n",
    "#data['rank_history'] = data['rank_history'].apply(lambda x: str(x).lstrip(','))\n",
    "# #data['runtime'] = data['runtime'].apply(str)\n",
    "\n",
    "# # make dummy variables\n",
    "# # data = pd.concat([data, pd.get_dummies(data, columns=['actors', 'director', 'distributor'])], axis=1)\n",
    "\n",
    "data['runtime'] = data['runtime'].apply(lambda a: int(a.split()[0])*60 + int(a.split()[2]))\n",
    "\n",
    "\n",
    "# # split into train and test\n",
    "tr_mov, ts_mov = split_data(data)\n",
    "\n",
    "# # print data.head(50)\n",
    "\n",
    "\n",
    "# # readd headers\n",
    "headers = ['movie_title', 'domestic_total_gross', 'runtime', 'budget',\n",
    "'release_date', 'distributor', 'genre', 'actors', 'director',\n",
    "'producers', 'rank_year', 'rank_history', 'number_theaters',\n",
    "'close_date', 'imdb_rating', 'metascore_rating', 'rt_critics',\n",
    "'rt_audience', 'video_sales']\n",
    "d = dict(zip(range(0,20), headers))\n",
    "tr_mov.rename(columns=d, inplace=True)\n",
    "ts_mov.rename(columns=d, inplace=True)\n",
    "\n",
    "# #ts_mov = pd.concat([ts_mov, pd.get_dummies(tr_mov, columns=['actors', 'director', 'distributor'])], axis=1)\n",
    "\n",
    "#split into X (all but genre) and y (only genre)\n",
    "tr_mov_y = tr_mov['genre']\n",
    "\n",
    "tr_mov_X = tr_mov.drop(['movie_title', 'release_date', 'distributor', 'rank_history', 'number_theaters',\n",
    "                        'genre', 'actors', 'director','producers','rank_year',\n",
    "                        'close_date','video_sales'], axis=1)\n",
    "\n",
    "ts_mov_y = ts_mov['genre']\n",
    "ts_mov_X = ts_mov.drop(['movie_title', 'release_date', 'distributor', 'rank_history', 'number_theaters',\n",
    "                        'genre', 'actors', 'director','producers', 'rank_year',\n",
    "                        'close_date','video_sales'], axis=1)\n",
    "\n",
    "# predict genres using Logit\n",
    "logit = LogisticRegression()\n",
    "logit.fit(tr_mov_X, ts_mov_y)\n",
    "result = logit.predict(ts_mov_X)\n",
    "logit_accuracy = accuracy_score(ts_mov_y, result)\n",
    "print logit_accuracy"
   ]
  },
  {
   "cell_type": "code",
   "execution_count": 18,
   "metadata": {
    "collapsed": false
   },
   "outputs": [
    {
     "data": {
      "image/png": "[encoded data removed]",
      "text/plain": [
       "<matplotlib.figure.Figure at 0x10eead390>"
      ]
     },
     "metadata": {},
     "output_type": "display_data"
    }
   ],
   "source": [
    "data = pd.read_csv(\"~/Desktop/metis/challenge_4/2013_movies.csv\")\n",
    "data = data.dropna(subset=['Rating'])\n",
    "sns.barplot(data['Rating'], palette=\"Paired\")\n",
    "sns.despine(left = True, right = True, bottom = True)\n",
    "plt.title('# Movies in each Rating')\n",
    "plt.xlabel('Rating')\n",
    "plt.ylabel('Count')\n",
    "plt.xticks(rotation = 90)\n",
    "plt.gcf().subplots_adjust(bottom=0.25)"
   ]
  },
  {
   "cell_type": "code",
   "execution_count": 19,
   "metadata": {
    "collapsed": false
   },
   "outputs": [
    {
     "name": "stdout",
     "output_type": "stream",
     "text": [
      "                      0        1          2                        3      4  \\\n",
      "0     We're the Millers  3.7e+07  150394119  Rawson Marshall Thurber      R   \n",
      "1  Thor: The Dark World  1.7e+08  206362140              Alan Taylor  PG-13   \n",
      "2   Monsters University      NaN  268492764              Dan Scanlon      G   \n",
      "3             Philomena  1.2e+07   37709979           Stephen Frears  PG-13   \n",
      "4          Delivery Man  2.6e+07   30664106                Ken Scott  PG-13   \n",
      "\n",
      "     5                    6  \n",
      "0  110  2013-08-07 00:00:00  \n",
      "1  120  2013-11-08 00:00:00  \n",
      "2  107  2013-06-21 00:00:00  \n",
      "3   95  2013-11-22 00:00:00  \n",
      "4  105  2013-11-22 00:00:00  \n"
     ]
    },
    {
     "ename": "TypeError",
     "evalue": "unhashable type: 'Index'",
     "output_type": "error",
     "traceback": [
      "\u001b[0;31m---------------------------------------------------------------------------\u001b[0m",
      "\u001b[0;31mTypeError\u001b[0m                                 Traceback (most recent call last)",
      "\u001b[0;32m<ipython-input-19-16d59bbad58d>\u001b[0m in \u001b[0;36m<module>\u001b[0;34m()\u001b[0m\n\u001b[1;32m     11\u001b[0m \u001b[0mtr_mov_y\u001b[0m \u001b[0;34m=\u001b[0m \u001b[0mtr_mov\u001b[0m\u001b[0;34m[\u001b[0m\u001b[0;36m4\u001b[0m\u001b[0;34m]\u001b[0m\u001b[0;34m\u001b[0m\u001b[0m\n\u001b[1;32m     12\u001b[0m \u001b[0;34m\u001b[0m\u001b[0m\n\u001b[0;32m---> 13\u001b[0;31m \u001b[0mtr_mov_X\u001b[0m \u001b[0;34m=\u001b[0m \u001b[0mtr_mov\u001b[0m\u001b[0;34m.\u001b[0m\u001b[0mdrop\u001b[0m\u001b[0;34m(\u001b[0m\u001b[0;34m[\u001b[0m\u001b[0mtr_mov_X\u001b[0m\u001b[0;34m.\u001b[0m\u001b[0mcolumns\u001b[0m\u001b[0;34m[\u001b[0m\u001b[0;34m[\u001b[0m\u001b[0;36m0\u001b[0m\u001b[0;34m,\u001b[0m \u001b[0;36m3\u001b[0m\u001b[0;34m,\u001b[0m \u001b[0;36m4\u001b[0m\u001b[0;34m,\u001b[0m \u001b[0;36m6\u001b[0m\u001b[0;34m]\u001b[0m\u001b[0;34m]\u001b[0m\u001b[0;34m]\u001b[0m\u001b[0;34m,\u001b[0m \u001b[0maxis\u001b[0m\u001b[0;34m=\u001b[0m\u001b[0;36m1\u001b[0m\u001b[0;34m)\u001b[0m\u001b[0;34m\u001b[0m\u001b[0m\n\u001b[0m\u001b[1;32m     14\u001b[0m \u001b[0mts_mov_y\u001b[0m \u001b[0;34m=\u001b[0m \u001b[0mts_mov\u001b[0m\u001b[0;34m[\u001b[0m\u001b[0;36m4\u001b[0m\u001b[0;34m]\u001b[0m\u001b[0;34m\u001b[0m\u001b[0m\n\u001b[1;32m     15\u001b[0m \u001b[0mts_mov_X\u001b[0m \u001b[0;34m=\u001b[0m \u001b[0mts_mov\u001b[0m\u001b[0;34m.\u001b[0m\u001b[0mdrop\u001b[0m\u001b[0;34m(\u001b[0m\u001b[0;34m[\u001b[0m\u001b[0mtr_mov_X\u001b[0m\u001b[0;34m.\u001b[0m\u001b[0mcolumns\u001b[0m\u001b[0;34m[\u001b[0m\u001b[0;34m[\u001b[0m\u001b[0;36m0\u001b[0m\u001b[0;34m,\u001b[0m \u001b[0;36m3\u001b[0m\u001b[0;34m,\u001b[0m \u001b[0;36m4\u001b[0m\u001b[0;34m,\u001b[0m \u001b[0;36m6\u001b[0m\u001b[0;34m]\u001b[0m\u001b[0;34m]\u001b[0m\u001b[0;34m]\u001b[0m\u001b[0;34m,\u001b[0m \u001b[0maxis\u001b[0m\u001b[0;34m=\u001b[0m\u001b[0;36m1\u001b[0m\u001b[0;34m)\u001b[0m\u001b[0;34m\u001b[0m\u001b[0m\n",
      "\u001b[0;32m/Library/Frameworks/Python.framework/Versions/2.7/lib/python2.7/site-packages/pandas/core/generic.pyc\u001b[0m in \u001b[0;36mdrop\u001b[0;34m(self, labels, axis, level, inplace)\u001b[0m\n\u001b[1;32m   1584\u001b[0m                 \u001b[0mnew_axis\u001b[0m \u001b[0;34m=\u001b[0m \u001b[0maxis\u001b[0m\u001b[0;34m.\u001b[0m\u001b[0mdrop\u001b[0m\u001b[0;34m(\u001b[0m\u001b[0mlabels\u001b[0m\u001b[0;34m,\u001b[0m \u001b[0mlevel\u001b[0m\u001b[0;34m=\u001b[0m\u001b[0mlevel\u001b[0m\u001b[0;34m)\u001b[0m\u001b[0;34m\u001b[0m\u001b[0m\n\u001b[1;32m   1585\u001b[0m             \u001b[0;32melse\u001b[0m\u001b[0;34m:\u001b[0m\u001b[0;34m\u001b[0m\u001b[0m\n\u001b[0;32m-> 1586\u001b[0;31m                 \u001b[0mnew_axis\u001b[0m \u001b[0;34m=\u001b[0m \u001b[0maxis\u001b[0m\u001b[0;34m.\u001b[0m\u001b[0mdrop\u001b[0m\u001b[0;34m(\u001b[0m\u001b[0mlabels\u001b[0m\u001b[0;34m)\u001b[0m\u001b[0;34m\u001b[0m\u001b[0m\n\u001b[0m\u001b[1;32m   1587\u001b[0m             \u001b[0mdropped\u001b[0m \u001b[0;34m=\u001b[0m \u001b[0mself\u001b[0m\u001b[0;34m.\u001b[0m\u001b[0mreindex\u001b[0m\u001b[0;34m(\u001b[0m\u001b[0;34m**\u001b[0m\u001b[0;34m{\u001b[0m\u001b[0maxis_name\u001b[0m\u001b[0;34m:\u001b[0m \u001b[0mnew_axis\u001b[0m\u001b[0;34m}\u001b[0m\u001b[0;34m)\u001b[0m\u001b[0;34m\u001b[0m\u001b[0m\n\u001b[1;32m   1588\u001b[0m             \u001b[0;32mtry\u001b[0m\u001b[0;34m:\u001b[0m\u001b[0;34m\u001b[0m\u001b[0m\n",
      "\u001b[0;32m/Library/Frameworks/Python.framework/Versions/2.7/lib/python2.7/site-packages/pandas/core/index.pyc\u001b[0m in \u001b[0;36mdrop\u001b[0;34m(self, labels)\u001b[0m\n\u001b[1;32m   2339\u001b[0m         \"\"\"\n\u001b[1;32m   2340\u001b[0m         \u001b[0mlabels\u001b[0m \u001b[0;34m=\u001b[0m \u001b[0mcom\u001b[0m\u001b[0;34m.\u001b[0m\u001b[0m_index_labels_to_array\u001b[0m\u001b[0;34m(\u001b[0m\u001b[0mlabels\u001b[0m\u001b[0;34m)\u001b[0m\u001b[0;34m\u001b[0m\u001b[0m\n\u001b[0;32m-> 2341\u001b[0;31m         \u001b[0mindexer\u001b[0m \u001b[0;34m=\u001b[0m \u001b[0mself\u001b[0m\u001b[0;34m.\u001b[0m\u001b[0mget_indexer\u001b[0m\u001b[0;34m(\u001b[0m\u001b[0mlabels\u001b[0m\u001b[0;34m)\u001b[0m\u001b[0;34m\u001b[0m\u001b[0m\n\u001b[0m\u001b[1;32m   2342\u001b[0m         \u001b[0mmask\u001b[0m \u001b[0;34m=\u001b[0m \u001b[0mindexer\u001b[0m \u001b[0;34m==\u001b[0m \u001b[0;34m-\u001b[0m\u001b[0;36m1\u001b[0m\u001b[0;34m\u001b[0m\u001b[0m\n\u001b[1;32m   2343\u001b[0m         \u001b[0;32mif\u001b[0m \u001b[0mmask\u001b[0m\u001b[0;34m.\u001b[0m\u001b[0many\u001b[0m\u001b[0;34m(\u001b[0m\u001b[0;34m)\u001b[0m\u001b[0;34m:\u001b[0m\u001b[0;34m\u001b[0m\u001b[0m\n",
      "\u001b[0;32m/Library/Frameworks/Python.framework/Versions/2.7/lib/python2.7/site-packages/pandas/core/index.pyc\u001b[0m in \u001b[0;36mget_indexer\u001b[0;34m(self, target, method, limit)\u001b[0m\n\u001b[1;32m   1547\u001b[0m             \u001b[0mthis\u001b[0m \u001b[0;34m=\u001b[0m \u001b[0mself\u001b[0m\u001b[0;34m.\u001b[0m\u001b[0mastype\u001b[0m\u001b[0;34m(\u001b[0m\u001b[0mobject\u001b[0m\u001b[0;34m)\u001b[0m\u001b[0;34m\u001b[0m\u001b[0m\n\u001b[1;32m   1548\u001b[0m             \u001b[0mtarget\u001b[0m \u001b[0;34m=\u001b[0m \u001b[0mtarget\u001b[0m\u001b[0;34m.\u001b[0m\u001b[0mastype\u001b[0m\u001b[0;34m(\u001b[0m\u001b[0mobject\u001b[0m\u001b[0;34m)\u001b[0m\u001b[0;34m\u001b[0m\u001b[0m\n\u001b[0;32m-> 1549\u001b[0;31m             \u001b[0;32mreturn\u001b[0m \u001b[0mthis\u001b[0m\u001b[0;34m.\u001b[0m\u001b[0mget_indexer\u001b[0m\u001b[0;34m(\u001b[0m\u001b[0mtarget\u001b[0m\u001b[0;34m,\u001b[0m \u001b[0mmethod\u001b[0m\u001b[0;34m=\u001b[0m\u001b[0mmethod\u001b[0m\u001b[0;34m,\u001b[0m \u001b[0mlimit\u001b[0m\u001b[0;34m=\u001b[0m\u001b[0mlimit\u001b[0m\u001b[0;34m)\u001b[0m\u001b[0;34m\u001b[0m\u001b[0m\n\u001b[0m\u001b[1;32m   1550\u001b[0m \u001b[0;34m\u001b[0m\u001b[0m\n\u001b[1;32m   1551\u001b[0m         \u001b[0;32mif\u001b[0m \u001b[0;32mnot\u001b[0m \u001b[0mself\u001b[0m\u001b[0;34m.\u001b[0m\u001b[0mis_unique\u001b[0m\u001b[0;34m:\u001b[0m\u001b[0;34m\u001b[0m\u001b[0m\n",
      "\u001b[0;32m/Library/Frameworks/Python.framework/Versions/2.7/lib/python2.7/site-packages/pandas/core/index.pyc\u001b[0m in \u001b[0;36mget_indexer\u001b[0;34m(self, target, method, limit)\u001b[0m\n\u001b[1;32m   1558\u001b[0m             \u001b[0mindexer\u001b[0m \u001b[0;34m=\u001b[0m \u001b[0mself\u001b[0m\u001b[0;34m.\u001b[0m\u001b[0m_get_nearest_indexer\u001b[0m\u001b[0;34m(\u001b[0m\u001b[0mtarget\u001b[0m\u001b[0;34m,\u001b[0m \u001b[0mlimit\u001b[0m\u001b[0;34m)\u001b[0m\u001b[0;34m\u001b[0m\u001b[0m\n\u001b[1;32m   1559\u001b[0m         \u001b[0;32melse\u001b[0m\u001b[0;34m:\u001b[0m\u001b[0;34m\u001b[0m\u001b[0m\n\u001b[0;32m-> 1560\u001b[0;31m             \u001b[0mindexer\u001b[0m \u001b[0;34m=\u001b[0m \u001b[0mself\u001b[0m\u001b[0;34m.\u001b[0m\u001b[0m_engine\u001b[0m\u001b[0;34m.\u001b[0m\u001b[0mget_indexer\u001b[0m\u001b[0;34m(\u001b[0m\u001b[0mtarget\u001b[0m\u001b[0;34m.\u001b[0m\u001b[0mvalues\u001b[0m\u001b[0;34m)\u001b[0m\u001b[0;34m\u001b[0m\u001b[0m\n\u001b[0m\u001b[1;32m   1561\u001b[0m \u001b[0;34m\u001b[0m\u001b[0m\n\u001b[1;32m   1562\u001b[0m         \u001b[0;32mreturn\u001b[0m \u001b[0mcom\u001b[0m\u001b[0;34m.\u001b[0m\u001b[0m_ensure_platform_int\u001b[0m\u001b[0;34m(\u001b[0m\u001b[0mindexer\u001b[0m\u001b[0;34m)\u001b[0m\u001b[0;34m\u001b[0m\u001b[0m\n",
      "\u001b[0;32mpandas/index.pyx\u001b[0m in \u001b[0;36mpandas.index.IndexEngine.get_indexer (pandas/index.c:5646)\u001b[0;34m()\u001b[0m\n",
      "\u001b[0;32mpandas/hashtable.pyx\u001b[0m in \u001b[0;36mpandas.hashtable.PyObjectHashTable.lookup (pandas/hashtable.c:13239)\u001b[0;34m()\u001b[0m\n",
      "\u001b[0;32m/Library/Frameworks/Python.framework/Versions/2.7/lib/python2.7/site-packages/pandas/core/index.pyc\u001b[0m in \u001b[0;36m__hash__\u001b[0;34m(self)\u001b[0m\n\u001b[1;32m    917\u001b[0m \u001b[0;34m\u001b[0m\u001b[0m\n\u001b[1;32m    918\u001b[0m     \u001b[0;32mdef\u001b[0m \u001b[0m__hash__\u001b[0m\u001b[0;34m(\u001b[0m\u001b[0mself\u001b[0m\u001b[0;34m)\u001b[0m\u001b[0;34m:\u001b[0m\u001b[0;34m\u001b[0m\u001b[0m\n\u001b[0;32m--> 919\u001b[0;31m         \u001b[0;32mraise\u001b[0m \u001b[0mTypeError\u001b[0m\u001b[0;34m(\u001b[0m\u001b[0;34m\"unhashable type: %r\"\u001b[0m \u001b[0;34m%\u001b[0m \u001b[0mtype\u001b[0m\u001b[0;34m(\u001b[0m\u001b[0mself\u001b[0m\u001b[0;34m)\u001b[0m\u001b[0;34m.\u001b[0m\u001b[0m__name__\u001b[0m\u001b[0;34m)\u001b[0m\u001b[0;34m\u001b[0m\u001b[0m\n\u001b[0m\u001b[1;32m    920\u001b[0m \u001b[0;34m\u001b[0m\u001b[0m\n\u001b[1;32m    921\u001b[0m     \u001b[0;32mdef\u001b[0m \u001b[0m__setitem__\u001b[0m\u001b[0;34m(\u001b[0m\u001b[0mself\u001b[0m\u001b[0;34m,\u001b[0m \u001b[0mkey\u001b[0m\u001b[0;34m,\u001b[0m \u001b[0mvalue\u001b[0m\u001b[0;34m)\u001b[0m\u001b[0;34m:\u001b[0m\u001b[0;34m\u001b[0m\u001b[0m\n",
      "\u001b[0;31mTypeError\u001b[0m: unhashable type: 'Index'"
     ]
    }
   ],
   "source": [
    "\n",
    "# make dummy variables\n",
    "#data = pd.concat([data, pd.get_dummies(data, columns=['Director'])], axis=1)\n",
    "\n",
    "# split into train and test\n",
    "tr_mov, ts_mov = split_data(data)\n",
    "\n",
    "\n",
    "print tr_mov.head()\n",
    "#split into X (all but genre) and y (only genre)\n",
    "tr_mov_y = tr_mov[4]\n",
    "\n",
    "tr_mov_X = tr_mov.drop([tr_mov_X.columns[[0, 3, 4, 6]]], axis=1)\n",
    "ts_mov_y = ts_mov[4]\n",
    "ts_mov_X = ts_mov.drop([tr_mov_X.columns[[0, 3, 4, 6]]], axis=1)\n",
    "\n",
    "# predict genres using Logit\n",
    "logit = LogisticRegression()\n",
    "logit.fit(tr_mov_X, ts_mov_y)\n",
    "result = logit.predict(ts_mov_X)\n",
    "logit_accuracy = accuracy_score(ts_mov_y, result)\n",
    "print logit_accuracy"
   ]
  },
  {
   "cell_type": "markdown",
   "metadata": {},
   "source": [
    "##Challenge 12"
   ]
  },
  {
   "cell_type": "code",
   "execution_count": 25,
   "metadata": {
    "collapsed": false
   },
   "outputs": [
    {
     "name": "stdout",
     "output_type": "stream",
     "text": [
      "306\n",
      "AVG age: 52.4575163399 STDev :10.7857852036\n",
      "AVG age: 53.6790123457 STDev :10.104182193\n",
      "AVG age: 52.0177777778 STDev :10.9876554751\n"
     ]
    }
   ],
   "source": [
    "haberman = pd.read_csv(\"~/Desktop/metis/challenge_4/haberman.csv\", header=None)\n",
    "headers = ['age_patient', 'year_operation', 'pos_nodes', 'survival_status']\n",
    "d = dict(zip(range(0,4), headers))\n",
    "haberman.rename(columns=d, inplace=True)\n",
    "\n",
    "age = haberman['age_patient']\n",
    "print \"AVG age: \" + str(age.mean()), \"STDev :\" + str(np.std(age))\n",
    "\n",
    "surv_5 = haberman[haberman['survival_status'] == 2]\n",
    "age_5 = surv_5['age_patient']\n",
    "print \"AVG age: \" + str(age_5.mean()), \"STDev :\" + str(np.std(age_5))\n",
    "\n",
    "surv_less_5 = haberman[~(haberman['survival_status'] == 2)]\n",
    "age_less_5 = surv_less_5['age_patient']\n",
    "print \"AVG age: \" + str(age_less_5.mean()), \"STDev :\" + str(np.std(age_less_5))"
   ]
  },
  {
   "cell_type": "code",
   "execution_count": 30,
   "metadata": {
    "collapsed": false
   },
   "outputs": [
    {
     "data": {
      "text/plain": [
       "(array([ 0,  1,  2,  3,  4,  5,  6,  7,  8,  9, 10, 11, 12, 13, 14, 15, 16,\n",
       "        17, 18, 19, 20, 21, 22, 23, 24, 25, 26, 27, 28, 29, 30, 31, 32, 33,\n",
       "        34, 35, 36, 37, 38, 39, 40, 41, 42, 43, 44, 45, 46, 47, 48]),\n",
       " <a list of 49 Text xticklabel objects>)"
      ]
     },
     "execution_count": 30,
     "metadata": {},
     "output_type": "execute_result"
    },
    {
     "data": {
      "image/png": "[encoded data removed]",
      "text/plain": [
       "<matplotlib.figure.Figure at 0x10ff19a10>"
      ]
     },
     "metadata": {},
     "output_type": "display_data"
    }
   ],
   "source": [
    "sns.barplot(haberman['age_patient'], palette=\"Paired\")\n",
    "plt.xticks(rotation = 90)\n"
   ]
  },
  {
   "cell_type": "code",
   "execution_count": 31,
   "metadata": {
    "collapsed": false
   },
   "outputs": [
    {
     "data": {
      "text/plain": [
       "(array([ 0,  1,  2,  3,  4,  5,  6,  7,  8,  9, 10, 11, 12, 13, 14, 15, 16,\n",
       "        17, 18, 19, 20, 21, 22, 23, 24, 25, 26, 27, 28, 29, 30]),\n",
       " <a list of 31 Text xticklabel objects>)"
      ]
     },
     "execution_count": 31,
     "metadata": {},
     "output_type": "execute_result"
    },
    {
     "data": {
      "image/png": "[encoded data removed]",
      "text/plain": [
       "<matplotlib.figure.Figure at 0x110612090>"
      ]
     },
     "metadata": {},
     "output_type": "display_data"
    }
   ],
   "source": [
    "sns.barplot(haberman['pos_nodes'], palette=\"Paired\")\n",
    "plt.xticks(rotation = 90)"
   ]
  },
  {
   "cell_type": "code",
   "execution_count": 40,
   "metadata": {
    "collapsed": false
   },
   "outputs": [
    {
     "name": "stdout",
     "output_type": "stream",
     "text": [
      "Earliest Surgery Year: 1958\n"
     ]
    }
   ],
   "source": [
    "print 'Earliest Surgery Year: 19' + str(haberman['year_operation'][haberman['year_operation'].argmin()])"
   ]
  },
  {
   "cell_type": "code",
   "execution_count": 41,
   "metadata": {
    "collapsed": false
   },
   "outputs": [
    {
     "name": "stdout",
     "output_type": "stream",
     "text": [
      "Latest Surgery Year: 1969\n"
     ]
    }
   ],
   "source": [
    "print 'Latest Surgery Year: 19' + str(haberman['year_operation'][haberman['year_operation'].argmax()])"
   ]
  },
  {
   "cell_type": "code",
   "execution_count": 45,
   "metadata": {
    "collapsed": false
   },
   "outputs": [
    {
     "name": "stdout",
     "output_type": "stream",
     "text": [
      "predicting survival accuracy: 0.831168831169\n"
     ]
    }
   ],
   "source": [
    "train, test = split_data(haberman)\n",
    "\n",
    "train_X = train.ix[:, :2]\n",
    "train_y = train.ix[:, 3]\n",
    "test_X = test.ix[:, :2]\n",
    "test_y = test.ix[:, 3]\n",
    "\n",
    "#use logistic regression to predict \n",
    "logit = LogisticRegression()\n",
    "logit.fit(train_X, train_y)\n",
    "result = logit.predict(test_X)\n",
    "logit_accuracy = accuracy_score(test_y, result)\n",
    "print 'predicting survival accuracy: ' + str(logit_accuracy)"
   ]
  },
  {
   "cell_type": "code",
   "execution_count": 48,
   "metadata": {
    "collapsed": false
   },
   "outputs": [
    {
     "name": "stdout",
     "output_type": "stream",
     "text": [
      "<bound method LogisticRegression.get_params of LogisticRegression(C=1.0, class_weight=None, dual=False, fit_intercept=True,\n",
      "          intercept_scaling=1, penalty='l2', random_state=None, tol=0.0001)>\n"
     ]
    }
   ],
   "source": [
    "print logit.get_params"
   ]
  },
  {
   "cell_type": "code",
   "execution_count": 51,
   "metadata": {
    "collapsed": false
   },
   "outputs": [
    {
     "name": "stdout",
     "output_type": "stream",
     "text": [
      "[[ 0.00551424 -0.02231059  0.08290527]]\n",
      "age is a bad predictor, year of operation works against (obviously), number of positive nodes is the best\n"
     ]
    }
   ],
   "source": [
    "print logit.coef_\n",
    "print \"age is a bad predictor, year of operation works against (obviously), number of positive nodes is the best\""
   ]
  },
  {
   "cell_type": "code",
   "execution_count": 52,
   "metadata": {
    "collapsed": false
   },
   "outputs": [
    {
     "data": {
      "text/plain": [
       "<matplotlib.text.Text at 0x110a39150>"
      ]
     },
     "execution_count": 52,
     "metadata": {},
     "output_type": "execute_result"
    },
    {
     "data": {
      "image/png": "[encoded data removed]",
      "text/plain": [
       "<matplotlib.figure.Figure at 0x11062ee10>"
      ]
     },
     "metadata": {},
     "output_type": "display_data"
    }
   ],
   "source": [
    "split_size, train_err_logit, test_err_logit = learning_curve(LogisticRegression(), haberman.ix[:,:2], haberman.ix[:,3])\n",
    "train_cv_err = np.mean(train_err_logit, axis=1)\n",
    "test_cv_err = np.mean(test_err_logit, axis=1)\n",
    "plt.plot(split_size, train_cv_err,'o-', label=\"Train Logit\")\n",
    "plt.title('Logistic Regression Learning Curve')\n",
    "plt.xlabel('Size Sample')\n",
    "plt.ylabel('Accuracy')"
   ]
  },
  {
   "cell_type": "code",
   "execution_count": null,
   "metadata": {
    "collapsed": true
   },
   "outputs": [],
   "source": []
  }
 ],
 "metadata": {
  "kernelspec": {
   "display_name": "Python 2",
   "language": "python",
   "name": "python2"
  },
  "language_info": {
   "codemirror_mode": {
    "name": "ipython",
    "version": 2
   },
   "file_extension": ".py",
   "mimetype": "text/x-python",
   "name": "python",
   "nbconvert_exporter": "python",
   "pygments_lexer": "ipython2",
   "version": "2.7.5"
  }
 },
 "nbformat": 4,
 "nbformat_minor": 0
}
