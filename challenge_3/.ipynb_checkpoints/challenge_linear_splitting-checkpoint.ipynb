{
 "cells": [
  {
   "cell_type": "code",
   "execution_count": 78,
   "metadata": {
    "collapsed": false
   },
   "outputs": [
    {
     "name": "stdout",
     "output_type": "stream",
     "text": [
      "              Title    Budget  DomesticTotalGross              Director  \\\n",
      "95             Rush  38000000            26947624            Ron Howard   \n",
      "96         The Host  40000000            26627201         Andrew Niccol   \n",
      "97  The World's End  20000000            26004851          Edgar Wright   \n",
      "98      21 and Over  13000000            25682380  Jon LucasScott Moore   \n",
      "99              Her  23000000            25568251           Spike Jonze   \n",
      "\n",
      "   Rating  Runtime          ReleaseDate  \n",
      "95      R      123  2013-09-20 00:00:00  \n",
      "96  PG-13      125  2013-03-29 00:00:00  \n",
      "97      R      109  2013-08-23 00:00:00  \n",
      "98      R       93  2013-03-01 00:00:00  \n",
      "99      R      120  2013-12-18 00:00:00  \n",
      "   DomesticTotalGross Rating  RatedR\n",
      "0           424668047  PG-13       0\n",
      "1           409013994  PG-13       0\n",
      "2           400738009     PG       0\n",
      "3           368061265     PG       0\n",
      "4           291045518  PG-13       0\n",
      "   DomesticTotalGross  RatedR\n",
      "0           424668047       0\n",
      "1           409013994       0\n",
      "2           400738009       0\n",
      "3           368061265       0\n",
      "4           291045518       0\n",
      "Intercept    1.005969e+08\n",
      "dtype: float64\n",
      "                            OLS Regression Results                            \n",
      "==============================================================================\n",
      "Dep. Variable:     DomesticTotalGross   R-squared:                       0.000\n",
      "Model:                            OLS   Adj. R-squared:                  0.000\n",
      "Method:                 Least Squares   F-statistic:                       nan\n",
      "Date:                Tue, 21 Apr 2015   Prob (F-statistic):                nan\n",
      "Time:                        15:51:29   Log-Likelihood:                -1970.0\n",
      "No. Observations:                 100   AIC:                             3942.\n",
      "Df Residuals:                      99   BIC:                             3945.\n",
      "Df Model:                           0                                         \n",
      "Covariance Type:            nonrobust                                         \n",
      "==============================================================================\n",
      "                 coef    std err          t      P>|t|      [95.0% Conf. Int.]\n",
      "------------------------------------------------------------------------------\n",
      "Intercept   1.006e+08   8.74e+06     11.510      0.000      8.33e+07  1.18e+08\n",
      "==============================================================================\n",
      "Omnibus:                       51.114   Durbin-Watson:                   0.013\n",
      "Prob(Omnibus):                  0.000   Jarque-Bera (JB):              125.961\n",
      "Skew:                           1.985   Prob(JB):                     4.45e-28\n",
      "Kurtosis:                       6.804   Cond. No.                         1.00\n",
      "==============================================================================\n",
      "\n",
      "Warnings:\n",
      "[1] Standard Errors assume that the covariance matrix of the errors is correctly specified.\n"
     ]
    }
   ],
   "source": [
    "import pandas as pd\n",
    "import numpy as np\n",
    "from sklearn.linear_model import LinearRegression\n",
    "import statsmodels.formula.api as sm\n",
    "import matplotlib.pyplot as plt\n",
    "from statsmodels.formula.api import ols\n",
    "\n",
    "%matplotlib inline\n",
    "pd.options.mode.chained_assignment = None\n",
    "\n",
    "data = pd.read_csv(\"~/Desktop/metis/challenge_3/2013_movies.csv\")\n",
    "\n",
    "print data.tail()\n",
    "\n",
    "dtg = data[['DomesticTotalGross', 'Rating']]\n",
    "\n",
    "#dtg['Rating'] = dtg['Rating'].apply(lambda x: 1 if x == 'R' else 0)\n",
    "\n",
    "dtg['RatedR'] = [1 if x == 'R' else 0 for x in data[\"Rating\"]]\n",
    "\n",
    "print dtg.head()\n",
    "\n",
    "to_plot = dtg[['DomesticTotalGross', 'RatedR']]\n",
    "\n",
    "print to_plot.head()\n",
    "\n",
    "\n",
    "model = LinearRegression()\n",
    "#model.fit(to_plot['DomesticTotalGross'], to_plot['RatedR'])\n",
    "\n",
    "r = sm.ols(formula=\"DomesticTotalGross ~ 1\", data=to_plot)\n",
    "result = r.fit()\n",
    "print result.params\n",
    "print result.summary()\n"
   ]
  },
  {
   "cell_type": "code",
   "execution_count": 79,
   "metadata": {
    "collapsed": false
   },
   "outputs": [
    {
     "data": {
      "text/plain": [
       "<matplotlib.text.Text at 0x1112b52d0>"
      ]
     },
     "execution_count": 79,
     "metadata": {},
     "output_type": "execute_result"
    },
    {
     "data": {
      "image/png": "[encoded data removed]",
      "text/plain": [
       "<matplotlib.figure.Figure at 0x111289950>"
      ]
     },
     "metadata": {},
     "output_type": "display_data"
    }
   ],
   "source": [
    "plt.hist(result.resid)\n",
    "plt.ylabel('DomesticTotalGross')\n",
    "plt.xlabel('residuals')"
   ]
  },
  {
   "cell_type": "markdown",
   "metadata": {},
   "source": [
    "#Challenge 2"
   ]
  },
  {
   "cell_type": "code",
   "execution_count": 80,
   "metadata": {
    "collapsed": false
   },
   "outputs": [
    {
     "name": "stdout",
     "output_type": "stream",
     "text": [
      "Intercept   -57246774.201384\n",
      "Runtime       1406054.243910\n",
      "dtype: float64\n",
      "                            OLS Regression Results                            \n",
      "==============================================================================\n",
      "Dep. Variable:     DomesticTotalGross   R-squared:                       0.086\n",
      "Model:                            OLS   Adj. R-squared:                  0.076\n",
      "Method:                 Least Squares   F-statistic:                     9.180\n",
      "Date:                Tue, 21 Apr 2015   Prob (F-statistic):            0.00313\n",
      "Time:                        15:51:41   Log-Likelihood:                -1965.5\n",
      "No. Observations:                 100   AIC:                             3935.\n",
      "Df Residuals:                      98   BIC:                             3940.\n",
      "Df Model:                           1                                         \n",
      "Covariance Type:            nonrobust                                         \n",
      "==============================================================================\n",
      "                 coef    std err          t      P>|t|      [95.0% Conf. Int.]\n",
      "------------------------------------------------------------------------------\n",
      "Intercept  -5.725e+07   5.28e+07     -1.085      0.281     -1.62e+08  4.75e+07\n",
      "Runtime     1.406e+06   4.64e+05      3.030      0.003      4.85e+05  2.33e+06\n",
      "==============================================================================\n",
      "Omnibus:                       50.222   Durbin-Watson:                   0.189\n",
      "Prob(Omnibus):                  0.000   Jarque-Bera (JB):              125.001\n",
      "Skew:                           1.932   Prob(JB):                     7.19e-28\n",
      "Kurtosis:                       6.883   Cond. No.                         714.\n",
      "==============================================================================\n",
      "\n",
      "Warnings:\n",
      "[1] Standard Errors assume that the covariance matrix of the errors is correctly specified.\n"
     ]
    },
    {
     "data": {
      "text/plain": [
       "<matplotlib.text.Text at 0x10e17f910>"
      ]
     },
     "execution_count": 80,
     "metadata": {},
     "output_type": "execute_result"
    },
    {
     "data": {
      "image/png": "[encoded data removed]",
      "text/plain": [
       "<matplotlib.figure.Figure at 0x111e149d0>"
      ]
     },
     "metadata": {},
     "output_type": "display_data"
    }
   ],
   "source": [
    "to_plot['Runtime'] = data['Runtime']\n",
    "r = sm.ols(formula=\"DomesticTotalGross ~ Runtime\", data=to_plot)\n",
    "result = r.fit()\n",
    "print result.params\n",
    "print result.summary()\n",
    "\n",
    "plt.hist(result.resid)\n",
    "plt.ylabel('DomesticTotalGross')\n",
    "plt.xlabel('residuals')"
   ]
  },
  {
   "cell_type": "markdown",
   "metadata": {},
   "source": [
    "##Challenge 3"
   ]
  },
  {
   "cell_type": "code",
   "execution_count": 81,
   "metadata": {
    "collapsed": false
   },
   "outputs": [
    {
     "name": "stdout",
     "output_type": "stream",
     "text": [
      "    DomesticTotalGross Rating  R  PG  PG13  G\n",
      "95            26947624      R  1   0     0  0\n",
      "96            26627201  PG-13  0   0     1  0\n",
      "97            26004851      R  1   0     0  0\n",
      "98            25682380      R  1   0     0  0\n",
      "99            25568251      R  1   0     0  0\n",
      "Intercept    1.161941e+08\n",
      "R           -4.630171e+07\n",
      "PG           1.494158e+07\n",
      "PG13        -4.744367e+06\n",
      "G            1.522986e+08\n",
      "dtype: float64\n",
      "                            OLS Regression Results                            \n",
      "==============================================================================\n",
      "Dep. Variable:     DomesticTotalGross   R-squared:                       0.109\n",
      "Model:                            OLS   Adj. R-squared:                  0.081\n",
      "Method:                 Least Squares   F-statistic:                     3.924\n",
      "Date:                Tue, 21 Apr 2015   Prob (F-statistic):             0.0109\n",
      "Time:                        15:51:42   Log-Likelihood:                -1964.2\n",
      "No. Observations:                 100   AIC:                             3936.\n",
      "Df Residuals:                      96   BIC:                             3947.\n",
      "Df Model:                           3                                         \n",
      "Covariance Type:            nonrobust                                         \n",
      "==============================================================================\n",
      "                 coef    std err          t      P>|t|      [95.0% Conf. Int.]\n",
      "------------------------------------------------------------------------------\n",
      "Intercept   1.162e+08   1.77e+07      6.568      0.000      8.11e+07  1.51e+08\n",
      "R           -4.63e+07   2.07e+07     -2.241      0.027     -8.73e+07  -5.3e+06\n",
      "PG          1.494e+07   2.44e+07      0.613      0.541     -3.34e+07  6.33e+07\n",
      "PG13       -4.744e+06   2.01e+07     -0.236      0.814     -4.46e+07  3.51e+07\n",
      "G           1.523e+08   6.73e+07      2.265      0.026      1.88e+07  2.86e+08\n",
      "==============================================================================\n",
      "Omnibus:                       46.897   Durbin-Watson:                   0.240\n",
      "Prob(Omnibus):                  0.000   Jarque-Bera (JB):              109.261\n",
      "Skew:                           1.826   Prob(JB):                     1.88e-24\n",
      "Kurtosis:                       6.589   Cond. No.                     8.30e+15\n",
      "==============================================================================\n",
      "\n",
      "Warnings:\n",
      "[1] Standard Errors assume that the covariance matrix of the errors is correctly specified.\n",
      "[2] The smallest eigenvalue is 2.02e-30. This might indicate that there are\n",
      "strong multicollinearity problems or that the design matrix is singular.\n"
     ]
    },
    {
     "data": {
      "text/plain": [
       "<matplotlib.text.Text at 0x114381a50>"
      ]
     },
     "execution_count": 81,
     "metadata": {},
     "output_type": "execute_result"
    },
    {
     "data": {
      "image/png": "[encoded data removed]",
      "text/plain": [
       "<matplotlib.figure.Figure at 0x114378e10>"
      ]
     },
     "metadata": {},
     "output_type": "display_data"
    }
   ],
   "source": [
    "c3_df = data[[\"DomesticTotalGross\", \"Rating\"]]\n",
    "c3_df['R'] = [1 if x == 'R' else 0 for x in data[\"Rating\"]]\n",
    "c3_df['PG'] = [1 if x == 'PG' else 0 for x in data[\"Rating\"]]\n",
    "c3_df['PG13'] = [1 if x == 'PG-13' else 0 for x in data[\"Rating\"]]\n",
    "c3_df['G'] = [1 if x == 'G' else 0 for x in data[\"Rating\"]]\n",
    "\n",
    "print c3_df.tail()\n",
    "\n",
    "r = sm.ols(formula=\"DomesticTotalGross ~ R + PG + PG13 + G\", data=c3_df)\n",
    "result = r.fit()\n",
    "print result.params\n",
    "print result.summary()\n",
    "\n",
    "plt.hist(result.resid)\n",
    "plt.ylabel('DomesticTotalGross')\n",
    "plt.xlabel('residuals')"
   ]
  },
  {
   "cell_type": "markdown",
   "metadata": {},
   "source": [
    "##Challenge 4\n",
    "enchance use predictors with more features"
   ]
  },
  {
   "cell_type": "code",
   "execution_count": 86,
   "metadata": {
    "collapsed": false
   },
   "outputs": [
    {
     "name": "stdout",
     "output_type": "stream",
     "text": [
      "Intercept                            -9.613365e+07\n",
      "ReleaseDate[T.2013-01-11 00:00:00]   -2.635548e+05\n",
      "ReleaseDate[T.2013-01-18 00:00:00]    4.443153e+07\n",
      "ReleaseDate[T.2013-01-25 00:00:00]    2.931078e+07\n",
      "ReleaseDate[T.2013-02-01 00:00:00]    4.514595e+07\n",
      "ReleaseDate[T.2013-02-08 00:00:00]    1.620725e+07\n",
      "ReleaseDate[T.2013-02-14 00:00:00]    1.870675e+07\n",
      "ReleaseDate[T.2013-02-15 00:00:00]   -4.673045e+07\n",
      "ReleaseDate[T.2013-02-22 00:00:00]   -8.113925e+06\n",
      "ReleaseDate[T.2013-03-01 00:00:00]   -2.391420e+05\n",
      "ReleaseDate[T.2013-03-08 00:00:00]    5.565055e+07\n",
      "ReleaseDate[T.2013-03-15 00:00:00]    1.156850e+07\n",
      "ReleaseDate[T.2013-03-22 00:00:00]    3.723908e+07\n",
      "ReleaseDate[T.2013-03-28 00:00:00]    9.731373e+07\n",
      "ReleaseDate[T.2013-03-29 00:00:00]   -2.366698e+07\n",
      "ReleaseDate[T.2013-04-05 00:00:00]   -6.791453e+06\n",
      "ReleaseDate[T.2013-04-12 00:00:00]    2.340383e+07\n",
      "ReleaseDate[T.2013-04-19 00:00:00]    1.222780e+07\n",
      "ReleaseDate[T.2013-04-26 00:00:00]   -5.799719e+07\n",
      "ReleaseDate[T.2013-05-03 00:00:00]    3.241853e+08\n",
      "ReleaseDate[T.2013-05-10 00:00:00]    3.218937e+07\n",
      "ReleaseDate[T.2013-05-16 00:00:00]    1.558738e+08\n",
      "ReleaseDate[T.2013-05-23 00:00:00]    6.195963e+07\n",
      "ReleaseDate[T.2013-05-24 00:00:00]    6.490203e+07\n",
      "ReleaseDate[T.2013-05-31 00:00:00]    4.602790e+07\n",
      "ReleaseDate[T.2013-06-07 00:00:00]    1.187977e+07\n",
      "ReleaseDate[T.2013-06-12 00:00:00]    3.731858e+07\n",
      "ReleaseDate[T.2013-06-14 00:00:00]    1.783945e+08\n",
      "ReleaseDate[T.2013-06-21 00:00:00]    1.433661e+08\n",
      "ReleaseDate[T.2013-06-28 00:00:00]    2.396703e+07\n",
      "                                          ...     \n",
      "ReleaseDate[T.2013-07-31 00:00:00]   -6.452263e+07\n",
      "ReleaseDate[T.2013-08-02 00:00:00]    7.486216e+06\n",
      "ReleaseDate[T.2013-08-07 00:00:00]    5.656193e+06\n",
      "ReleaseDate[T.2013-08-09 00:00:00]    2.753609e+06\n",
      "ReleaseDate[T.2013-08-16 00:00:00]   -7.824578e+05\n",
      "ReleaseDate[T.2013-08-21 00:00:00]   -3.577746e+07\n",
      "ReleaseDate[T.2013-08-23 00:00:00]   -4.212139e+07\n",
      "ReleaseDate[T.2013-08-30 00:00:00]   -4.668555e+07\n",
      "ReleaseDate[T.2013-09-06 00:00:00]   -4.597423e+07\n",
      "ReleaseDate[T.2013-09-13 00:00:00]    4.641937e+06\n",
      "ReleaseDate[T.2013-09-20 00:00:00]   -7.482773e+07\n",
      "ReleaseDate[T.2013-09-27 00:00:00]    4.126266e+06\n",
      "ReleaseDate[T.2013-10-04 00:00:00]    2.647819e+08\n",
      "ReleaseDate[T.2013-10-11 00:00:00]    1.233561e+07\n",
      "ReleaseDate[T.2013-10-18 00:00:00]   -2.911253e+07\n",
      "ReleaseDate[T.2013-10-25 00:00:00]    6.567376e+07\n",
      "ReleaseDate[T.2013-11-01 00:00:00]   -1.084947e+07\n",
      "ReleaseDate[T.2013-11-08 00:00:00]    1.394193e+08\n",
      "ReleaseDate[T.2013-11-15 00:00:00]   -2.343610e+07\n",
      "ReleaseDate[T.2013-11-22 00:00:00]    1.448179e+08\n",
      "ReleaseDate[T.2013-12-13 00:00:00]    4.151814e+07\n",
      "ReleaseDate[T.2013-12-18 00:00:00]   -2.102812e+06\n",
      "ReleaseDate[T.2013-12-20 00:00:00]   -6.369269e+07\n",
      "ReleaseDate[T.2013-12-25 00:00:00]   -4.402170e+07\n",
      "ReleaseDate[T.2013-12-27 00:00:00]   -7.212098e+07\n",
      "R                                    -5.235709e+07\n",
      "PG                                    2.300634e+07\n",
      "PG13                                 -7.540088e+07\n",
      "G                                     8.617980e+06\n",
      "Runtime                               1.987312e+06\n",
      "dtype: float64\n",
      "                            OLS Regression Results                            \n",
      "==============================================================================\n",
      "Dep. Variable:     DomesticTotalGross   R-squared:                       0.712\n",
      "Model:                            OLS   Adj. R-squared:                  0.209\n",
      "Method:                 Least Squares   F-statistic:                     1.414\n",
      "Date:                Tue, 21 Apr 2015   Prob (F-statistic):              0.131\n",
      "Time:                        15:55:28   Log-Likelihood:                -1907.7\n",
      "No. Observations:                 100   AIC:                             3943.\n",
      "Df Residuals:                      36   BIC:                             4110.\n",
      "Df Model:                          63                                         \n",
      "Covariance Type:            nonrobust                                         \n",
      "======================================================================================================\n",
      "                                         coef    std err          t      P>|t|      [95.0% Conf. Int.]\n",
      "------------------------------------------------------------------------------------------------------\n",
      "Intercept                          -9.613e+07   8.17e+07     -1.176      0.247     -2.62e+08  6.96e+07\n",
      "ReleaseDate[T.2013-01-11 00:00:00] -2.636e+05   9.53e+07     -0.003      0.998     -1.93e+08  1.93e+08\n",
      "ReleaseDate[T.2013-01-18 00:00:00]  4.443e+07   1.13e+08      0.393      0.697     -1.85e+08  2.74e+08\n",
      "ReleaseDate[T.2013-01-25 00:00:00]  2.931e+07    1.1e+08      0.267      0.791     -1.94e+08  2.52e+08\n",
      "ReleaseDate[T.2013-02-01 00:00:00]  4.515e+07   1.13e+08      0.399      0.692     -1.84e+08  2.75e+08\n",
      "ReleaseDate[T.2013-02-08 00:00:00]  1.621e+07   9.58e+07      0.169      0.867     -1.78e+08   2.1e+08\n",
      "ReleaseDate[T.2013-02-14 00:00:00]  1.871e+07   9.64e+07      0.194      0.847     -1.77e+08  2.14e+08\n",
      "ReleaseDate[T.2013-02-15 00:00:00] -4.673e+07   1.16e+08     -0.403      0.689     -2.82e+08  1.88e+08\n",
      "ReleaseDate[T.2013-02-22 00:00:00] -8.114e+06   1.13e+08     -0.072      0.943     -2.38e+08  2.22e+08\n",
      "ReleaseDate[T.2013-03-01 00:00:00] -2.391e+05   9.63e+07     -0.002      0.998     -1.96e+08  1.95e+08\n",
      "ReleaseDate[T.2013-03-08 00:00:00]  5.565e+07    1.2e+08      0.465      0.645     -1.87e+08  2.98e+08\n",
      "ReleaseDate[T.2013-03-15 00:00:00]  1.157e+07    1.1e+08      0.105      0.917     -2.11e+08  2.35e+08\n",
      "ReleaseDate[T.2013-03-22 00:00:00]  3.724e+07   9.81e+07      0.380      0.706     -1.62e+08  2.36e+08\n",
      "ReleaseDate[T.2013-03-28 00:00:00]  9.731e+07   1.13e+08      0.860      0.396     -1.32e+08  3.27e+08\n",
      "ReleaseDate[T.2013-03-29 00:00:00] -2.367e+07   9.96e+07     -0.238      0.814     -2.26e+08  1.78e+08\n",
      "ReleaseDate[T.2013-04-05 00:00:00] -6.791e+06   9.65e+07     -0.070      0.944     -2.03e+08  1.89e+08\n",
      "ReleaseDate[T.2013-04-12 00:00:00]   2.34e+07    9.9e+07      0.236      0.814     -1.77e+08  2.24e+08\n",
      "ReleaseDate[T.2013-04-19 00:00:00]  1.223e+07   1.14e+08      0.107      0.915      -2.2e+08  2.44e+08\n",
      "ReleaseDate[T.2013-04-26 00:00:00]   -5.8e+07   1.12e+08     -0.516      0.609     -2.86e+08   1.7e+08\n",
      "ReleaseDate[T.2013-05-03 00:00:00]  3.242e+08   1.15e+08      2.826      0.008      9.16e+07  5.57e+08\n",
      "ReleaseDate[T.2013-05-10 00:00:00]  3.219e+07   1.16e+08      0.276      0.784     -2.04e+08  2.68e+08\n",
      "ReleaseDate[T.2013-05-16 00:00:00]  1.559e+08   1.14e+08      1.366      0.181     -7.56e+07  3.87e+08\n",
      "ReleaseDate[T.2013-05-23 00:00:00]  6.196e+07    1.1e+08      0.563      0.577     -1.61e+08  2.85e+08\n",
      "ReleaseDate[T.2013-05-24 00:00:00]   6.49e+07      1e+08      0.647      0.522     -1.38e+08  2.68e+08\n",
      "ReleaseDate[T.2013-05-31 00:00:00]  4.603e+07   9.91e+07      0.465      0.645     -1.55e+08  2.47e+08\n",
      "ReleaseDate[T.2013-06-07 00:00:00]  1.188e+07   9.62e+07      0.123      0.902     -1.83e+08  2.07e+08\n",
      "ReleaseDate[T.2013-06-12 00:00:00]  3.732e+07    1.1e+08      0.338      0.737     -1.86e+08  2.61e+08\n",
      "ReleaseDate[T.2013-06-14 00:00:00]  1.784e+08   1.16e+08      1.532      0.134     -5.78e+07  4.15e+08\n",
      "ReleaseDate[T.2013-06-21 00:00:00]  1.434e+08   1.14e+08      1.261      0.215     -8.71e+07  3.74e+08\n",
      "ReleaseDate[T.2013-06-28 00:00:00]  2.397e+07   9.82e+07      0.244      0.809     -1.75e+08  2.23e+08\n",
      "ReleaseDate[T.2013-07-03 00:00:00]  8.095e+07   9.21e+07      0.879      0.385     -1.06e+08  2.68e+08\n",
      "ReleaseDate[T.2013-07-12 00:00:00]  5.874e+07   9.95e+07      0.591      0.559     -1.43e+08   2.6e+08\n",
      "ReleaseDate[T.2013-07-17 00:00:00] -3.463e+07   1.16e+08     -0.298      0.768      -2.7e+08  2.01e+08\n",
      "ReleaseDate[T.2013-07-19 00:00:00]  2.398e+07   9.18e+07      0.261      0.795     -1.62e+08   2.1e+08\n",
      "ReleaseDate[T.2013-07-26 00:00:00]  3.194e+07   9.92e+07      0.322      0.749     -1.69e+08  2.33e+08\n",
      "ReleaseDate[T.2013-07-31 00:00:00] -6.452e+07   1.17e+08     -0.552      0.584     -3.02e+08  1.73e+08\n",
      "ReleaseDate[T.2013-08-02 00:00:00]  7.486e+06    1.1e+08      0.068      0.946     -2.17e+08  2.32e+08\n",
      "ReleaseDate[T.2013-08-07 00:00:00]  5.656e+06    9.8e+07      0.058      0.954     -1.93e+08  2.04e+08\n",
      "ReleaseDate[T.2013-08-09 00:00:00]  2.754e+06   9.74e+07      0.028      0.978     -1.95e+08     2e+08\n",
      "ReleaseDate[T.2013-08-16 00:00:00] -7.825e+05   9.71e+07     -0.008      0.994     -1.98e+08  1.96e+08\n",
      "ReleaseDate[T.2013-08-21 00:00:00] -3.578e+07   1.14e+08     -0.314      0.755     -2.67e+08  1.95e+08\n",
      "ReleaseDate[T.2013-08-23 00:00:00] -4.212e+07    1.1e+08     -0.381      0.705     -2.66e+08  1.82e+08\n",
      "ReleaseDate[T.2013-08-30 00:00:00] -4.669e+07   9.93e+07     -0.470      0.641     -2.48e+08  1.55e+08\n",
      "ReleaseDate[T.2013-09-06 00:00:00] -4.597e+07   1.11e+08     -0.413      0.682     -2.72e+08   1.8e+08\n",
      "ReleaseDate[T.2013-09-13 00:00:00]  4.642e+06   9.65e+07      0.048      0.962     -1.91e+08     2e+08\n",
      "ReleaseDate[T.2013-09-20 00:00:00] -7.483e+07   9.89e+07     -0.756      0.454     -2.76e+08  1.26e+08\n",
      "ReleaseDate[T.2013-09-27 00:00:00]  4.126e+06   1.16e+08      0.036      0.972     -2.32e+08   2.4e+08\n",
      "ReleaseDate[T.2013-10-04 00:00:00]  2.648e+08   1.13e+08      2.337      0.025       3.5e+07  4.95e+08\n",
      "ReleaseDate[T.2013-10-11 00:00:00]  1.234e+07   1.15e+08      0.107      0.915     -2.21e+08  2.46e+08\n",
      "ReleaseDate[T.2013-10-18 00:00:00] -2.911e+07   9.61e+07     -0.303      0.764     -2.24e+08  1.66e+08\n",
      "ReleaseDate[T.2013-10-25 00:00:00]  6.567e+07    1.1e+08      0.597      0.554     -1.57e+08  2.89e+08\n",
      "ReleaseDate[T.2013-11-01 00:00:00] -1.085e+07   8.92e+07     -0.122      0.904     -1.92e+08   1.7e+08\n",
      "ReleaseDate[T.2013-11-08 00:00:00]  1.394e+08   1.14e+08      1.224      0.229     -9.16e+07   3.7e+08\n",
      "ReleaseDate[T.2013-11-15 00:00:00] -2.344e+07   1.12e+08     -0.210      0.835      -2.5e+08  2.03e+08\n",
      "ReleaseDate[T.2013-11-22 00:00:00]  1.448e+08   9.13e+07      1.586      0.121     -4.03e+07   3.3e+08\n",
      "ReleaseDate[T.2013-12-13 00:00:00]  4.152e+07   9.17e+07      0.453      0.653     -1.44e+08  2.27e+08\n",
      "ReleaseDate[T.2013-12-18 00:00:00] -2.103e+06   9.73e+07     -0.022      0.983     -1.99e+08  1.95e+08\n",
      "ReleaseDate[T.2013-12-20 00:00:00] -6.369e+07   1.16e+08     -0.550      0.586     -2.99e+08  1.71e+08\n",
      "ReleaseDate[T.2013-12-25 00:00:00] -4.402e+07   8.99e+07     -0.490      0.627     -2.26e+08  1.38e+08\n",
      "ReleaseDate[T.2013-12-27 00:00:00] -7.212e+07   1.13e+08     -0.641      0.526        -3e+08  1.56e+08\n",
      "R                                  -5.236e+07   3.33e+07     -1.570      0.125      -1.2e+08  1.53e+07\n",
      "PG                                  2.301e+07   3.81e+07      0.603      0.550     -5.43e+07     1e+08\n",
      "PG13                                -7.54e+07   3.52e+07     -2.141      0.039     -1.47e+08 -3.97e+06\n",
      "G                                   8.618e+06   9.13e+07      0.094      0.925     -1.76e+08  1.94e+08\n",
      "Runtime                             1.987e+06   6.33e+05      3.138      0.003      7.03e+05  3.27e+06\n",
      "==============================================================================\n",
      "Omnibus:                       15.206   Durbin-Watson:                   1.393\n",
      "Prob(Omnibus):                  0.000   Jarque-Bera (JB):               43.544\n",
      "Skew:                           0.378   Prob(JB):                     3.50e-10\n",
      "Kurtosis:                       6.143   Cond. No.                     5.99e+17\n",
      "==============================================================================\n",
      "\n",
      "Warnings:\n",
      "[1] Standard Errors assume that the covariance matrix of the errors is correctly specified.\n",
      "[2] The smallest eigenvalue is 3.6e-30. This might indicate that there are\n",
      "strong multicollinearity problems or that the design matrix is singular.\n"
     ]
    },
    {
     "data": {
      "text/plain": [
       "<matplotlib.text.Text at 0x114e8a050>"
      ]
     },
     "execution_count": 86,
     "metadata": {},
     "output_type": "execute_result"
    },
    {
     "data": {
      "image/png": "[encoded data removed]",
      "text/plain": [
       "<matplotlib.figure.Figure at 0x114e85410>"
      ]
     },
     "metadata": {},
     "output_type": "display_data"
    }
   ],
   "source": [
    "c4_df = data[['DomesticTotalGross', 'Runtime', 'ReleaseDate']]\n",
    "c4_df['R'] = c3_df['R']\n",
    "c4_df['G'] = c3_df['G']\n",
    "c4_df['PG'] = c3_df['PG']\n",
    "c4_df['PG13'] = c3_df['PG13']\n",
    "\n",
    "r = sm.ols(formula=\"DomesticTotalGross ~ R + PG + PG13 + G + Runtime + ReleaseDate\", data=c4_df)\n",
    "result = r.fit()\n",
    "print result.params\n",
    "print result.summary()\n",
    "\n",
    "plt.hist(result.resid)\n",
    "plt.ylabel('DomesticTotalGross')\n",
    "plt.xlabel('residuals')\n"
   ]
  },
  {
   "cell_type": "markdown",
   "metadata": {},
   "source": [
    "##Challenge 5\n",
    "doing it on test and train data"
   ]
  },
  {
   "cell_type": "code",
   "execution_count": 105,
   "metadata": {
    "collapsed": false
   },
   "outputs": [
    {
     "name": "stdout",
     "output_type": "stream",
     "text": [
      "Intercept   -1.356574e+07\n",
      "R           -8.039343e+07\n",
      "PG          -4.721284e+06\n",
      "PG13        -4.799980e+07\n",
      "G            1.195488e+08\n",
      "Runtime      1.518782e+06\n",
      "dtype: float64\n",
      "                            OLS Regression Results                            \n",
      "==============================================================================\n",
      "Dep. Variable:     DomesticTotalGross   R-squared:                       0.194\n",
      "Model:                            OLS   Adj. R-squared:                  0.148\n",
      "Method:                 Least Squares   F-statistic:                     4.217\n",
      "Date:                Tue, 21 Apr 2015   Prob (F-statistic):            0.00407\n",
      "Time:                        16:23:53   Log-Likelihood:                -1474.1\n",
      "No. Observations:                  75   AIC:                             2958.\n",
      "Df Residuals:                      70   BIC:                             2970.\n",
      "Df Model:                           4                                         \n",
      "Covariance Type:            nonrobust                                         \n",
      "==============================================================================\n",
      "                 coef    std err          t      P>|t|      [95.0% Conf. Int.]\n",
      "------------------------------------------------------------------------------\n",
      "Intercept  -1.357e+07   5.18e+07     -0.262      0.794     -1.17e+08  8.97e+07\n",
      "R          -8.039e+07   2.58e+07     -3.117      0.003     -1.32e+08 -2.89e+07\n",
      "PG         -4.721e+06    2.7e+07     -0.175      0.862     -5.86e+07  4.92e+07\n",
      "PG13         -4.8e+07   2.78e+07     -1.730      0.088     -1.03e+08  7.35e+06\n",
      "G           1.195e+08   6.99e+07      1.709      0.092        -2e+07  2.59e+08\n",
      "Runtime     1.519e+06   5.55e+05      2.738      0.008      4.12e+05  2.63e+06\n",
      "==============================================================================\n",
      "Omnibus:                       32.915   Durbin-Watson:                   0.423\n",
      "Prob(Omnibus):                  0.000   Jarque-Bera (JB):               59.406\n",
      "Skew:                           1.678   Prob(JB):                     1.26e-13\n",
      "Kurtosis:                       5.783   Cond. No.                     7.17e+17\n",
      "==============================================================================\n",
      "\n",
      "Warnings:\n",
      "[1] Standard Errors assume that the covariance matrix of the errors is correctly specified.\n",
      "[2] The smallest eigenvalue is 1.89e-30. This might indicate that there are\n",
      "strong multicollinearity problems or that the design matrix is singular.\n"
     ]
    },
    {
     "data": {
      "text/plain": [
       "<matplotlib.collections.PathCollection at 0x115299a10>"
      ]
     },
     "execution_count": 105,
     "metadata": {},
     "output_type": "execute_result"
    },
    {
     "data": {
      "image/png": "[encoded data removed]",
      "text/plain": [
       "<matplotlib.figure.Figure at 0x1151cd690>"
      ]
     },
     "metadata": {},
     "output_type": "display_data"
    }
   ],
   "source": [
    "from sklearn.cross_validation import train_test_split\n",
    "\n",
    "#75% of data in train\n",
    "\n",
    "# test, train = train_test_split(c4_df, test_size = 0.25)\n",
    "\n",
    "# train = pd.DataFrame(train)\n",
    "# train = train.rename(columns={0:'DomesticTotalGross', 1:'Runtime', 2:'ReleaseDate', 3:'R', 4:'G', 5:'PG', 6:'PG13'})\n",
    "\n",
    "# print train.head()\n",
    "\n",
    "def make_sets(data_df, test_portion):\n",
    "    import random as rnd\n",
    "\n",
    "    tot_ix = range(len(data_df))\n",
    "    test_ix = sorted(rnd.sample(tot_ix, int(test_portion * len(data_df))))\n",
    "    train_ix = list(set(tot_ix) ^ set(test_ix))\n",
    "\n",
    "    test_df = data_df.ix[test_ix]\n",
    "    train_df = data_df.ix[train_ix]\n",
    "\n",
    "    return train_df, test_df\n",
    "\n",
    "\n",
    "train_df, test_df = make_sets(c4_df, 0.25)\n",
    "\n",
    "\n",
    "train_r = sm.ols(formula=\"DomesticTotalGross ~ R + PG + PG13 + G + Runtime\", data=train_df)\n",
    "result = train_r.fit()\n",
    "print result.params\n",
    "print result.summary()\n",
    "\n",
    "\n",
    "pred = result.predict(test_df)\n",
    "vals = test_df['DomesticTotalGross']\n",
    "\n",
    "plt.scatter(pred, vals)"
   ]
  },
  {
   "cell_type": "code",
   "execution_count": null,
   "metadata": {
    "collapsed": true
   },
   "outputs": [],
   "source": []
  }
 ],
 "metadata": {
  "kernelspec": {
   "display_name": "Python 2",
   "language": "python",
   "name": "python2"
  },
  "language_info": {
   "codemirror_mode": {
    "name": "ipython",
    "version": 2
   },
   "file_extension": ".py",
   "mimetype": "text/x-python",
   "name": "python",
   "nbconvert_exporter": "python",
   "pygments_lexer": "ipython2",
   "version": "2.7.5"
  }
 },
 "nbformat": 4,
 "nbformat_minor": 0
}
