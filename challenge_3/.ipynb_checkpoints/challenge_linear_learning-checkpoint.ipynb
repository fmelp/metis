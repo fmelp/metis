{
 "cells": [
  {
   "cell_type": "markdown",
   "metadata": {},
   "source": [
    "##Challenge 1"
   ]
  },
  {
   "cell_type": "code",
   "execution_count": 16,
   "metadata": {
    "collapsed": false
   },
   "outputs": [
    {
     "name": "stdout",
     "output_type": "stream",
     "text": [
      "               movie_title  domestic_total_gross         runtime budget  \\\n",
      "0  The Empire Strikes Back             209398025   2 hrs. 9 min.     18   \n",
      "1                   9 to 5             103290500  1 hrs. 50 min.    NaN   \n",
      "2               Stir Crazy             101300000  1 hrs. 51 min.    NaN   \n",
      "3                Airplane!              83453539  1 hrs. 28 min.    3.5   \n",
      "4    Any Which Way You Can              70687344  1 hrs. 56 min.    NaN   \n",
      "\n",
      "        release_date   distributor  \\\n",
      "0       May 21, 1980           Fox   \n",
      "1  December 19, 1980           Fox   \n",
      "2  December 12, 1980      Columbia   \n",
      "3      June 27, 1980     Paramount   \n",
      "4  December 17, 1980  Warner Bros.   \n",
      "\n",
      "                                          genre  \\\n",
      "0  ['Action', 'Adventure', 'Fantasy', 'Sci-Fi']   \n",
      "1                                    ['Comedy']   \n",
      "2                           ['Comedy', 'Crime']   \n",
      "3                                    ['Comedy']   \n",
      "4                          ['Action', 'Comedy']   \n",
      "\n",
      "                                              actors  \\\n",
      "0  ['Mark Hamill', 'Harrison Ford', 'Carrie Fisher']   \n",
      "1      ['Jane Fonda', 'Lily Tomlin', 'Dolly Parton']   \n",
      "2  ['Gene Wilder', 'Richard Pryor', 'Georg Stanfo...   \n",
      "3                             ['', 'IMDb', 'Movies']   \n",
      "4  ['Clint Eastwood', 'Sondra Locke', 'Geoffrey L...   \n",
      "\n",
      "                                           director  \\\n",
      "0                                ['Irvin Kershner']   \n",
      "1                                     Colin Higgins   \n",
      "2                                ['Sidney Poitier']   \n",
      "3  ['Jim Abrahams', 'David Zucker', 'Jerry Zucker']   \n",
      "4                                    Buddy Van Horn   \n",
      "\n",
      "                                           producers rank_year rank_history  \\\n",
      "0                       ['George Lucas (Executive)']         1           60   \n",
      "1                                                NaN         2          558   \n",
      "2                                                NaN         3          584   \n",
      "3  ['Jim Abrahams (executive producer)Hunt Lowry*...         4          756   \n",
      "4                                                NaN         5          957   \n",
      "\n",
      "   number_theaters close_date  imdb_rating  metascore_rating  rt_critics  \\\n",
      "0             1278        NaN           88                78         NaN   \n",
      "1              NaN        NaN           66               NaN         NaN   \n",
      "2              NaN        NaN           68                 5         NaN   \n",
      "3              NaN        NaN           78               NaN         NaN   \n",
      "4              NaN        NaN           60               NaN         NaN   \n",
      "\n",
      "   rt_audience  video_sales  \n",
      "0          NaN          NaN  \n",
      "1          NaN          NaN  \n",
      "2          NaN          NaN  \n",
      "3          NaN          NaN  \n",
      "4          NaN          NaN  \n",
      "[-110758282.98825252, 1426903.6230226888, 44337.082617655331]\n",
      "                             OLS Regression Results                             \n",
      "================================================================================\n",
      "Dep. Variable:     domestic_total_gross   R-squared:                       0.404\n",
      "Model:                              OLS   Adj. R-squared:                  0.403\n",
      "Method:                   Least Squares   F-statistic:                     311.8\n",
      "Date:                  Tue, 21 Apr 2015   Prob (F-statistic):          4.29e-104\n",
      "Time:                          17:02:26   Log-Likelihood:                -17163.\n",
      "No. Observations:                   922   AIC:                         3.433e+04\n",
      "Df Residuals:                       919   BIC:                         3.435e+04\n",
      "Df Model:                             2                                         \n",
      "Covariance Type:              nonrobust                                         \n",
      "===================================================================================\n",
      "                      coef    std err          t      P>|t|      [95.0% Conf. Int.]\n",
      "-----------------------------------------------------------------------------------\n",
      "Intercept       -1.108e+08   7.12e+06    -15.565      0.000     -1.25e+08 -9.68e+07\n",
      "imdb_rating      1.427e+06   9.92e+04     14.389      0.000      1.23e+06  1.62e+06\n",
      "number_theaters  4.434e+04   2036.687     21.769      0.000      4.03e+04  4.83e+04\n",
      "==============================================================================\n",
      "Omnibus:                      459.263   Durbin-Watson:                   0.964\n",
      "Prob(Omnibus):                  0.000   Jarque-Bera (JB):             3285.476\n",
      "Skew:                           2.173   Prob(JB):                         0.00\n",
      "Kurtosis:                      11.163   Cond. No.                     9.82e+03\n",
      "==============================================================================\n",
      "\n",
      "Warnings:\n",
      "[1] Standard Errors assume that the covariance matrix of the errors is correctly specified.\n",
      "[2] The condition number is large, 9.82e+03. This might indicate that there are\n",
      "strong multicollinearity or other numerical problems.\n"
     ]
    }
   ],
   "source": [
    "import pandas as pd\n",
    "import numpy as np\n",
    "from sklearn.linear_model import LinearRegression\n",
    "import statsmodels.formula.api as sm\n",
    "import matplotlib.pyplot as plt\n",
    "from statsmodels.formula.api import ols\n",
    "%matplotlib inline\n",
    "pd.options.mode.chained_assignment = None\n",
    "\n",
    "data = pd.read_csv(\"~/Desktop/metis/challenge_3/fixed_1980_2014.csv\")\n",
    "print data.head()\n",
    "\n",
    "r = sm.ols(formula=\"domestic_total_gross ~ imdb_rating + number_theaters\", data=data)\n",
    "result = r.fit()\n",
    "coefs = list(result.params)\n",
    "print coefs\n",
    "print result.summary()\n",
    "\n"
   ]
  },
  {
   "cell_type": "code",
   "execution_count": null,
   "metadata": {
    "collapsed": true
   },
   "outputs": [],
   "source": []
  }
 ],
 "metadata": {
  "kernelspec": {
   "display_name": "Python 2",
   "language": "python",
   "name": "python2"
  },
  "language_info": {
   "codemirror_mode": {
    "name": "ipython",
    "version": 2
   },
   "file_extension": ".py",
   "mimetype": "text/x-python",
   "name": "python",
   "nbconvert_exporter": "python",
   "pygments_lexer": "ipython2",
   "version": "2.7.5"
  }
 },
 "nbformat": 4,
 "nbformat_minor": 0
}
