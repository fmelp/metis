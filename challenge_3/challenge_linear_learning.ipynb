{
 "cells": [
  {
   "cell_type": "markdown",
   "metadata": {},
   "source": [
    "##Challenge 1"
   ]
  },
  {
   "cell_type": "code",
   "execution_count": 30,
   "metadata": {
    "collapsed": false
   },
   "outputs": [
    {
     "name": "stdout",
     "output_type": "stream",
     "text": [
      "               movie_title  domestic_total_gross         runtime budget  \\\n",
      "0  The Empire Strikes Back             209398025   2 hrs. 9 min.     18   \n",
      "1                   9 to 5             103290500  1 hrs. 50 min.    NaN   \n",
      "2               Stir Crazy             101300000  1 hrs. 51 min.    NaN   \n",
      "3                Airplane!              83453539  1 hrs. 28 min.    3.5   \n",
      "4    Any Which Way You Can              70687344  1 hrs. 56 min.    NaN   \n",
      "\n",
      "        release_date   distributor  \\\n",
      "0       May 21, 1980           Fox   \n",
      "1  December 19, 1980           Fox   \n",
      "2  December 12, 1980      Columbia   \n",
      "3      June 27, 1980     Paramount   \n",
      "4  December 17, 1980  Warner Bros.   \n",
      "\n",
      "                                          genre  \\\n",
      "0  ['Action', 'Adventure', 'Fantasy', 'Sci-Fi']   \n",
      "1                                    ['Comedy']   \n",
      "2                           ['Comedy', 'Crime']   \n",
      "3                                    ['Comedy']   \n",
      "4                          ['Action', 'Comedy']   \n",
      "\n",
      "                                              actors  \\\n",
      "0  ['Mark Hamill', 'Harrison Ford', 'Carrie Fisher']   \n",
      "1      ['Jane Fonda', 'Lily Tomlin', 'Dolly Parton']   \n",
      "2  ['Gene Wilder', 'Richard Pryor', 'Georg Stanfo...   \n",
      "3                             ['', 'IMDb', 'Movies']   \n",
      "4  ['Clint Eastwood', 'Sondra Locke', 'Geoffrey L...   \n",
      "\n",
      "                                           director  \\\n",
      "0                                ['Irvin Kershner']   \n",
      "1                                     Colin Higgins   \n",
      "2                                ['Sidney Poitier']   \n",
      "3  ['Jim Abrahams', 'David Zucker', 'Jerry Zucker']   \n",
      "4                                    Buddy Van Horn   \n",
      "\n",
      "                                           producers rank_year rank_history  \\\n",
      "0                       ['George Lucas (Executive)']         1           60   \n",
      "1                                                NaN         2          558   \n",
      "2                                                NaN         3          584   \n",
      "3  ['Jim Abrahams (executive producer)Hunt Lowry*...         4          756   \n",
      "4                                                NaN         5          957   \n",
      "\n",
      "   number_theaters close_date  imdb_rating  metascore_rating  rt_critics  \\\n",
      "0             1278        NaN           88                78         NaN   \n",
      "1              NaN        NaN           66               NaN         NaN   \n",
      "2              NaN        NaN           68                 5         NaN   \n",
      "3              NaN        NaN           78               NaN         NaN   \n",
      "4              NaN        NaN           60               NaN         NaN   \n",
      "\n",
      "   rt_audience  video_sales  \n",
      "0          NaN          NaN  \n",
      "1          NaN          NaN  \n",
      "2          NaN          NaN  \n",
      "3          NaN          NaN  \n",
      "4          NaN          NaN  \n",
      "[-221938092.90949726, 3324308.1611627936, 53559.323216093078, -176393.23425970029]\n",
      "                             OLS Regression Results                             \n",
      "================================================================================\n",
      "Dep. Variable:     domestic_total_gross   R-squared:                       0.523\n",
      "Model:                              OLS   Adj. R-squared:                  0.509\n",
      "Method:                   Least Squares   F-statistic:                     36.95\n",
      "Date:                  Tue, 21 Apr 2015   Prob (F-statistic):           3.35e-16\n",
      "Time:                          17:42:28   Log-Likelihood:                -2002.5\n",
      "No. Observations:                   105   AIC:                             4013.\n",
      "Df Residuals:                       101   BIC:                             4024.\n",
      "Df Model:                             3                                         \n",
      "Covariance Type:              nonrobust                                         \n",
      "===================================================================================\n",
      "                      coef    std err          t      P>|t|      [95.0% Conf. Int.]\n",
      "-----------------------------------------------------------------------------------\n",
      "Intercept       -2.219e+08   3.06e+07     -7.259      0.000     -2.83e+08 -1.61e+08\n",
      "imdb_rating      3.324e+06   4.31e+05      7.712      0.000      2.47e+06  4.18e+06\n",
      "number_theaters  5.356e+04   8996.549      5.953      0.000      3.57e+04  7.14e+04\n",
      "budget          -1.764e+05    2.6e+05     -0.679      0.499     -6.92e+05  3.39e+05\n",
      "==============================================================================\n",
      "Omnibus:                       10.394   Durbin-Watson:                   1.243\n",
      "Prob(Omnibus):                  0.006   Jarque-Bera (JB):               10.441\n",
      "Skew:                           0.715   Prob(JB):                      0.00540\n",
      "Kurtosis:                       3.587   Cond. No.                     1.14e+04\n",
      "==============================================================================\n",
      "\n",
      "Warnings:\n",
      "[1] Standard Errors assume that the covariance matrix of the errors is correctly specified.\n",
      "[2] The condition number is large, 1.14e+04. This might indicate that there are\n",
      "strong multicollinearity or other numerical problems.\n"
     ]
    }
   ],
   "source": [
    "import pandas as pd\n",
    "import numpy as np\n",
    "from sklearn.linear_model import LinearRegression\n",
    "import statsmodels.formula.api as sm\n",
    "import matplotlib.pyplot as plt\n",
    "from statsmodels.formula.api import ols\n",
    "%matplotlib inline\n",
    "pd.options.mode.chained_assignment = None\n",
    "\n",
    "data = pd.read_csv(\"~/Desktop/metis/challenge_3/fixed_1980_2014.csv\")\n",
    "print data.head()\n",
    "\n",
    "data['budget'] = data['budget'].convert_objects(convert_numeric=True)\n",
    "\n",
    "r = sm.ols(formula=\"domestic_total_gross ~ imdb_rating + number_theaters + budget\", data=data)\n",
    "result = r.fit()\n",
    "coefs = list(result.params)\n",
    "print coefs\n",
    "print result.summary()\n",
    "\n"
   ]
  },
  {
   "cell_type": "code",
   "execution_count": 25,
   "metadata": {
    "collapsed": false
   },
   "outputs": [
    {
     "name": "stdout",
     "output_type": "stream",
     "text": [
      "[-3231392.4026151588, 115916.90014699877, -251.81661718446674]\n",
      "                            OLS Regression Results                            \n",
      "==============================================================================\n",
      "Dep. Variable:             dtg_budget   R-squared:                       0.098\n",
      "Model:                            OLS   Adj. R-squared:                  0.081\n",
      "Method:                 Least Squares   F-statistic:                     5.555\n",
      "Date:                Tue, 21 Apr 2015   Prob (F-statistic):            0.00513\n",
      "Time:                        17:40:44   Log-Likelihood:                -1739.1\n",
      "No. Observations:                 105   AIC:                             3484.\n",
      "Df Residuals:                     102   BIC:                             3492.\n",
      "Df Model:                           2                                         \n",
      "Covariance Type:            nonrobust                                         \n",
      "===================================================================================\n",
      "                      coef    std err          t      P>|t|      [95.0% Conf. Int.]\n",
      "-----------------------------------------------------------------------------------\n",
      "Intercept       -3.231e+06   2.47e+06     -1.308      0.194     -8.13e+06  1.67e+06\n",
      "imdb_rating      1.159e+05   3.48e+04      3.333      0.001      4.69e+04  1.85e+05\n",
      "number_theaters  -251.8166    645.058     -0.390      0.697     -1531.286  1027.653\n",
      "==============================================================================\n",
      "Omnibus:                       50.609   Durbin-Watson:                   1.529\n",
      "Prob(Omnibus):                  0.000   Jarque-Bera (JB):              135.966\n",
      "Skew:                           1.815   Prob(JB):                     2.99e-30\n",
      "Kurtosis:                       7.232   Cond. No.                     1.14e+04\n",
      "==============================================================================\n",
      "\n",
      "Warnings:\n",
      "[1] Standard Errors assume that the covariance matrix of the errors is correctly specified.\n",
      "[2] The condition number is large, 1.14e+04. This might indicate that there are\n",
      "strong multicollinearity or other numerical problems.\n"
     ]
    }
   ],
   "source": [
    "ratio_data = data[['domestic_total_gross', 'imdb_rating', 'number_theaters', 'budget']]\n",
    "\n",
    "ratio_data['budget'] = ratio_data['budget'].convert_objects(convert_numeric=True)\n",
    "\n",
    "ratio_data['dtg_budget'] = ratio_data['domestic_total_gross']/ratio_data['budget']\n",
    "\n",
    "r = sm.ols(formula=\"dtg_budget ~ imdb_rating + number_theaters\", data=ratio_data)\n",
    "result = r.fit()\n",
    "coefs = list(result.params)\n",
    "print coefs\n",
    "print result.summary()"
   ]
  },
  {
   "cell_type": "code",
   "execution_count": null,
   "metadata": {
    "collapsed": true
   },
   "outputs": [],
   "source": []
  }
 ],
 "metadata": {
  "kernelspec": {
   "display_name": "Python 2",
   "language": "python",
   "name": "python2"
  },
  "language_info": {
   "codemirror_mode": {
    "name": "ipython",
    "version": 2
   },
   "file_extension": ".py",
   "mimetype": "text/x-python",
   "name": "python",
   "nbconvert_exporter": "python",
   "pygments_lexer": "ipython2",
   "version": "2.7.5"
  }
 },
 "nbformat": 4,
 "nbformat_minor": 0
}
