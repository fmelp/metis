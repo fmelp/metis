{
 "cells": [
  {
   "cell_type": "markdown",
   "metadata": {},
   "source": [
    "### Random Variables and Distributions\n",
    "1. Sometimes the outcome of an experiment can be expressed as a number. Other times we're most interested in numerical descriptions capturing some aspects of the outcomes.\n",
    "2. Random Variable (RV) is a function that assigns a numerical value to each outcome in S. \n",
    "    ex: coin is tossed 3 times. 8 possible outcomes.\n",
    "    (HHH, TTT, HHT, THH, etc.)\n",
    "    - One possible RV is x, the number of heads\n",
    "        - What are the possible values? x c (0,1,2,3)\n",
    "    - Discrete probability distribution: a list of RV with their probabilities\n",
    "        ex: For a fair coin, P(x=1) = P(HTT) + P(THT) + P(TTH) = 3/8\n",
    "        x = 0, 1, 2, 3\n",
    "        p = 1/8, 3/8, 3/8, 1/8\n",
    "3. The cumulative distribution functions denoted by\n",
    "    - F(x) = P(X<=x) = sum(Px(a) for all a <=x)\n",
    "    - Often helpful to think of a probability distribution as an RV as distribution of a unit of mass along the real line.\n",
    "4. Continuous distributions: if it's possible values form an interval.\n",
    "    - Probability Density Function (PDF)\n",
    "        - functions which give the probabilities of an interval through the area under the curve of the fucntion.\n",
    "        - Loosely speaking, P(x <= X < x + dx) = f(x)dx\n",
    "        - Paradox: P(X=c) = 0\n",
    "        - Capture that all values are equally likely in an interval.\n",
    "            - Uniform: Fx(x) = 1/(b-a) for a<=x<=b, 0 otherwise\n",
    "            - CDF for a continuous random variable\n",
    "                - Fx(x) = P(X<=x) = Integral(Fx(u)du) -inf to x\n",
    "        - Describing PDF's: Expectation is a weighted average of a probability distributions possible values.\n",
    "            - Discrete E(x) = Sum(xPx(x)) for all x\n",
    "            - Continuous E(x) = Integral(xFx(x)dx) -inf > inf\n",
    "        - Summary stats:\n",
    "            - mode: if you randomly pick a value the mode is the value that is most likely to occur\n",
    "            - median: v such that P(X<=v) = P(X>v) = 0.5\n",
    "            - mean: Expectation of transformations\n",
    "                -linear: E(X) = mu, then we transform with H(x) > y\n",
    "                    - Y = aX + b, a, b are constants\n",
    "                        E(Y) = E(aX + b)\n",
    "                             = E(aX) + E(b)\n",
    "                             = aE(X) + b\n",
    "                    - in general, for the discrete case E(h(x)) = Sum(h(x)px(x)) for all x\n",
    "                \n",
    "            - variance: \n",
    "                    - hHow spread out the data are. \n",
    "                    - How far can we expect x to b on average from the center of the distribution?\n",
    "                    - Var(X) = E[(x-mu)^2] = sigma^2\n",
    "                    - sqrt(Var(x)) = standard deviation\n",
    "                    - Var(x) = E(x^2) - E(2mux) + E(mu^2)\n",
    "                        = E(x^2) - 2mu*E(x) + mu^2\n",
    "                        = E(x^2) - mu^2\n",
    "        Distributions:\n",
    "            - Standard Normal Z ~ N(mu = 0, var = 1)\n",
    "            - Normal X ~ N(mu, var)\n",
    "        Linear Change of Scale:\n",
    "            - V(aX+b) = a^2V(x)\n",
    "            - All probabilities connected w/ normal can be reduced to the standard normal. \n",
    "                - X ~ N(mu,var)\n",
    "                >> X = mu + sigma * z (z is standard normal)\n",
    "                >> Z = (X - mu) / sigma\n",
    "            - What is the probability that a film picked at random is in the 2-3 hour range?\n",
    "                - X is length of film, mu = 112, var = 576 min (sigma = 24)\n",
    "                P(120<=x<=180) = P(x<=180) - P(x<=120)\n",
    "                = Fx(180) - Fx(120) \n",
    "                = Fx((180-112)/24) - Fx((120-112)/24)\n",
    "                = 0.37\n",
    "            \n",
    "                \n",
    "               \n",
    "            \n",
    "    \n",
    "    "
   ]
  },
  {
   "cell_type": "markdown",
   "metadata": {
    "collapsed": true
   },
   "source": [
    "##Hypothesis Testing (Statistical Inference)\n",
    "1. Using a sample to deduce properties of an underlying population. Using data to draw conclusions about the world. \n",
    "2. Hypothese testing: The method of testing whether claims/hypotheses regarding a population are likely to be true. \n",
    "3. The Testing Process:\n",
    "    a. Form your hypothesis\n",
    "        - define a null hypothesis (h0) and an alternative hypothesis (ha). \n",
    "        - identify the appropriate test\n",
    "            - knowing the distribution of the test statistic under the null hypothesis\n",
    "            - knowing what the test statistic is\n",
    "       - set the significance level (alpha, usualy 0.05)\n",
    "            - defines a critical region\n",
    "    b. From data, compute the test statistic (t(obs))\n",
    "    c. Decision\n",
    "        - reject the null hypothesis if t(obs) is in the critical region\n",
    "        - fail to reject the null.\n",
    "        - ex: z-test \n",
    "            Question: The quant score of the GRE was mu = 558, sigma = 139 across all test takers. Suppose we select a sample of 21 students from a NY classroom. Their score is mu = 650. Did these students score better than the general population? \n",
    "            Answer: Assume that the population is normally distributed, mu = 558, sigma = 139, standard error = sigma / sqrt(n). \n",
    "            H0 = mu(NY) = 558\n",
    "            Ha = mu(NY) > 558\n",
    "            criteria: z-test, alpha = 0.05)\n",
    "            compute: z-score = (650 - 558) / 30 = 3\n",
    "            3 > 1.645\n",
    "            at alpha = 0.05 significance level, we decide that  these NY students scored better than the general population\n",
    "        - t-test \n",
    "            Revenue = B0 + B1 * Theaters\n",
    "            Q: Does number of theaters influence revenue in this model?\n",
    "            H0 = B1 = 0\n",
    "            Ha = B1 <> 0\n",
    "            Criteria: alpha = 0.05 (nder some linear regression assumptions)\n",
    "           Beta1(hat) follows a t distribution (n-2)\n",
    "           The t-statistic = (B1(hat) - B0) / SE(B1(hat))\n",
    "            B1(hat) / SE(B1(hat)\n",
    "            if p-value < alpha, reject the null\n",
    "            Equivalently, get a confidence interval:\n",
    "            P(-### <= B1(hat) <= ###) = 1 - alpha\n",
    "            Read: The probability that the interval shown there includes the true B1 is 95%\n",
    "            Not read: the probability of B1 lying between the particular given limits is 95%. Since the true B1 is a fixed number so either it lies in the interval or it doesn't. The interval limits are random, i.e. it will vary from sample to sample. If, in repeated sampling, confidence intervals are computerd, on average 95% of those CI's will enclose the true B1 parameter. "
   ]
  },
  {
   "cell_type": "code",
   "execution_count": null,
   "metadata": {
    "collapsed": false
   },
   "outputs": [],
   "source": [
    "\n"
   ]
  },
  {
   "cell_type": "code",
   "execution_count": null,
   "metadata": {
    "collapsed": true
   },
   "outputs": [],
   "source": []
  }
 ],
 "metadata": {
  "kernelspec": {
   "display_name": "Python 2",
   "language": "python",
   "name": "python2"
  },
  "language_info": {
   "codemirror_mode": {
    "name": "ipython",
    "version": 2
   },
   "file_extension": ".py",
   "mimetype": "text/x-python",
   "name": "python",
   "nbconvert_exporter": "python",
   "pygments_lexer": "ipython2",
   "version": "2.7.9"
  }
 },
 "nbformat": 4,
 "nbformat_minor": 0
}
