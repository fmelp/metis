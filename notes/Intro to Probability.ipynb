{
 "cells": [
  {
   "cell_type": "markdown",
   "metadata": {},
   "source": [
    "#Intro to Probability\n",
    "1. Coin toss example: P(H) = 0.5\n",
    "\n",
    "    a. frequentist point of view of probability (as n >> infinity, P(H) = 0.5)\n",
    "\n",
    "    b. subjective assessment w/ no reference to an idealized sequence of tosses (Bayesian school of thought)\n",
    "    \n",
    "    Suppose you have some process with an observable outcome.\n",
    "    \n",
    "    - experiment - sample space S*\n",
    "    \n",
    "    - Event (E) is a set of possible outcomes (E is a set of events)\n",
    "    \n",
    "Probability has certain properties\n",
    "\n",
    "1. Scaling P(S) = 1 and P(E) >= 0 for any E c S\n",
    "\n",
    "2. Using a 0-1 scale is not the only scaling\n",
    "\n",
    "    - logodds(E) = log(P(E)/P(E^c)) - scaling of +/- infinity\n",
    "    \n",
    "3. Additivity: Given events E and F, if the events are mutually exclusive, then P(E u F) = P(E) + P(F)\n",
    "\n",
    "4. If E c F >> P(E) <= P(F)\n",
    "\n",
    "5. Properties 1 and 2 imply other useful properties\n",
    "\n",
    "    a. Complement parity - P(E) + P(E^c) = 1\n",
    "    \n",
    "    b. General additivity - For any E and F in S\n",
    "    \n",
    "        - even if not mutually exclusivity P(E u F) = P(E) + P(F) - P(E & F)\n",
    "        \n",
    "    c. Finite additivity\n",
    "    \n",
    "        - For any finite collection of mutually exclusive events E1, E2, ... En, P(U (i = 1 > n)(Ei) = Sum (i = 1 to n) P(E,)\n",
    "        \n",
    "        - True for any countably infinite colleciton of mutually exclusive events. \n",
    "        P(E1 u E2 ... u En) = P(E1) + P(E2) + ... + P(En)\n",
    "        \n",
    "\n",
    "#Conditional Probability\n",
    "\n",
    "1. In more complex experiments, specify probabilities with conditions.\n",
    "\n",
    "    - P(E | F) = P(E ^ F) / P(F)\n",
    "    \n",
    "    - P(E | F) may be thought of as relative probability and (E | F) is the probability of Erelative to the reduced sample space consisting only of those outcomes in the event F\n",
    "\n",
    "    - In a sense all probabilities are conditional since even unconditionalprobabilities are relative to the same space S. Only by custom write P(E), not P(E|S)\n",
    "    \n",
    "    - P(E ^ F) = P(F)*P(E | F)\n",
    "\n",
    "#Independence\n",
    "\n",
    "1. Sometimes, knowing that F occurs has no effect on the specification of probability of E.\n",
    "\n",
    "2. If E and F are independent >> \n",
    "\n",
    "    - P(E) = P(E | F)\n",
    "    \n",
    "    - P(E | F) = P(E | F^c)\n",
    "    \n",
    "    - P(E ^ F) = P(E) * P(F) \n",
    "  \n",
    "  \n",
    "    "
   ]
  },
  {
   "cell_type": "code",
   "execution_count": null,
   "metadata": {
    "collapsed": true
   },
   "outputs": [],
   "source": []
  }
 ],
 "metadata": {
  "kernelspec": {
   "display_name": "Python 2",
   "language": "python",
   "name": "python2"
  },
  "language_info": {
   "codemirror_mode": {
    "name": "ipython",
    "version": 2
   },
   "file_extension": ".py",
   "mimetype": "text/x-python",
   "name": "python",
   "nbconvert_exporter": "python",
   "pygments_lexer": "ipython2",
   "version": "2.7.9"
  }
 },
 "nbformat": 4,
 "nbformat_minor": 0
}
