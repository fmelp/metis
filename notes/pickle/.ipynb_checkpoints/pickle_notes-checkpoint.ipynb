{
 "cells": [
  {
   "cell_type": "code",
   "execution_count": 1,
   "metadata": {
    "collapsed": true
   },
   "outputs": [],
   "source": [
    "import urllib2\n",
    "import pickle"
   ]
  },
  {
   "cell_type": "code",
   "execution_count": 3,
   "metadata": {
    "collapsed": false
   },
   "outputs": [
    {
     "name": "stdout",
     "output_type": "stream",
     "text": [
      "{\n",
      "  \"user-agent\": \"Python-urllib/2.7\"\n",
      "}\n",
      "\n"
     ]
    }
   ],
   "source": [
    "#print urllib2.urlopen(\"http://httpbin.org/user-agent\").read() # shows python urllib is doing the work, can block"
   ]
  },
  {
   "cell_type": "code",
   "execution_count": 4,
   "metadata": {
    "collapsed": false
   },
   "outputs": [
    {
     "name": "stdout",
     "output_type": "stream",
     "text": [
      "<!DOCTYPE html PUBLIC \"-//W3C//DTD HTML 4.01 Transitional//EN\" \"http://www.w3.org/TR/html4/loose.dtd\">\n",
      "<html lang=\"en\">\n",
      "<head>\n",
      "    <meta http-equiv=\"Content-type\" content=\"text/html;charset=iso-8859-1\">\n",
      "    <title>Box Office Mojo</title>\n",
      "    <meta name=\"keywords\" content=\"box office, box, office, movie, film, showtimes, movie tickets, weekend, daily, all time, result, report\">\n",
      "    <meta name=\"description\" content=\"Movie Web site with the most comprehensive box office database on the Internet.\">\n",
      "    <link rel=\"alternate\" type=\"application/rss+xml\" title=\"Top Stories RSS\" href=\"/data/rss.php?file=topstories.xml\">\n",
      "    <link rel=\"alternate\" type=\"application/rss+xml\" title=\"New Charts RSS\" href=\"/data/rss.php?file=charts.xml\">\n",
      "<link rel=\"stylesheet\" href=\"/css/mojo.css?1\" type=\"text/css\" media=\"screen\" title=\"no title\" charset=\"utf-8\">\n",
      "<link rel=\"stylesheet\" href=\"/css/mojo.css?1\" type=\"text/css\" media=\"print\" title=\"no title\" charset=\"utf-8\"></head>\n",
      "<body>\n",
      "<div id=\"fb-root\"></div>\n",
      "<script>(function(d, s, id) {\n",
      "  var js, fjs = d.getElementsByTagName(s)[0];\n",
      "  if (d.getElementById(id)) {return;}\n",
      "  js = d.createElement(s); js.id = id;\n",
      "  js.src = \"//connect.facebook.net/en_US/all.js#xfbml=1\";\n",
      "  fjs.parentNode.insertBefore(js, fjs);\n",
      "}(document, 'script', 'facebook-jssdk'));</script>\n",
      "<!-- COLUMN #1 (left side nav bar) -->\n",
      "<iframe id=\"sis_pixel_sitewide\" width=\"1\" height=\"1\" frameborder=\"0\" marginwidth=\"0\" marginheight=\"0\" style=\"display: none;\"></iframe>\n",
      "<script>\n",
      "    setTimeout(function(){\n",
      "        try{\n",
      "            //sis3.0 pixel\n",
      "            var cacheBust = Math.random() * 10000000000000000,\n",
      "                url_sis3 = 'http://s.amazon-adsystem.com/iu3?',\n",
      "                params_sis3 = [\n",
      "                    \"d=boxofficemojo.com\",\n",
      "                    \"cb=\" + cacheBust\n",
      "                ];\n",
      "\n",
      "            (document.getElementById('sis_pixel_sitewide')).src = url_sis3 + params_sis3.join('&');\n",
      "        }catch(e){\n",
      "            if (window.ueLogError) { \n",
      "                window.ueLogError(e);\n",
      "            }\n",
      "        }\n",
      "    }, 5);\n",
      "</script>\n",
      "\n",
      "<div id=\"container\">\n",
      "<div>\n",
      "<!-- GOOGLE ANALYTICS CODE STARTS -->\n",
      "<script type=\"text/javascript\">\n",
      "\n",
      "  var _gaq = _gaq || [];\n",
      "  _gaq.push(['_setAccount', 'UA-2831726-1']);\n",
      "  _gaq.push(['_trackPageview']);\n",
      "\n",
      "  (function() {\n",
      "    var ga = document.createElement('script'); ga.type = 'text/javascript'; ga.async = true;\n",
      "    ga.src = ('https:' == document.location.protocol ? 'https://ssl' : 'http://www') + '.google-analytics.com/ga.js';\n",
      "    (document.getElementsByTagName('head')[0] || document.getElementsByTagName('body')[0]).appendChild(ga);\n",
      "  })();\n",
      "\n",
      "</script>\n",
      "<!-- GOOGLE ANALYTICS CODE ENDS -->\n",
      "\t<div id=\"hp_banner\">\n",
      "\t<div id=\"top_links\">\n",
      "\t\t<div style=\"float: left\"><a href=\"/goto.php?a=5\" target=\"4\"><font face=\"Verdana\" size=\"3\"><b>'Furious 7' hits $800 million worldwide... ></b></font><br></a><a href=\"/daily/chart/\">Daily Box Office (Sun.)</a> | <a href=\"/weekend/chart/\">Weekend Box Office (Apr. 10&ndash;12)</a> | <a href=\"/movies/?id=fast7.htm\">#1 Movie: 'Furious 7'</a> | <a href=\"http://www.imdb.com/showtimes/?ref_=mojo\">Showtimes</a></div>\n",
      "\t\t<div style=\"float: right\">Updated 4/13/2015 12:20 P.M. Pacific Time</div>\n",
      "\t\t<div style=\"clear:both; height: 0px\"></div>\n",
      "\t</div>\n",
      "</div>\n",
      "\t\t\n",
      "<div id=\"header\">\n",
      "\t<div id=\"leaderboard\"><!-- begin ad tag (tile=1) -->\r\n",
      "<script type=\"text/javascript\">\r\n",
      "//<![CDATA[\r\n",
      "ord=580843827;\r\n",
      "document.write('<iframe src=\"http://ad.doubleclick.net/N4215/adi/imdb2.bom.homepage/;p=t;tile=1;sz=728x90;oe=ISO-8859-1;ord=' + ord + '?\" width=\"728\" height=\"90\" marginwidth=\"0\" marginheight=\"0\" frameborder=\"0\" scrolling=\"no\">');\r\n",
      "\r\n",
      "if (navigator.userAgent.indexOf(\"Gecko\")==-1)\r\n",
      "{\r\n",
      "document.write('<script type=\"text/javascript\" src=\"http://ad.doubleclick.net/N4215/adj/imdb2.bom.homepage/;p=t;tile=1;sz=728x90;abr=!ie;oe=ISO-8859-1;ord=' + ord + '?\"><\\/script>');\r\n",
      "}\r\n",
      "document.write('<\\/iframe>');\r\n",
      "//]]>\r\n",
      "</script>\r\n",
      "<noscript><a href=\"http://ad.doubleclick.net/N4215/jump/imdb2.bom.homepage/;p=t;tile=1;sz=728x90;oe=ISO-8859-1;ord=580843827?\" target=\"_blank\" ><img src=\"http://ad.doubleclick.net/N4215/ad/imdb2.bom.homepage/;p=t;tile=1;sz=728x90;oe=ISO-8859-1;ord=580843827?\" border=\"0\" alt=\"\" ></a></noscript>\r\n",
      "<!-- end ad tag --></div>\t<div id=\"hp_logo\"><a href=\"/\"><img src=\"/img/misc/bom_logo1.png\" width=\"245\" height=\"56\" alt=\"Box Office Mojo\"></a></div>\n",
      "\t<div style=\"clear:both; height: 0px\"></div>\n",
      "</div>\n",
      "\n",
      "\n",
      "</div>\n",
      "\n",
      "\n",
      "<div id=\"main\">\n",
      "<!-- COLUMN 1 of 4 -->\n",
      "\t<div id=\"leftnav\">\n",
      "<!-- google_ad_section_start(weight=ignore) -->\n",
      "<!-- <table id=\"navleft\" cellspacing=\"0\" cellpadding=\"2\" border=\"0\"> -->\n",
      "<ul id=\"leftnav\">\n",
      "<li class=\"nl_section\">Search Site</li>\n",
      "<li class=\"nl_link\" style=\"padding-left:0px\">\n",
      "\t<form name=\"searchbox\" method=\"POST\" action=\"/search/q.php\">\n",
      "\t<input name=\"q\"  type=\"text\" style=\"font-size: 9 pt; font-weight: bold; width: 90px;\"><br>\n",
      "\t<input type=\"submit\" value=\"Search...\" ></form> \n",
      "</li>\n",
      "<li class='nl_section'>Social</li>\n",
      "<li class=\"nl_link\"><a href=\"http://facebook.com/boxofficemojo\" style=\"vertical-align:middle;\"><img src=\"/images/FaceBook_16x16.png\" border=\"0\" alt=\"Facebook Logo\">Facebook</a></li>\n",
      "<li class=\"nl_link\"><a href=\"http://twitter.com/boxofficemojo\" style=\"vertical-align:middle;\"><img src=\"/images/Twitter_16x16.png\" border=\"0\" alt=\"Twitter Logo\">Twitter</a></li>\n",
      "\n",
      "<li class='nl_section'>Features</li>\n",
      "<li class='nl_link'><a href=\"/news/\">News</a></li>\n",
      "<li class='nl_link'><a href=\"/schedule/\">Release Sched.</a></li>\n",
      "<li class='nl_link'><a href=\"http://www.imdb.com/showtimes?ref_=mojo\">Showtimes<br/><span style=\"margin-left:7px;color: #999999; font-size: 9px;\">at <img src=\"/images/mojo_imdb_sm.png\"/></span></a></li>\n",
      "<li class='nl_section'>Box Office</li>\n",
      "<li class='nl_link'><a href=\"/daily/\">Daily</a></li>\n",
      "<li class='nl_link'><a href=\"/weekend/\">Weekend</a></li>\n",
      "<li class='nl_link'><a href=\"/weekly/\">Weekly</a></li>\n",
      "<li class='nl_link'><a href=\"/monthly/\">Monthly</a></li>\n",
      "<li class='nl_link'><a href=\"/quarterly/\">Quarterly</a></li>\n",
      "<li class='nl_link'><a href=\"/seasonal/\">Seasonal</a></li>\n",
      "<li class='nl_link'><a href=\"/yearly/\">Yearly</a></li>\n",
      "<li class='nl_link'><a href=\"/alltime/\">All Time</a></li>\n",
      "<li class='nl_link'><a href=\"/chartwatch/\">Chart Watch</a></li>\n",
      "<li class='nl_link'><a href=\"/intl/\">International</a></li>\n",
      "<li class='nl_section'>Indices</li>\n",
      "<li class='nl_link'><a href=\"/movies/\">Movies A-Z</a></li>\n",
      "<li class='nl_link'><a href=\"/studio/\">Studios</a></li>\n",
      "<li class='nl_link'><a href=\"/people/\">People</a></li>\n",
      "<li class='nl_link'><a href=\"/genres/\">Genres</a></li>\n",
      "<li class='nl_link'><a href=\"/franchises/\">Franchises</a></li>\n",
      "<li class='nl_link'><a href=\"/showdowns/\">Showdowns</a></li>\n",
      "<li class='nl_link'><a href=\"/oscar/\">Oscar</a></li>\n",
      "<li class='nl_link'><a href=\"/counts/\">Theater Counts</a></li>\n",
      "</ul>\n",
      "</div>\n",
      "\t<div id=\"body\">\n",
      "<!-- COLUMN #2 -->\n",
      "\t<div id=\"col2\">\n",
      "\t\t<div class=\"hp_tab\">Top Story</div>\n",
      "<div class=\"hp_box\">\n",
      "<div id=\"storyspc\"><a href=\"/news/?id=4055&amp;p=.htm\"><img src=\"/image2/fast7_spotlight_6.jpg\" alt=\"'Furious 7' Repeats, Sets Opening Day Record in China\" border=\"0\" width=\"300\" height=\"153\"><br></a>\n",
      "<h3><a href=\"/news/?id=4055&amp;p=.htm\">'Furious 7' Repeats, Sets Opening Day Record in China</a></h3>\n",
      "<span class=\"author\">by Ray Subers</span><br>\n",
      "\n",
      "<p><B><a href=\"http://www.boxofficemojo.com/news/?id=4055&p=.htm\">Weekend Report:</a></B> <b>Furious 7</b> is already the highest-grossing <b>Fast</b> movie at the domestic and worldwide box office... <B><a href=\"http://www.boxofficemojo.com/news/?id=4055&p=.htm\">> FULL STORY</a></B>\n",
      "</p>\n",
      "</div></div>\n",
      "<table border=\"0\" cellspacing=\"0\" cellpadding=\"0\" width=\"99%\"><tr><td align=\"right\"><font face=\"Verdana\" size=\"1\"><b><a href=\"/news/\">&gt; MORE STORIES</a></b></font></td></tr></table><div class=\"hp_tab\">Showdowns</div>\n",
      "<div class=\"hp_box\"><table id=\"showdowns\" cellspacing=\"0\" cellpadding=\"3\" width=\"100%\"><tr bgcolor=\"#ffffff\" style=\"border: none;\"><td colspan=\"2\" align=\"center\" style=\"border: none;\"><a href=\"/showdowns/chart/?id=2dopeners.htm\"><b>'Furious 7' Vs. 'The Hunger Games'</b></a></td></tr><tr bgcolor=\"#ffffff\" style=\"border: none;\"><td valign=\"top\" align=\"center\" style=\"border: none;\"><a href=\"/showdowns/chart/?id=2dopeners.htm\"><img src=\"/images/miniposters2015/fast7_poster_sm.jpg\" border=\"0\" alt=\"Furious 7\"></a></td><td valign=\"top\" align=\"center\"><a href=\"/showdowns/chart/?id=2dopeners.htm\"><img src=\"/images/miniposters2012/hungergames_poster_sm.jpg\" border=\"0\" alt=\"The Hunger Games\"></a></td></tr>\n",
      "<tr bgcolor=\"#ffffff\" style=\"border: none;\"><td align=\"center\" style=\"border: none;\">10-Day Total:<br>$251,516,400</td><td align=\"center\" style=\"border: none;\">10-Day Total:<br>$248,483,901</td></tr><tr bgcolor=\"#ffffff\" style=\"border: none;\"><td colspan=\"2\" align=\"center\"><a href=\"/showdowns/chart/?id=2dopeners.htm\"><b>&gt; VIEW FULL SHOWDOWN</b></a></td></tr><tr bgcolor=\"#ffffff\" style=\"border: none;\"><td colspan=\"2\" align=\"center\" style=\"border: none;\"><a href=\"/showdowns/chart/?id=dreamworksmarch.htm\"><b>'Home' vs. 'Monsters Vs. Aliens'</b></a></td></tr><tr bgcolor=\"#ffffff\" style=\"border: none;\"><td valign=\"top\" align=\"center\" style=\"border: none;\"><a href=\"/showdowns/chart/?id=dreamworksmarch.htm\"><img src=\"/images/miniposters2015/happysmekday_poster_sm.jpg\" border=\"0\" alt=\"Home\"></a></td><td valign=\"top\" align=\"center\"><a href=\"/showdowns/chart/?id=dreamworksmarch.htm\"><img src=\"/images/miniposters2009/monstersvsaliens_poster_sm.jpg\" border=\"0\" alt=\"Monsters Vs. Aliens\"></a></td></tr>\n",
      "<tr bgcolor=\"#ffffff\" style=\"border: none;\"><td align=\"center\" style=\"border: none;\">17-Day Total:<br>$129,085,777</td><td align=\"center\" style=\"border: none;\">17-Day Total:<br>$140,203,799</td></tr><tr bgcolor=\"#ffffff\" style=\"border: none;\"><td colspan=\"2\" align=\"center\"><a href=\"/showdowns/chart/?id=dreamworksmarch.htm\"><b>&gt; VIEW FULL SHOWDOWN</b></a></td></tr><tr bgcolor=\"#ffffff\" style=\"border: none;\"><td colspan=\"2\" align=\"center\" style=\"border: none;\"><a href=\"/showdowns/chart/?id=kevinhartshow.htm\"><b>'Get Hard' Vs. 'Ride Along'</b></a></td></tr><tr bgcolor=\"#ffffff\" style=\"border: none;\"><td valign=\"top\" align=\"center\" style=\"border: none;\"><a href=\"/showdowns/chart/?id=kevinhartshow.htm\"><img src=\"/images/miniposters2015/gethard_poster_sm.jpg\" border=\"0\" alt=\"Get Hard\"></a></td><td valign=\"top\" align=\"center\"><a href=\"/showdowns/chart/?id=kevinhartshow.htm\"><img src=\"/images/miniposters2014/ridealong_poster_sm.jpg\" border=\"0\" alt=\"Ride Along\"></a></td></tr>\n",
      "<tr bgcolor=\"#ffffff\" style=\"border: none;\"><td align=\"center\" style=\"border: none;\">17-Day Total:<br>$70,783,826</td><td align=\"center\" style=\"border: none;\">17-Day Total:<br>$92,698,470</td></tr><tr bgcolor=\"#ffffff\" style=\"border: none;\"><td colspan=\"2\" align=\"center\"><a href=\"/showdowns/chart/?id=kevinhartshow.htm\"><b>&gt; VIEW FULL SHOWDOWN</b></a></td></tr><tr bgcolor=\"#ffffff\" style=\"border: none;\"><td align=\"center\" colspan=\"2\" style=\"border: none;\"><a href=\"/showdowns/chart/?id=fast56.htm\">'Furious 7' vs. 'Fast & Furious 6'</a></td></tr><tr bgcolor=\"#ffffff\" style=\"border: none;\"><td align=\"center\" colspan=\"2\" style=\"border: none;\"><a href=\"/showdowns/chart/?id=shailene.htm\">'Insurgent' Vs. 'Divergent'</a></td></tr><tr bgcolor=\"#ffffff\" style=\"border: none;\"><td align=\"center\" colspan=\"2\" style=\"border: none;\"><a href=\"/showdowns/chart/?id=aliceoz.htm\">'Cinderella' Vs. 'Maleficent'</a></td></tr><tr bgcolor=\"#ffffff\" style=\"border: none;\"><td align=\"center\" colspan=\"2\" style=\"border: none;\"><a href=\"/showdowns/chart/?id=presdaycomic.htm\">'Kingsman' Vs. 'Ghost Rider'</a></td></tr><tr bgcolor=\"#ffffff\" style=\"border: none;\"><td align=\"center\" colspan=\"2\" style=\"border: none;\"><a href=\"/showdowns/chart/?id=twilight50s.htm\">'Fifty Shades' Vs. 'Twilight'</a></td></tr><tr style=\"border: none;\"><td style=\"border: none;\" bgcolor=\"#ffffff\" colspan=\"2\" align=\"right\"><font face=\"Verdana\" size=\"1\"><a href=\"/showdowns/\"><b>&gt; MORE SHOWDOWNS</b></a></font></td></tr></table></div>\t</div>\n",
      "\n",
      "<!-- COLUMN #3  -->\n",
      "\t<div id=\"col3\">\n",
      "\t\t<div class=\"hp_tab\">Weekend Actuals</div>\n",
      "<div class=\"hp_boteaser\"><table id=\"hp_boxoffice\" cellspacing=\"0\" cellpadding=\"1\" border=\"0\" width=\"100%\">\n",
      "<tr bgcolor=\"#ffffff\"><td align=\"center\" valign=\"top\">1.</td><td><a href=\"/movies/?id=fast7.htm\"><font size=\"2\">Furious 7</font></a></td><td align=\"right\">$59,585,930</td></tr>\n",
      "<tr bgcolor=\"#ffffff\"><td align=\"center\" valign=\"top\">2.</td><td><a href=\"/movies/?id=happysmekday.htm\"><font size=\"2\">Home</font></a></td><td align=\"right\">$18,532,280</td></tr>\n",
      "<tr bgcolor=\"#ffffff\"><td align=\"center\" valign=\"top\">3.</td><td><a href=\"/movies/?id=thelongestride.htm\"><font size=\"2\">The Longest Ride</font></a></td><td align=\"right\">$13,019,686</td></tr>\n",
      "<tr><td align=\"right\" colspan=\"3\"><font face=\"Verdana\" size=\"1\"><b><a href=\"/weekend/chart/\">&gt; VIEW FULL WEEKEND CHART</a></b></font></td></tr></table></div>\n",
      "<div class=\"hp_tab\">Sunday Box Office</div>\n",
      "<div class=\"hp_boteaser\"><table id=\"hp_boxoffice\" cellspacing=\"0\" cellpadding=\"1\" border=\"0\" width=\"100%\">\n",
      "<tr bgcolor=\"#ffffff\"><td align=\"center\" valign=\"top\"><font size=\"2\">1</font>.</td><td><a href=\"/movies/?id=fast7.htm\"><font size=\"2\">Furious 7</font></a></td><td align=\"right\">$15,263,490</td></tr>\n",
      "<tr bgcolor=\"#ffffff\"><td align=\"center\" valign=\"top\"><font size=\"2\">2</font>.</td><td><a href=\"/movies/?id=happysmekday.htm\"><font size=\"2\">Home</font></a></td><td align=\"right\">$4,877,011</td></tr>\n",
      "<tr bgcolor=\"#ffffff\"><td align=\"center\" valign=\"top\"><font size=\"2\">3</font>.</td><td><a href=\"/movies/?id=thelongestride.htm\"><font size=\"2\">The Longest Ride</font></a></td><td align=\"right\">$2,579,531</td></tr>\n",
      "<tr><td align=\"right\" colspan=\"3\"><font face=\"Verdana\" size=\"1\"><b><a href=\"/daily/chart/\">&gt; VIEW FULL DAILY CHART</a></b></font></td></tr></table></div>\n",
      "<div class=\"hp_tab\">Latest Updates</div>\n",
      "<div class=\"hp_box\"><table cellspacing=\"0\" cellpadding=\"3\" border=\"0\" width=\"100%\" id=\"latest_updates\"><tr><td bgcolor=\"#ffffff\"  class=\"lu_entry\"><a href=\"lu.php?57g\">WEEKEND: Actuals (84 tracked)</a></td></tr><tr><td bgcolor=\"#ffffff\"  class=\"lu_entry\"><a href=\"lu.php?57l\">WEEKEND: Studio Estimates vs. Actuals</a></td></tr><tr><td bgcolor=\"#ffffff\"  class=\"lu_entry\"><a href=\"lu.php?57m\">DAILY: Sunday, 4/12 (35 tracked)</a></td></tr><tr><td bgcolor=\"#ffffff\"  class=\"lu_entry\"><a href=\"lu.php?57h\">DAILY: Saturday, 4/11 (35 tracked)</a></td></tr><tr><td bgcolor=\"#ffffff\"  class=\"lu_entry\"><a href=\"lu.php?57d\">DAILY: Friday, 4/10 (35 tracked)</a></td></tr><tr><td bgcolor=\"#ffffff\"  class=\"lu_entry\"><a href=\"lu.php?57k\">ALL TIME: 10-Day Grosses</a></td></tr><tr><td bgcolor=\"#ffffff\"  class=\"lu_entry\"><a href=\"lu.php?57n\">ALL TIME: 9-Day Grosses</a></td></tr><tr><td bgcolor=\"#ffffff\"  class=\"lu_entry\"><a href=\"lu.php?57j\">ALL TIME: Fastest to $250 Million</a></td></tr><tr><td bgcolor=\"#ffffff\"  class=\"lu_entry\"><a href=\"lu.php?57i\">ALL TIME: 2nd Weekends</a></td></tr><tr><td bgcolor=\"#ffffff\"  class=\"lu_entry\"><a href=\"lu.php?57e\">ALL TIME: Fastest to $200 Million</a></td></tr><tr><td bgcolor=\"#ffffff\"  class=\"lu_entry\"><a href=\"lu.php?57f\">ALL TIME: 8-Day Grosses</a></td></tr><tr><td bgcolor=\"#ffffff\"  class=\"lu_entry\"><a href=\"lu.php?57b\">ALL TIME: Opening Weeks</a></td></tr><tr><td align=\"right\"><font face=\"Verdana\" size=\"1\"><b><a href=\"/latestupdates.htm\">&gt; MORE UPDATES</a></b></font></td></tr></table></div><div class=\"hp_tab\">Release Schedule</div>\n",
      "<div class=\"hp_box\"><table border=\"0\" cellspacing=\"0\" cellpadding=\"2\" width=\"100%\"><tr class=\"release_date\"><td align=\"center\"><b>April 17</b></td><td align=\"center\"><b>Theaters</b></td></tr><tr class=\"release_movie\" bgcolor=\"#ffffff\"><td><a href=\"/movies/?id=monkeykingdom.htm\">Monkey Kingdom</a></td><td align=\"center\"> 2,000</td></tr><tr class=\"release_movie\" bgcolor=\"#ffffff\"><td><a href=\"/movies/?id=paulblart2.htm\">Paul Blart: Mall Cop 2</a></td><td align=\"center\"> 3,600</td></tr><tr class=\"release_movie\" bgcolor=\"#ffffff\"><td><a href=\"/movies/?id=cybernatural.htm\">Unfriended</a></td><td align=\"center\"> 2,600+</td></tr><tr class=\"release_movie\" bgcolor=\"#ffffff\"><td><a href=\"/movies/?id=child44.htm\">Child 44</a></td><td align=\"center\"> 500</td></tr><tr class=\"release_movie\" bgcolor=\"#ffffff\"><td><a href=\"/movies/?id=truestory.htm\">True Story</a></td><td align=\"center\"> 550</td></tr><tr class=\"release_date\"><td align=\"center\"><b>April 24</b></td><td align=\"center\"><b>Theaters</b></td></tr><tr class=\"release_movie\" bgcolor=\"#ffffff\"><td><a href=\"/movies/?id=ageofadaline.htm\">The Age of Adaline</a></td><td align=\"center\">Nationwide</td></tr><tr class=\"release_movie\" bgcolor=\"#ffffff\"><td><a href=\"/movies/?id=littleboy.htm\">Little Boy</a></td><td align=\"center\">Nationwide</td></tr><tr class=\"release_movie\" bgcolor=\"#ffffff\"><td><a href=\"/movies/?id=adultbeginners.htm\">Adult Beginners</a></td><td align=\"center\">Limited</td></tr><tr class=\"release_movie\" bgcolor=\"#ffffff\"><td><a href=\"/movies/?id=waterdiviner.htm\">The Water Diviner</a></td><td align=\"center\">Limited</td></tr><tr class=\"release_date\"><td align=\"center\"><b>May 1</b></td><td align=\"center\"><b>Theaters</b></td></tr><tr class=\"release_movie\" bgcolor=\"#ffffff\"><td><a href=\"/movies/?id=avengers2.htm\">Avengers: Age of Ultron</a></td><td align=\"center\">Nationwide</td></tr><tr class=\"release_movie\" bgcolor=\"#ffffff\"><td><a href=\"/movies/?id=maddingcrowd.htm\">Far from the Madding Crowd</a></td><td align=\"center\">Limited</td></tr><tr class=\"release_movie\" bgcolor=\"#ffffff\"><td><a href=\"/movies/?id=welcometome.htm\">Welcome to Me</a></td><td align=\"center\">Limited</td></tr><tr class=\"release_date\"><td align=\"center\"><b>May 8</b></td><td align=\"center\"><b>Theaters</b></td></tr><tr class=\"release_movie\" bgcolor=\"#ffffff\"><td><a href=\"/movies/?id=somnia.htm\">Before I Wake</a></td><td align=\"center\">Nationwide</td></tr><tr class=\"release_movie\" bgcolor=\"#ffffff\"><td><a href=\"/movies/?id=witherspoonvergara.htm\">Hot Pursuit</a></td><td align=\"center\">Nationwide</td></tr><tr class=\"release_movie\" bgcolor=\"#ffffff\"><td><a href=\"/movies/?id=5flightsup.htm\">5 Flights Up</a></td><td align=\"center\">Limited</td></tr><tr class=\"release_movie\" bgcolor=\"#ffffff\"><td><a href=\"/movies/?id=dtrain.htm\">The D Train</a></td><td align=\"center\">Moderate</td></tr><tr class=\"release_movie\" bgcolor=\"#ffffff\"><td><a href=\"/movies/?id=maggie.htm\">Maggie</a></td><td align=\"center\">Limited</td></tr><tr class=\"release_movie\" bgcolor=\"#ffffff\"><td><a href=\"/movies/?id=saintlaurent.htm\">Saint Laurent</a></td><td align=\"center\">Limited</td></tr><tr class=\"release_date\"><td align=\"center\"><b>May 15</b></td><td align=\"center\"><b>Theaters</b></td></tr><tr class=\"release_movie\" bgcolor=\"#ffffff\"><td><a href=\"/movies/?id=furyroad.htm\">Mad Max: Fury Road</a></td><td align=\"center\">Nationwide</td></tr><tr class=\"release_movie\" bgcolor=\"#ffffff\"><td><a href=\"/movies/?id=pitchperfect2.htm\">Pitch Perfect 2</a></td><td align=\"center\">Nationwide</td></tr><tr class=\"release_movie\" bgcolor=\"#ffffff\"><td><a href=\"/movies/?id=connection2015.htm\">The Connection</a></td><td align=\"center\">Limited</td></tr><tr class=\"release_movie\" bgcolor=\"#ffffff\"><td><a href=\"/movies/?id=goodkill.htm\">Good Kill</a></td><td align=\"center\">Limited</td></tr><tr class=\"release_movie\" bgcolor=\"#ffffff\"><td><a href=\"/movies/?id=dreams15.htm\">I'll See You In My Dreams</a></td><td align=\"center\">Limited</td></tr><tr class=\"release_movie\" bgcolor=\"#ffffff\"><td><a href=\"/movies/?id=wherehopegrows.htm\">Where Hope Grows</a></td><td align=\"center\">Limited</td></tr><tr><td colspan=\"2\" align=\"right\"><font face=\"Verdana\" size=\"1\"><b><a href=\"/schedule/\">&gt; VIEW FULL SCHEDULE</a></b></font></td></tr></table></div>\t</div>\n",
      "<!-- COLUMN 4 of 4 -->\n",
      "\t<div id=\"col4\">\n",
      "\t\t<div class=\"hp_tab\">Showtimes &amp; Tickets</div>\n",
      "<div class=\"hp_box\" style=\"padding: 15px 0px 15px 0px;\">\n",
      "    <a href=\"http://www.imdb.com/showtimes?ref_=mojo\"><img style=\"vertical-align:middle\" src=\"/images/mojo_imdb_med.png\"/></a> <a href=\"http://www.imdb.com/showtimes?ref_=mojo\">Get local showtimes at IMDb</a>\n",
      "</div>\n",
      "\n",
      "\t\t<div><!-- begin ad tag (tile=2) -->\r\n",
      "<script type=\"text/javascript\">\r\n",
      "//<![CDATA[\r\n",
      "ord=580843827;\r\n",
      "document.write('<iframe src=\"http://ad.doubleclick.net/N4215/adi/imdb2.bom.homepage/;p=rh;tile=2;sz=300x250;oe=ISO-8859-1;ord=' + ord + '?\" width=\"300\" height=\"250\" marginwidth=\"0\" marginheight=\"0\" frameborder=\"0\" scrolling=\"no\">');\r\n",
      "\r\n",
      "if (navigator.userAgent.indexOf(\"Gecko\")==-1)\r\n",
      "{\r\n",
      "document.write('<script type=\"text/javascript\" src=\"http://ad.doubleclick.net/N4215/adj/imdb2.bom.homepage/;p=rh;tile=2;sz=300x250;abr=!ie;oe=ISO-8859-1;ord=' + ord + '?\"><\\/script>');\r\n",
      "}\r\n",
      "document.write('</iframe>');\r\n",
      "//]]>\r\n",
      "</script>\r\n",
      "<noscript><a href=\"http://ad.doubleclick.net/N4215/jump/imdb2.bom.homepage/;p=rh;tile=2;sz=300x250;oe=ISO-8859-1;ord=580843827?\" target=\"_blank\" ><img src=\"http://ad.doubleclick.net/N4215/ad/imdb2.bom.2/;p=rh;tile=2;sz=300x250;oe=ISO-8859-1;ord=580843827?\" border=\"0\" alt=\"\" /></a></noscript>\r\n",
      "<!-- end ad tag --></div>\n",
      "        \n",
      "        <div class=\"fb-like-box hp_tab\" data-href=\"http://www.facebook.com/boxofficemojo\"\n",
      "        data-width=\"302\" data-show-faces=\"true\" data-stream=\"false\"\n",
      "        data-header=\"true\"></div>\n",
      "\n",
      "        <div class=\"hp_tab\">@boxofficemojo Live On Twitter</div>\n",
      "<div class=\"hp_box\">\n",
      "<small>No Twitter content currently available</small>\n",
      "<p><b>Follow <a href=\"http://twitter.com/boxofficemojo/\">@BoxOfficeMojo</a> on Twitter for more...</b></p>\n",
      "</div>\n",
      "\t</div>\n",
      "<div style=\"clear:both; width: 90%\">\n",
      "\t<div style=\"clear:both; width: 90%\"></div><br /></div>\n",
      "\t</div>\n",
      "\t</div>\n",
      "\t<div id=\"hp_footer\">\n",
      "\t\t<div style=\"padding-bottom: 20px;\">\n",
      "\n",
      "\t\t\t<div style=\"margin: 0px 121px; vertical-align: top;\">\n",
      "\t\t\t\t<div id=\"footer_links\">\n",
      "\t\t\t\t\t<ul class=\"footer_link_list\">\n",
      "\t\t\t\t\t\t<li><strong>Latest Updates</strong></li>\n",
      "\t\t\t\t\t\t<li><a href=\"/news/?ref=ft\">Movie News</a>\n",
      "\t\t\t\t\t\t<li><a href=\"/daily/chart/?ref=ft\">Daily Chart</a></li>\n",
      "\t\t\t\t\t\t<li><a href=\"/weekend/chart/?ref=ft\">Weekend Chart</a></li>\n",
      "\t\t\t\t\t\t<li><a href=\"/alltime/?ref=ft\">All Time Charts</a></li>\n",
      "\t\t\t\t\t\t<li><a href=\"/intl/?ref=ft\">International Charts</a></li>\n",
      "\t\t\t\t\t</ul>\n",
      "\t\t\t\t\t<!--\n",
      "\t\t\t\t\t<ul class=\"footer_link_list\">\n",
      "\t\t\t\t\t\t<li><strong>Popular Movies</strong></li>\n",
      "\t\t\t\t\t\t\t\t\t\t\t</ul>\n",
      "\t\t\t\t\t-->\n",
      "\t\t\t\t\t<ul class=\"footer_link_list\">\n",
      "\t\t\t\t\t\t<li><strong>Indices</strong></li>\n",
      "\t\t\t\t\t\t<li><a href=\"/movies/?ref=ft\">Movies A-Z</a></li>\n",
      "\t\t\t\t\t\t<li><a href=\"/people/?ref=ft\">People</a></li>\n",
      "\t\t\t\t\t\t<li><a href=\"/genres/?ref=ft\">Genres</a></li>\n",
      "\t\t\t\t\t\t<li><a href=\"/franchises/?ref=ft\">Franchises</a></li>\n",
      "\t\t\t\t\t\t<li><a href=\"/showdowns/?ref=ft\">Showdowns</a></li>\n",
      "\t\t\t\t\t</ul>\n",
      "\t\t\t\t\t<ul class=\"footer_link_list\">\n",
      "\t\t\t\t\t\t<li><strong>Other</strong></li>\n",
      "\t\t\t\t\t\t<li><a href=\"/about/?ref=ft\">About This Site</a></li>\n",
      "\t\t\t\t\t\t<li><a href=\"/about/advertise.htm?ref=ft\">Advertising</a></li>\n",
      "\t\t\t\t\t\t<li><a href=\"/users/?ref=ft\">My Account</a></li>\n",
      "\t\t\t\t\t\t<li><a href=\"/about/rss.htm?ref=ft\">RSS Feeds</a></li>\n",
      "\t\t\t\t\t</ul>\n",
      "\t\t\t\t</div>\n",
      "\t\t\t\t<div id=\"copyright\">\n",
      "\t\t\t\t\t<a href=\"/?ref=ft\"><img src=\"/img/misc/bom_logo1.png\" width=\"245\" height=\"56\" alt=\"Box Office Mojo\"></a><br>\n",
      "\t\t\t\t\t<p>An <a href=\"http://imdb.com/\"><img src=\"/img/misc/IMDbSm.png\" width=\"34\" height=\"16\" alt=\"IMDb\" valign=\"middle\"></a> company<br><br></p>\n",
      "\t\t\t\t\t<p>&copy; <a href=\"http://imdb.com/\">IMDb.com</a>, Inc. or its affiliates. All rights reserved. Box Office Mojo and IMDb are trademarks or registered trademarks of IMDb.com, Inc. or its affiliates. <a href=\"/about/termsofuse.htm\">Terms of Use</a> and <a href=\"/about/privacy.htm\">Privacy Policy</a> under which this service is provided to you.</p>\n",
      "\t\t\t\t\t</div>\t\t\t\n",
      "\t\t\t\t</div>\n",
      "\t\t\t\t<div style=\"clear:both;\">\n",
      "\t\t\t\t<div>\n",
      "\t\t\t\t <!-- begin ad tag (tile=6) -->\r\n",
      "<script type=\"text/javascript\">\r\n",
      "//<![CDATA[\r\n",
      "ord=580843827;\r\n",
      "document.write('<iframe src=\"http://ad.doubleclick.net/N4215/adi/imdb2.bom.homepage/;p=b;tile=3;sz=728x90;oe=ISO-8859-1;ord=' + ord + '?\" width=\"728\" height=\"90\" marginwidth=\"0\" marginheight=\"0\" frameborder=\"0\" scrolling=\"no\">');\r\n",
      "\r\n",
      "if (navigator.userAgent.indexOf(\"Gecko\")==-1)\r\n",
      "{\r\n",
      "document.write('<script type=\"text/javascript\" src=\"http://ad.doubleclick.net/N4215/adj/imdb2.bom.homepage/;p=b;tile=3;sz=728x90;abr=!ie;oe=ISO-8859-1;ord=' + ord + '?\"><\\/script>');\r\n",
      "}\r\n",
      "document.write('<\\/iframe>');\r\n",
      "//]]>\r\n",
      "</script>\r\n",
      "<noscript><a href=\"http://ad.doubleclick.net/N4215/jump/imdb2.bom.homepage/;p=b;tile=3;sz=728x90;oe=ISO-8859-1;ord=580843827?\" target=\"_blank\" ><img src=\"http://ad.doubleclick.net/N4215/ad/imdb2.bom.homepage/;p=b;tile=3;sz=728x90;oe=ISO-8859-1;ord=580843827?\" border=\"0\" alt=\"\" ></a></noscript>\r\n",
      "<!-- end ad tag --></div>\n",
      "\n",
      "\t\t\t\t</div>\n",
      "\t</div>\n",
      "</div>\n",
      "\n",
      "\n",
      "\n",
      "\n",
      "\n",
      "<!-- Page generated in 0.03 seconds | . -->\n",
      "<script>\n",
      "  var _comscore = _comscore || [];\n",
      "  _comscore.push({ c1: \"2\", c2: \"6034961\" });\n",
      "  (function() {\n",
      "    var s = document.createElement(\"script\"), el = document.getElementsByTagName(\"script\")[0]; s.async = true;\n",
      "    s.src = (document.location.protocol == \"https:\" ? \"https://sb\" : \"http://b\") + \".scorecardresearch.com/beacon.js\";\n",
      "  el.parentNode.insertBefore(s, el);\n",
      "  })();\n",
      "</script>\n",
      "<noscript>\n",
      "    <img src=\"http://b.scorecardresearch.com/p?c1=2&c2=6034961&cv=2.0&cj=1\" />\n",
      "</noscript>\n",
      "</body>\n",
      "</html>\n",
      "\n"
     ]
    }
   ],
   "source": [
    "print urllib2.urlopen(\"http://boxofficemojo.com\").read()"
   ]
  },
  {
   "cell_type": "code",
   "execution_count": 6,
   "metadata": {
    "collapsed": true
   },
   "outputs": [],
   "source": [
    "#use pickle to store this so you dont have to access it every time\n",
    "\n",
    "#pickle demo\n",
    "x = {\"a\": \"b\"} #this is only in python's memory"
   ]
  },
  {
   "cell_type": "code",
   "execution_count": 9,
   "metadata": {
    "collapsed": false
   },
   "outputs": [],
   "source": [
    "#use pickle to put stuff in memory -- serialization\n",
    "#need to access files\n",
    "\n",
    "with open(\"impt.pkl\", \"w\") as f:\n",
    "    pickle.dump(x, f)\n",
    "#will create a file"
   ]
  },
  {
   "cell_type": "code",
   "execution_count": 14,
   "metadata": {
    "collapsed": false
   },
   "outputs": [
    {
     "name": "stdout",
     "output_type": "stream",
     "text": [
      "(dp0\r\n",
      "S'a'\r\n",
      "p1\r\n",
      "S'b'\r\n",
      "p2\r\n",
      "s."
     ]
    }
   ],
   "source": [
    "!cat impt.pkl"
   ]
  },
  {
   "cell_type": "code",
   "execution_count": 15,
   "metadata": {
    "collapsed": true
   },
   "outputs": [],
   "source": [
    "del(x)"
   ]
  },
  {
   "cell_type": "code",
   "execution_count": 16,
   "metadata": {
    "collapsed": true
   },
   "outputs": [],
   "source": [
    "with open(\"impt.pkl\", \"r\") as f:\n",
    "    x = pickle.load(f)"
   ]
  },
  {
   "cell_type": "code",
   "execution_count": 17,
   "metadata": {
    "collapsed": false
   },
   "outputs": [
    {
     "data": {
      "text/plain": [
       "{'a': 'b'}"
      ]
     },
     "execution_count": 17,
     "metadata": {},
     "output_type": "execute_result"
    }
   ],
   "source": [
    "x"
   ]
  },
  {
   "cell_type": "code",
   "execution_count": 18,
   "metadata": {
    "collapsed": true
   },
   "outputs": [],
   "source": [
    "l = [1, 'a', [4, 5]]\n",
    "with open(\"impt.pkl\", \"w\") as f:\n",
    "    pickle.dump(l, f)"
   ]
  },
  {
   "cell_type": "code",
   "execution_count": 19,
   "metadata": {
    "collapsed": false
   },
   "outputs": [
    {
     "name": "stdout",
     "output_type": "stream",
     "text": [
      "(lp0\r\n",
      "I1\r\n",
      "aS'a'\r\n",
      "p1\r\n",
      "a(lp2\r\n",
      "I4\r\n",
      "aI5\r\n",
      "aa."
     ]
    }
   ],
   "source": [
    "!cat impt.pkl"
   ]
  },
  {
   "cell_type": "code",
   "execution_count": 20,
   "metadata": {
    "collapsed": true
   },
   "outputs": [],
   "source": [
    "del(l)"
   ]
  },
  {
   "cell_type": "code",
   "execution_count": 22,
   "metadata": {
    "collapsed": false
   },
   "outputs": [
    {
     "ename": "NameError",
     "evalue": "name 'l' is not defined",
     "output_type": "error",
     "traceback": [
      "\u001b[0;31m---------------------------------------------------------------------------\u001b[0m",
      "\u001b[0;31mNameError\u001b[0m                                 Traceback (most recent call last)",
      "\u001b[0;32m<ipython-input-22-12f54a96f644>\u001b[0m in \u001b[0;36m<module>\u001b[0;34m()\u001b[0m\n\u001b[0;32m----> 1\u001b[0;31m \u001b[0ml\u001b[0m\u001b[0;34m\u001b[0m\u001b[0m\n\u001b[0m",
      "\u001b[0;31mNameError\u001b[0m: name 'l' is not defined"
     ]
    }
   ],
   "source": [
    "l"
   ]
  },
  {
   "cell_type": "code",
   "execution_count": 27,
   "metadata": {
    "collapsed": false
   },
   "outputs": [],
   "source": [
    "with open(\"impt.pkl\") as f:\n",
    "    #l = pickle.load(f)\n",
    "    x, y, z = pickle.load(f)"
   ]
  },
  {
   "cell_type": "code",
   "execution_count": 28,
   "metadata": {
    "collapsed": false
   },
   "outputs": [
    {
     "data": {
      "text/plain": [
       "(1, 'a', [4, 5])"
      ]
     },
     "execution_count": 28,
     "metadata": {},
     "output_type": "execute_result"
    }
   ],
   "source": [
    "x, y, z"
   ]
  },
  {
   "cell_type": "code",
   "execution_count": 31,
   "metadata": {
    "collapsed": false
   },
   "outputs": [],
   "source": [
    "#for a webpage\n",
    "main_page = urllib2.urlopen(\"http://boxofficemojo.com/\").read()\n",
    "with open('main_page.pkl', 'w') as f:\n",
    "    pickle.dump(main_page, f)"
   ]
  },
  {
   "cell_type": "code",
   "execution_count": null,
   "metadata": {
    "collapsed": true
   },
   "outputs": [],
   "source": [
    "#retrieve the file here\n",
    "\n",
    "#look at pickle warehouse for even easier use, without using everytime"
   ]
  }
 ],
 "metadata": {
  "kernelspec": {
   "display_name": "Python 2",
   "language": "python",
   "name": "python2"
  },
  "language_info": {
   "codemirror_mode": {
    "name": "ipython",
    "version": 2
   },
   "file_extension": ".py",
   "mimetype": "text/x-python",
   "name": "python",
   "nbconvert_exporter": "python",
   "pygments_lexer": "ipython2",
   "version": "2.7.5"
  }
 },
 "nbformat": 4,
 "nbformat_minor": 0
}
