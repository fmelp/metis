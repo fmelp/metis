{
 "cells": [
  {
   "cell_type": "markdown",
   "metadata": {},
   "source": [
    "Resources\n",
    "\n",
    "- https://github.com/jreback/metis\n",
    "- [Taxi Database](http://www.andresmh.com/nyctaxitrips/)\n",
    "- [pandas](http://pandas.pydata.org/pandas-docs/stable/)\n",
    "- [contributing to pandas](http://pandas-docs.github.io/pandas-docs-travis/contributing.html)\n",
    "- [blaze](http://blaze.pydata.org/en/latest/)"
   ]
  },
  {
   "cell_type": "code",
   "execution_count": 22,
   "metadata": {
    "collapsed": false
   },
   "outputs": [
    {
     "data": {
      "text/plain": [
       "'0.16.0-230-ga6ae1af'"
      ]
     },
     "execution_count": 22,
     "metadata": {},
     "output_type": "execute_result"
    }
   ],
   "source": [
    "import pandas as pd\n",
    "import numpy as np\n",
    "pd.set_option('max_rows',10)\n",
    "%matplotlib inline\n",
    "\n",
    "path = 'data/result.h5'\n",
    "pd.__version__"
   ]
  },
  {
   "cell_type": "code",
   "execution_count": 23,
   "metadata": {
    "collapsed": false
   },
   "outputs": [
    {
     "data": {
      "text/html": [
       "<div style=\"max-height:1000px;max-width:1500px;overflow:auto;\">\n",
       "<table border=\"1\" class=\"dataframe\">\n",
       "  <thead>\n",
       "    <tr style=\"text-align: right;\">\n",
       "      <th></th>\n",
       "      <th>medallion</th>\n",
       "      <th>hack_license</th>\n",
       "      <th>pickup_datetime</th>\n",
       "      <th>dropoff_datetime</th>\n",
       "      <th>passenger_count</th>\n",
       "      <th>trip_distance</th>\n",
       "    </tr>\n",
       "  </thead>\n",
       "  <tbody>\n",
       "    <tr>\n",
       "      <th>0</th>\n",
       "      <td>89D227B655E5C82AECF13C3F540D4CF4</td>\n",
       "      <td>BA96DE419E711691B9445D6A6307C170</td>\n",
       "      <td>2013-01-01 15:11:48</td>\n",
       "      <td>2013-01-01 15:18:10</td>\n",
       "      <td>4</td>\n",
       "      <td>1.0</td>\n",
       "    </tr>\n",
       "    <tr>\n",
       "      <th>1</th>\n",
       "      <td>0BD7C8F5BA12B88E0B67BED28BEA73D8</td>\n",
       "      <td>9FD8F69F0804BDB5549F40E9DA1BE472</td>\n",
       "      <td>2013-01-06 00:18:35</td>\n",
       "      <td>2013-01-06 00:22:54</td>\n",
       "      <td>1</td>\n",
       "      <td>1.5</td>\n",
       "    </tr>\n",
       "    <tr>\n",
       "      <th>2</th>\n",
       "      <td>0BD7C8F5BA12B88E0B67BED28BEA73D8</td>\n",
       "      <td>9FD8F69F0804BDB5549F40E9DA1BE472</td>\n",
       "      <td>2013-01-05 18:49:41</td>\n",
       "      <td>2013-01-05 18:54:23</td>\n",
       "      <td>1</td>\n",
       "      <td>1.1</td>\n",
       "    </tr>\n",
       "    <tr>\n",
       "      <th>3</th>\n",
       "      <td>DFD2202EE08F7A8DC9A57B02ACB81FE2</td>\n",
       "      <td>51EE87E3205C985EF8431D850C786310</td>\n",
       "      <td>2013-01-07 23:54:15</td>\n",
       "      <td>2013-01-07 23:58:20</td>\n",
       "      <td>2</td>\n",
       "      <td>0.7</td>\n",
       "    </tr>\n",
       "    <tr>\n",
       "      <th>4</th>\n",
       "      <td>DFD2202EE08F7A8DC9A57B02ACB81FE2</td>\n",
       "      <td>51EE87E3205C985EF8431D850C786310</td>\n",
       "      <td>2013-01-07 23:25:03</td>\n",
       "      <td>2013-01-07 23:34:24</td>\n",
       "      <td>1</td>\n",
       "      <td>2.1</td>\n",
       "    </tr>\n",
       "  </tbody>\n",
       "</table>\n",
       "</div>"
      ],
      "text/plain": [
       "                          medallion                      hack_license      pickup_datetime     dropoff_datetime  passenger_count  trip_distance\n",
       "0  89D227B655E5C82AECF13C3F540D4CF4  BA96DE419E711691B9445D6A6307C170  2013-01-01 15:11:48  2013-01-01 15:18:10                4            1.0\n",
       "1  0BD7C8F5BA12B88E0B67BED28BEA73D8  9FD8F69F0804BDB5549F40E9DA1BE472  2013-01-06 00:18:35  2013-01-06 00:22:54                1            1.5\n",
       "2  0BD7C8F5BA12B88E0B67BED28BEA73D8  9FD8F69F0804BDB5549F40E9DA1BE472  2013-01-05 18:49:41  2013-01-05 18:54:23                1            1.1\n",
       "3  DFD2202EE08F7A8DC9A57B02ACB81FE2  51EE87E3205C985EF8431D850C786310  2013-01-07 23:54:15  2013-01-07 23:58:20                2            0.7\n",
       "4  DFD2202EE08F7A8DC9A57B02ACB81FE2  51EE87E3205C985EF8431D850C786310  2013-01-07 23:25:03  2013-01-07 23:34:24                1            2.1"
      ]
     },
     "execution_count": 23,
     "metadata": {},
     "output_type": "execute_result"
    }
   ],
   "source": [
    "# inspect\n",
    "trip = pd.read_csv('data/trip_data_1.csv',\n",
    "                 nrows=5,\n",
    "                 usecols=\"medallion,hack_license,pickup_datetime,dropoff_datetime,passenger_count,trip_distance\".split(','))                    \n",
    "trip"
   ]
  },
  {
   "cell_type": "code",
   "execution_count": 24,
   "metadata": {
    "collapsed": false
   },
   "outputs": [
    {
     "data": {
      "text/plain": [
       "medallion            object\n",
       "hack_license         object\n",
       "pickup_datetime      object\n",
       "dropoff_datetime     object\n",
       "passenger_count       int64\n",
       "trip_distance       float64\n",
       "dtype: object"
      ]
     },
     "execution_count": 24,
     "metadata": {},
     "output_type": "execute_result"
    }
   ],
   "source": [
    "trip.dtypes"
   ]
  },
  {
   "cell_type": "code",
   "execution_count": 25,
   "metadata": {
    "collapsed": false
   },
   "outputs": [
    {
     "data": {
      "text/plain": [
       "0   2013-01-01 15:18:10\n",
       "1   2013-01-06 00:22:54\n",
       "2   2013-01-05 18:54:23\n",
       "3   2013-01-07 23:58:20\n",
       "4   2013-01-07 23:34:24\n",
       "Name: dropoff_datetime, dtype: datetime64[ns]"
      ]
     },
     "execution_count": 25,
     "metadata": {},
     "output_type": "execute_result"
    }
   ],
   "source": [
    "# object->datetime64ns\n",
    "pd.to_datetime(trip['dropoff_datetime'],infer_datetime_format=True)"
   ]
  },
  {
   "cell_type": "code",
   "execution_count": 26,
   "metadata": {
    "collapsed": false
   },
   "outputs": [
    {
     "data": {
      "text/plain": [
       "0    89D227B655E5C82AECF13C3F540D4CF4\n",
       "1    0BD7C8F5BA12B88E0B67BED28BEA73D8\n",
       "2    0BD7C8F5BA12B88E0B67BED28BEA73D8\n",
       "3    DFD2202EE08F7A8DC9A57B02ACB81FE2\n",
       "4    DFD2202EE08F7A8DC9A57B02ACB81FE2\n",
       "Name: medallion, dtype: category\n",
       "Categories (3, object): [0BD7C8F5BA12B88E0B67BED28BEA73D8, 89D227B655E5C82AECF13C3F540D4CF4, DFD2202EE08F7A8DC9A57B02ACB81FE2]"
      ]
     },
     "execution_count": 26,
     "metadata": {},
     "output_type": "execute_result"
    }
   ],
   "source": [
    "# object->categorical\n",
    "trip['medallion'].astype('category')"
   ]
  },
  {
   "cell_type": "code",
   "execution_count": 27,
   "metadata": {
    "collapsed": false
   },
   "outputs": [
    {
     "data": {
      "text/html": [
       "<div style=\"max-height:1000px;max-width:1500px;overflow:auto;\">\n",
       "<table border=\"1\" class=\"dataframe\">\n",
       "  <thead>\n",
       "    <tr style=\"text-align: right;\">\n",
       "      <th></th>\n",
       "      <th>medallion</th>\n",
       "      <th>hack_license</th>\n",
       "      <th>pickup_datetime</th>\n",
       "      <th>total_amount</th>\n",
       "    </tr>\n",
       "  </thead>\n",
       "  <tbody>\n",
       "    <tr>\n",
       "      <th>0</th>\n",
       "      <td>89D227B655E5C82AECF13C3F540D4CF4</td>\n",
       "      <td>BA96DE419E711691B9445D6A6307C170</td>\n",
       "      <td>2013-01-01 15:11:48</td>\n",
       "      <td>7.0</td>\n",
       "    </tr>\n",
       "    <tr>\n",
       "      <th>1</th>\n",
       "      <td>0BD7C8F5BA12B88E0B67BED28BEA73D8</td>\n",
       "      <td>9FD8F69F0804BDB5549F40E9DA1BE472</td>\n",
       "      <td>2013-01-06 00:18:35</td>\n",
       "      <td>7.0</td>\n",
       "    </tr>\n",
       "    <tr>\n",
       "      <th>2</th>\n",
       "      <td>0BD7C8F5BA12B88E0B67BED28BEA73D8</td>\n",
       "      <td>9FD8F69F0804BDB5549F40E9DA1BE472</td>\n",
       "      <td>2013-01-05 18:49:41</td>\n",
       "      <td>7.0</td>\n",
       "    </tr>\n",
       "    <tr>\n",
       "      <th>3</th>\n",
       "      <td>DFD2202EE08F7A8DC9A57B02ACB81FE2</td>\n",
       "      <td>51EE87E3205C985EF8431D850C786310</td>\n",
       "      <td>2013-01-07 23:54:15</td>\n",
       "      <td>6.0</td>\n",
       "    </tr>\n",
       "    <tr>\n",
       "      <th>4</th>\n",
       "      <td>DFD2202EE08F7A8DC9A57B02ACB81FE2</td>\n",
       "      <td>51EE87E3205C985EF8431D850C786310</td>\n",
       "      <td>2013-01-07 23:25:03</td>\n",
       "      <td>10.5</td>\n",
       "    </tr>\n",
       "  </tbody>\n",
       "</table>\n",
       "</div>"
      ],
      "text/plain": [
       "                          medallion                      hack_license      pickup_datetime  total_amount\n",
       "0  89D227B655E5C82AECF13C3F540D4CF4  BA96DE419E711691B9445D6A6307C170  2013-01-01 15:11:48           7.0\n",
       "1  0BD7C8F5BA12B88E0B67BED28BEA73D8  9FD8F69F0804BDB5549F40E9DA1BE472  2013-01-06 00:18:35           7.0\n",
       "2  0BD7C8F5BA12B88E0B67BED28BEA73D8  9FD8F69F0804BDB5549F40E9DA1BE472  2013-01-05 18:49:41           7.0\n",
       "3  DFD2202EE08F7A8DC9A57B02ACB81FE2  51EE87E3205C985EF8431D850C786310  2013-01-07 23:54:15           6.0\n",
       "4  DFD2202EE08F7A8DC9A57B02ACB81FE2  51EE87E3205C985EF8431D850C786310  2013-01-07 23:25:03          10.5"
      ]
     },
     "execution_count": 27,
     "metadata": {},
     "output_type": "execute_result"
    }
   ],
   "source": [
    "# inspect\n",
    "fare = pd.read_csv('data/trip_fare_1.csv',\n",
    "                   nrows=5,\n",
    "                   skipinitialspace=True,\n",
    "                   usecols=\"medallion,hack_license,pickup_datetime,total_amount\".split(','))                    \n",
    "fare"
   ]
  },
  {
   "cell_type": "code",
   "execution_count": 28,
   "metadata": {
    "collapsed": false
   },
   "outputs": [
    {
     "data": {
      "text/html": [
       "<div style=\"max-height:1000px;max-width:1500px;overflow:auto;\">\n",
       "<table border=\"1\" class=\"dataframe\">\n",
       "  <thead>\n",
       "    <tr style=\"text-align: right;\">\n",
       "      <th></th>\n",
       "      <th>medallion</th>\n",
       "      <th>hack_license</th>\n",
       "      <th>pickup_datetime</th>\n",
       "      <th>dropoff_datetime</th>\n",
       "      <th>passenger_count</th>\n",
       "      <th>trip_distance</th>\n",
       "      <th>total_amount</th>\n",
       "    </tr>\n",
       "  </thead>\n",
       "  <tbody>\n",
       "    <tr>\n",
       "      <th>0</th>\n",
       "      <td>89D227B655E5C82AECF13C3F540D4CF4</td>\n",
       "      <td>BA96DE419E711691B9445D6A6307C170</td>\n",
       "      <td>2013-01-01 15:11:48</td>\n",
       "      <td>2013-01-01 15:18:10</td>\n",
       "      <td>4</td>\n",
       "      <td>1.0</td>\n",
       "      <td>7.0</td>\n",
       "    </tr>\n",
       "    <tr>\n",
       "      <th>1</th>\n",
       "      <td>0BD7C8F5BA12B88E0B67BED28BEA73D8</td>\n",
       "      <td>9FD8F69F0804BDB5549F40E9DA1BE472</td>\n",
       "      <td>2013-01-06 00:18:35</td>\n",
       "      <td>2013-01-06 00:22:54</td>\n",
       "      <td>1</td>\n",
       "      <td>1.5</td>\n",
       "      <td>7.0</td>\n",
       "    </tr>\n",
       "    <tr>\n",
       "      <th>2</th>\n",
       "      <td>0BD7C8F5BA12B88E0B67BED28BEA73D8</td>\n",
       "      <td>9FD8F69F0804BDB5549F40E9DA1BE472</td>\n",
       "      <td>2013-01-05 18:49:41</td>\n",
       "      <td>2013-01-05 18:54:23</td>\n",
       "      <td>1</td>\n",
       "      <td>1.1</td>\n",
       "      <td>7.0</td>\n",
       "    </tr>\n",
       "    <tr>\n",
       "      <th>3</th>\n",
       "      <td>DFD2202EE08F7A8DC9A57B02ACB81FE2</td>\n",
       "      <td>51EE87E3205C985EF8431D850C786310</td>\n",
       "      <td>2013-01-07 23:54:15</td>\n",
       "      <td>2013-01-07 23:58:20</td>\n",
       "      <td>2</td>\n",
       "      <td>0.7</td>\n",
       "      <td>6.0</td>\n",
       "    </tr>\n",
       "    <tr>\n",
       "      <th>4</th>\n",
       "      <td>DFD2202EE08F7A8DC9A57B02ACB81FE2</td>\n",
       "      <td>51EE87E3205C985EF8431D850C786310</td>\n",
       "      <td>2013-01-07 23:25:03</td>\n",
       "      <td>2013-01-07 23:34:24</td>\n",
       "      <td>1</td>\n",
       "      <td>2.1</td>\n",
       "      <td>10.5</td>\n",
       "    </tr>\n",
       "  </tbody>\n",
       "</table>\n",
       "</div>"
      ],
      "text/plain": [
       "                          medallion                      hack_license      pickup_datetime     dropoff_datetime  passenger_count  trip_distance  total_amount\n",
       "0  89D227B655E5C82AECF13C3F540D4CF4  BA96DE419E711691B9445D6A6307C170  2013-01-01 15:11:48  2013-01-01 15:18:10                4            1.0           7.0\n",
       "1  0BD7C8F5BA12B88E0B67BED28BEA73D8  9FD8F69F0804BDB5549F40E9DA1BE472  2013-01-06 00:18:35  2013-01-06 00:22:54                1            1.5           7.0\n",
       "2  0BD7C8F5BA12B88E0B67BED28BEA73D8  9FD8F69F0804BDB5549F40E9DA1BE472  2013-01-05 18:49:41  2013-01-05 18:54:23                1            1.1           7.0\n",
       "3  DFD2202EE08F7A8DC9A57B02ACB81FE2  51EE87E3205C985EF8431D850C786310  2013-01-07 23:54:15  2013-01-07 23:58:20                2            0.7           6.0\n",
       "4  DFD2202EE08F7A8DC9A57B02ACB81FE2  51EE87E3205C985EF8431D850C786310  2013-01-07 23:25:03  2013-01-07 23:34:24                1            2.1          10.5"
      ]
     },
     "execution_count": 28,
     "metadata": {},
     "output_type": "execute_result"
    }
   ],
   "source": [
    "# merge\n",
    "pd.merge(trip,fare, on=['medallion','hack_license','pickup_datetime'])"
   ]
  },
  {
   "cell_type": "code",
   "execution_count": 15,
   "metadata": {
    "collapsed": false
   },
   "outputs": [
    {
     "data": {
      "text/html": [
       "<div style=\"max-height:1000px;max-width:1500px;overflow:auto;\">\n",
       "<table border=\"1\" class=\"dataframe\">\n",
       "  <thead>\n",
       "    <tr style=\"text-align: right;\">\n",
       "      <th></th>\n",
       "      <th>medallion</th>\n",
       "      <th>hack_license</th>\n",
       "      <th>pickup_datetime</th>\n",
       "      <th>dropoff_datetime</th>\n",
       "      <th>passenger_count</th>\n",
       "      <th>trip_distance</th>\n",
       "    </tr>\n",
       "  </thead>\n",
       "  <tbody>\n",
       "    <tr>\n",
       "      <th>0</th>\n",
       "      <td>89D227B655E5C82AECF13C3F540D4CF4</td>\n",
       "      <td>BA96DE419E711691B9445D6A6307C170</td>\n",
       "      <td>2013-01-01 15:11:48</td>\n",
       "      <td>2013-01-01 15:18:10</td>\n",
       "      <td>4</td>\n",
       "      <td>1.0</td>\n",
       "    </tr>\n",
       "    <tr>\n",
       "      <th>1</th>\n",
       "      <td>0BD7C8F5BA12B88E0B67BED28BEA73D8</td>\n",
       "      <td>9FD8F69F0804BDB5549F40E9DA1BE472</td>\n",
       "      <td>2013-01-06 00:18:35</td>\n",
       "      <td>2013-01-06 00:22:54</td>\n",
       "      <td>1</td>\n",
       "      <td>1.5</td>\n",
       "    </tr>\n",
       "    <tr>\n",
       "      <th>2</th>\n",
       "      <td>0BD7C8F5BA12B88E0B67BED28BEA73D8</td>\n",
       "      <td>9FD8F69F0804BDB5549F40E9DA1BE472</td>\n",
       "      <td>2013-01-05 18:49:41</td>\n",
       "      <td>2013-01-05 18:54:23</td>\n",
       "      <td>1</td>\n",
       "      <td>1.1</td>\n",
       "    </tr>\n",
       "    <tr>\n",
       "      <th>3</th>\n",
       "      <td>DFD2202EE08F7A8DC9A57B02ACB81FE2</td>\n",
       "      <td>51EE87E3205C985EF8431D850C786310</td>\n",
       "      <td>2013-01-07 23:54:15</td>\n",
       "      <td>2013-01-07 23:58:20</td>\n",
       "      <td>2</td>\n",
       "      <td>0.7</td>\n",
       "    </tr>\n",
       "    <tr>\n",
       "      <th>4</th>\n",
       "      <td>DFD2202EE08F7A8DC9A57B02ACB81FE2</td>\n",
       "      <td>51EE87E3205C985EF8431D850C786310</td>\n",
       "      <td>2013-01-07 23:25:03</td>\n",
       "      <td>2013-01-07 23:34:24</td>\n",
       "      <td>1</td>\n",
       "      <td>2.1</td>\n",
       "    </tr>\n",
       "  </tbody>\n",
       "</table>\n",
       "</div>"
      ],
      "text/plain": [
       "                          medallion                      hack_license      pickup_datetime     dropoff_datetime  passenger_count  trip_distance\n",
       "0  89D227B655E5C82AECF13C3F540D4CF4  BA96DE419E711691B9445D6A6307C170  2013-01-01 15:11:48  2013-01-01 15:18:10                4            1.0\n",
       "1  0BD7C8F5BA12B88E0B67BED28BEA73D8  9FD8F69F0804BDB5549F40E9DA1BE472  2013-01-06 00:18:35  2013-01-06 00:22:54                1            1.5\n",
       "2  0BD7C8F5BA12B88E0B67BED28BEA73D8  9FD8F69F0804BDB5549F40E9DA1BE472  2013-01-05 18:49:41  2013-01-05 18:54:23                1            1.1\n",
       "3  DFD2202EE08F7A8DC9A57B02ACB81FE2  51EE87E3205C985EF8431D850C786310  2013-01-07 23:54:15  2013-01-07 23:58:20                2            0.7\n",
       "4  DFD2202EE08F7A8DC9A57B02ACB81FE2  51EE87E3205C985EF8431D850C786310  2013-01-07 23:25:03  2013-01-07 23:34:24                1            2.1"
      ]
     },
     "execution_count": 15,
     "metadata": {},
     "output_type": "execute_result"
    }
   ],
   "source": [
    "# to_hdf\n",
    "trip.to_hdf('trip.hdf','df',mode='w',format='table')\n",
    "pd.read_hdf('trip.hdf','df')"
   ]
  },
  {
   "cell_type": "code",
   "execution_count": 36,
   "metadata": {
    "collapsed": false
   },
   "outputs": [],
   "source": [
    "# read\n",
    "# merged\n",
    "# convert\n",
    "# to_hdf\n",
    "\n",
    "def read_and_convert_data():\n",
    "\n",
    "    def parse_dates(df, name):\n",
    "        df[name] = pd.to_datetime(df[name], infer_datetime_format=True)\n",
    "        return df\n",
    "\n",
    "    def parse_cats(df, name):\n",
    "        df[name] = df[name].astype('category')\n",
    "        return df\n",
    "    \n",
    "    trip = pd.read_csv('data/trip_data_1.csv',\n",
    "                       usecols=\"medallion,hack_license,pickup_datetime,dropoff_datetime,passenger_count,trip_distance\".split(','))                    \n",
    "    fare = pd.read_csv('data/trip_fare_1.csv',\n",
    "                       skipinitialspace=True,\n",
    "                       usecols=\"medallion,hack_license,pickup_datetime,total_amount\".split(','))                    \n",
    "\n",
    "    merged = pd.merge(trip, fare, on=['medallion','hack_license','pickup_datetime'])\n",
    "    merged = parse_dates(merged,'pickup_datetime')\n",
    "    merged = parse_dates(merged,'dropoff_datetime')\n",
    "    merged = parse_cats(merged, 'medallion')\n",
    "    merged = parse_cats(merged, 'hack_license')\n",
    "    merged.to_hdf(path,'df',mode='w',format='table',data_columns=['medallion','hack_license'])"
   ]
  },
  {
   "cell_type": "code",
   "execution_count": 37,
   "metadata": {
    "collapsed": false
   },
   "outputs": [
    {
     "name": "stdout",
     "output_type": "stream",
     "text": [
      "1 loops, best of 1: 2min 12s per loop\n"
     ]
    }
   ],
   "source": [
    "%timeit -n 1 -r 1 read_and_convert_data()"
   ]
  },
  {
   "cell_type": "code",
   "execution_count": 30,
   "metadata": {
    "collapsed": false
   },
   "outputs": [
    {
     "name": "stdout",
     "output_type": "stream",
     "text": [
      "-rwxrwxrwx@ 1 jreback  staff  1681610043 Aug 25  2013 \u001b[31mdata/trip_fare_1.csv\u001b[m\u001b[m\r\n",
      "-rwxrwxrwx@ 1 jreback  staff  2459600863 May 12  2014 \u001b[31mdata/trip_data_1.csv\u001b[m\u001b[m\r\n",
      "-rw-rw-r--  1 jreback  staff         557 Mar  4 13:45 data/foo.csv\r\n"
     ]
    }
   ],
   "source": [
    "# how much data did we start with\n",
    "!ls -ltr data/*.csv"
   ]
  },
  {
   "cell_type": "code",
   "execution_count": 31,
   "metadata": {
    "collapsed": false
   },
   "outputs": [
    {
     "name": "stdout",
     "output_type": "stream",
     "text": [
      "-rw-rw-r--  1 jreback  staff     227573 Mar  4 13:49 data/foo.h5\r\n",
      "-rw-rw-r--  1 jreback  staff  818649641 Apr 29 16:24 data/result.h5\r\n"
     ]
    }
   ],
   "source": [
    "# how do we have now\n",
    "!ls -ltr data/*.h5"
   ]
  },
  {
   "cell_type": "code",
   "execution_count": 39,
   "metadata": {
    "collapsed": false
   },
   "outputs": [
    {
     "name": "stdout",
     "output_type": "stream",
     "text": [
      "<class 'pandas.core.frame.DataFrame'>\n",
      "Int64Index: 14776615 entries, 0 to 14776614\n",
      "Data columns (total 7 columns):\n",
      "medallion           category\n",
      "hack_license        category\n",
      "pickup_datetime     datetime64[ns]\n",
      "dropoff_datetime    datetime64[ns]\n",
      "passenger_count     int64\n",
      "trip_distance       float64\n",
      "total_amount        float64\n",
      "dtypes: category(2), datetime64[ns](2), float64(2), int64(1)\n",
      "memory usage: 733.1 MB\n"
     ]
    }
   ],
   "source": [
    "df = pd.read_hdf(path,'df')\n",
    "df.info()"
   ]
  },
  {
   "cell_type": "code",
   "execution_count": 40,
   "metadata": {
    "collapsed": false
   },
   "outputs": [
    {
     "data": {
      "text/plain": [
       "13426"
      ]
     },
     "execution_count": 40,
     "metadata": {},
     "output_type": "execute_result"
    }
   ],
   "source": [
    "# uniques for the medallions\n",
    "len(df.medallion.cat.categories)"
   ]
  },
  {
   "cell_type": "code",
   "execution_count": 41,
   "metadata": {
    "collapsed": false
   },
   "outputs": [
    {
     "data": {
      "text/plain": [
       "32224"
      ]
     },
     "execution_count": 41,
     "metadata": {},
     "output_type": "execute_result"
    }
   ],
   "source": [
    "# uniques for the hack license\n",
    "len(df.hack_license.cat.categories)"
   ]
  },
  {
   "cell_type": "code",
   "execution_count": 42,
   "metadata": {
    "collapsed": false
   },
   "outputs": [],
   "source": [
    "# lengh of the ride\n",
    "df['length'] = df['dropoff_datetime']-df['pickup_datetime']"
   ]
  },
  {
   "cell_type": "code",
   "execution_count": 43,
   "metadata": {
    "collapsed": false
   },
   "outputs": [
    {
     "data": {
      "text/plain": [
       "count                    14776615\n",
       "mean     -1 days +23:50:37.187079\n",
       "std        0 days 00:19:05.019824\n",
       "min             -1 days +15:46:51\n",
       "25%               0 days 00:06:00\n",
       "50%               0 days 00:09:15\n",
       "75%               0 days 00:14:46\n",
       "max              21 days 00:29:24\n",
       "Name: length, dtype: object"
      ]
     },
     "execution_count": 43,
     "metadata": {},
     "output_type": "execute_result"
    }
   ],
   "source": [
    "df['length'].describe()"
   ]
  },
  {
   "cell_type": "code",
   "execution_count": 44,
   "metadata": {
    "collapsed": false
   },
   "outputs": [
    {
     "data": {
      "text/plain": [
       "count                    14776567\n",
       "mean     -1 days +23:50:37.187276\n",
       "std        0 days 00:19:04.993931\n",
       "min               0 days 00:00:00\n",
       "25%               0 days 00:06:00\n",
       "50%               0 days 00:09:15\n",
       "75%               0 days 00:14:46\n",
       "max              21 days 00:29:24\n",
       "Name: length, dtype: object"
      ]
     },
     "execution_count": 44,
     "metadata": {},
     "output_type": "execute_result"
    }
   ],
   "source": [
    "# replace invalid values\n",
    "df.loc[df['length']<0,'length'] = np.nan\n",
    "df['length'].describe()"
   ]
  },
  {
   "cell_type": "code",
   "execution_count": 45,
   "metadata": {
    "collapsed": false
   },
   "outputs": [
    {
     "data": {
      "text/html": [
       "<div style=\"max-height:1000px;max-width:1500px;overflow:auto;\">\n",
       "<table border=\"1\" class=\"dataframe\">\n",
       "  <thead>\n",
       "    <tr style=\"text-align: right;\">\n",
       "      <th></th>\n",
       "      <th>medallion</th>\n",
       "      <th>hack_license</th>\n",
       "      <th>pickup_datetime</th>\n",
       "      <th>dropoff_datetime</th>\n",
       "      <th>passenger_count</th>\n",
       "      <th>trip_distance</th>\n",
       "      <th>total_amount</th>\n",
       "      <th>length</th>\n",
       "    </tr>\n",
       "  </thead>\n",
       "  <tbody>\n",
       "    <tr>\n",
       "      <th>7560979</th>\n",
       "      <td>862921D5C13425C2DBDB7D065231FB1E</td>\n",
       "      <td>0C1A981E411908D59CB5D8A45097C0B6</td>\n",
       "      <td>2013-01-03 15:30:01</td>\n",
       "      <td>2013-01-24 15:59:25</td>\n",
       "      <td>1</td>\n",
       "      <td>9.8</td>\n",
       "      <td>35.80</td>\n",
       "      <td>21 days 00:29:24</td>\n",
       "    </tr>\n",
       "    <tr>\n",
       "      <th>13762640</th>\n",
       "      <td>128307B5B4418255867779D6E0814FCC</td>\n",
       "      <td>8865ED00BB9261FE4A450A33905C7CB2</td>\n",
       "      <td>2013-01-03 23:02:11</td>\n",
       "      <td>2013-01-24 23:13:23</td>\n",
       "      <td>1</td>\n",
       "      <td>1.9</td>\n",
       "      <td>13.65</td>\n",
       "      <td>21 days 00:11:12</td>\n",
       "    </tr>\n",
       "    <tr>\n",
       "      <th>14040247</th>\n",
       "      <td>128307B5B4418255867779D6E0814FCC</td>\n",
       "      <td>8865ED00BB9261FE4A450A33905C7CB2</td>\n",
       "      <td>2013-01-05 23:03:51</td>\n",
       "      <td>2013-01-26 23:11:04</td>\n",
       "      <td>1</td>\n",
       "      <td>1.1</td>\n",
       "      <td>9.37</td>\n",
       "      <td>21 days 00:07:13</td>\n",
       "    </tr>\n",
       "    <tr>\n",
       "      <th>10959787</th>\n",
       "      <td>1BEEA74F93CD153F6CAF0601551EFBFC</td>\n",
       "      <td>4D5B9D2700B465B742161DF320C51BCA</td>\n",
       "      <td>2013-01-08 17:56:04</td>\n",
       "      <td>2013-01-29 18:00:49</td>\n",
       "      <td>1</td>\n",
       "      <td>0.8</td>\n",
       "      <td>8.40</td>\n",
       "      <td>21 days 00:04:45</td>\n",
       "    </tr>\n",
       "    <tr>\n",
       "      <th>7916523</th>\n",
       "      <td>128307B5B4418255867779D6E0814FCC</td>\n",
       "      <td>A1D1E7C658D78B1906F8FCE575467B74</td>\n",
       "      <td>2013-01-07 12:37:21</td>\n",
       "      <td>2013-01-21 12:39:01</td>\n",
       "      <td>2</td>\n",
       "      <td>0.4</td>\n",
       "      <td>4.00</td>\n",
       "      <td>14 days 00:01:40</td>\n",
       "    </tr>\n",
       "  </tbody>\n",
       "</table>\n",
       "</div>"
      ],
      "text/plain": [
       "                                 medallion                      hack_license     pickup_datetime    dropoff_datetime  passenger_count  trip_distance  total_amount           length\n",
       "7560979   862921D5C13425C2DBDB7D065231FB1E  0C1A981E411908D59CB5D8A45097C0B6 2013-01-03 15:30:01 2013-01-24 15:59:25                1            9.8         35.80 21 days 00:29:24\n",
       "13762640  128307B5B4418255867779D6E0814FCC  8865ED00BB9261FE4A450A33905C7CB2 2013-01-03 23:02:11 2013-01-24 23:13:23                1            1.9         13.65 21 days 00:11:12\n",
       "14040247  128307B5B4418255867779D6E0814FCC  8865ED00BB9261FE4A450A33905C7CB2 2013-01-05 23:03:51 2013-01-26 23:11:04                1            1.1          9.37 21 days 00:07:13\n",
       "10959787  1BEEA74F93CD153F6CAF0601551EFBFC  4D5B9D2700B465B742161DF320C51BCA 2013-01-08 17:56:04 2013-01-29 18:00:49                1            0.8          8.40 21 days 00:04:45\n",
       "7916523   128307B5B4418255867779D6E0814FCC  A1D1E7C658D78B1906F8FCE575467B74 2013-01-07 12:37:21 2013-01-21 12:39:01                2            0.4          4.00 14 days 00:01:40"
      ]
     },
     "execution_count": 45,
     "metadata": {},
     "output_type": "execute_result"
    }
   ],
   "source": [
    "# select based on a subset\n",
    "df.loc[df['length'].nlargest(5).index]"
   ]
  },
  {
   "cell_type": "code",
   "execution_count": 46,
   "metadata": {
    "collapsed": false
   },
   "outputs": [
    {
     "data": {
      "text/plain": [
       "1      10471701\n",
       "2       1986196\n",
       "5        920006\n",
       "3        597485\n",
       "6        520066\n",
       "4        280992\n",
       "0           166\n",
       "255           1\n",
       "208           1\n",
       "9             1\n",
       "dtype: int64"
      ]
     },
     "execution_count": 46,
     "metadata": {},
     "output_type": "execute_result"
    }
   ],
   "source": [
    "# histogramming\n",
    "df['passenger_count'].value_counts()"
   ]
  },
  {
   "cell_type": "code",
   "execution_count": 47,
   "metadata": {
    "collapsed": false
   },
   "outputs": [
    {
     "data": {
      "text/plain": [
       "<matplotlib.axes._subplots.AxesSubplot at 0x10af874d0>"
      ]
     },
     "execution_count": 47,
     "metadata": {},
     "output_type": "execute_result"
    },
    {
     "data": {
      "image/png": "[encoded data removed]",
      "text/plain": [
       "<matplotlib.figure.Figure at 0x13a33e710>"
      ]
     },
     "metadata": {},
     "output_type": "display_data"
    }
   ],
   "source": [
    "df['passenger_count'].value_counts().hist(xrot=45)"
   ]
  },
  {
   "cell_type": "code",
   "execution_count": 48,
   "metadata": {
    "collapsed": false
   },
   "outputs": [
    {
     "data": {
      "text/plain": [
       "count                14776615\n",
       "unique                2303465\n",
       "top       2013-01-31 19:53:00\n",
       "freq                      375\n",
       "first     2013-01-01 00:00:00\n",
       "last      2013-01-31 23:59:59\n",
       "Name: pickup_datetime, dtype: object"
      ]
     },
     "execution_count": 48,
     "metadata": {},
     "output_type": "execute_result"
    }
   ],
   "source": [
    "# we have dates\n",
    "df['pickup_datetime'].describe()"
   ]
  },
  {
   "cell_type": "code",
   "execution_count": 49,
   "metadata": {
    "collapsed": false
   },
   "outputs": [
    {
     "data": {
      "text/html": [
       "<div style=\"max-height:1000px;max-width:1500px;overflow:auto;\">\n",
       "<table border=\"1\" class=\"dataframe\">\n",
       "  <thead>\n",
       "    <tr style=\"text-align: right;\">\n",
       "      <th></th>\n",
       "      <th>medallion</th>\n",
       "      <th>hack_license</th>\n",
       "      <th>dropoff_datetime</th>\n",
       "      <th>passenger_count</th>\n",
       "      <th>trip_distance</th>\n",
       "      <th>total_amount</th>\n",
       "      <th>length</th>\n",
       "    </tr>\n",
       "    <tr>\n",
       "      <th>pickup_datetime</th>\n",
       "      <th></th>\n",
       "      <th></th>\n",
       "      <th></th>\n",
       "      <th></th>\n",
       "      <th></th>\n",
       "      <th></th>\n",
       "      <th></th>\n",
       "    </tr>\n",
       "  </thead>\n",
       "  <tbody>\n",
       "    <tr>\n",
       "      <th>2013-01-01 15:11:48</th>\n",
       "      <td>89D227B655E5C82AECF13C3F540D4CF4</td>\n",
       "      <td>BA96DE419E711691B9445D6A6307C170</td>\n",
       "      <td>2013-01-01 15:18:10</td>\n",
       "      <td>4</td>\n",
       "      <td>1.0</td>\n",
       "      <td>7.0</td>\n",
       "      <td>00:06:22</td>\n",
       "    </tr>\n",
       "    <tr>\n",
       "      <th>2013-01-06 00:18:35</th>\n",
       "      <td>0BD7C8F5BA12B88E0B67BED28BEA73D8</td>\n",
       "      <td>9FD8F69F0804BDB5549F40E9DA1BE472</td>\n",
       "      <td>2013-01-06 00:22:54</td>\n",
       "      <td>1</td>\n",
       "      <td>1.5</td>\n",
       "      <td>7.0</td>\n",
       "      <td>00:04:19</td>\n",
       "    </tr>\n",
       "    <tr>\n",
       "      <th>2013-01-05 18:49:41</th>\n",
       "      <td>0BD7C8F5BA12B88E0B67BED28BEA73D8</td>\n",
       "      <td>9FD8F69F0804BDB5549F40E9DA1BE472</td>\n",
       "      <td>2013-01-05 18:54:23</td>\n",
       "      <td>1</td>\n",
       "      <td>1.1</td>\n",
       "      <td>7.0</td>\n",
       "      <td>00:04:42</td>\n",
       "    </tr>\n",
       "    <tr>\n",
       "      <th>2013-01-07 23:54:15</th>\n",
       "      <td>DFD2202EE08F7A8DC9A57B02ACB81FE2</td>\n",
       "      <td>51EE87E3205C985EF8431D850C786310</td>\n",
       "      <td>2013-01-07 23:58:20</td>\n",
       "      <td>2</td>\n",
       "      <td>0.7</td>\n",
       "      <td>6.0</td>\n",
       "      <td>00:04:05</td>\n",
       "    </tr>\n",
       "    <tr>\n",
       "      <th>2013-01-07 23:25:03</th>\n",
       "      <td>DFD2202EE08F7A8DC9A57B02ACB81FE2</td>\n",
       "      <td>51EE87E3205C985EF8431D850C786310</td>\n",
       "      <td>2013-01-07 23:34:24</td>\n",
       "      <td>1</td>\n",
       "      <td>2.1</td>\n",
       "      <td>10.5</td>\n",
       "      <td>00:09:21</td>\n",
       "    </tr>\n",
       "    <tr>\n",
       "      <th>...</th>\n",
       "      <td>...</td>\n",
       "      <td>...</td>\n",
       "      <td>...</td>\n",
       "      <td>...</td>\n",
       "      <td>...</td>\n",
       "      <td>...</td>\n",
       "      <td>...</td>\n",
       "    </tr>\n",
       "    <tr>\n",
       "      <th>2013-01-06 04:58:23</th>\n",
       "      <td>B33E71CD9E8FE1BE3B70FEB6E807DD15</td>\n",
       "      <td>BAF57796E45D921BB23217E17A372FF6</td>\n",
       "      <td>2013-01-06 05:11:24</td>\n",
       "      <td>1</td>\n",
       "      <td>3.3</td>\n",
       "      <td>14.0</td>\n",
       "      <td>00:13:01</td>\n",
       "    </tr>\n",
       "    <tr>\n",
       "      <th>2013-01-08 14:42:04</th>\n",
       "      <td>ED160B76D5349C8AC1ECF22CD4B8D538</td>\n",
       "      <td>3B93F6DA5DEBDE9560993FA624C4FF76</td>\n",
       "      <td>2013-01-08 14:50:27</td>\n",
       "      <td>1</td>\n",
       "      <td>1.0</td>\n",
       "      <td>8.0</td>\n",
       "      <td>00:08:23</td>\n",
       "    </tr>\n",
       "    <tr>\n",
       "      <th>2013-01-10 13:29:23</th>\n",
       "      <td>D83F9AC0E33F6F19869C243BE6AB6FE5</td>\n",
       "      <td>85A55B6772275374EF90AC9457DC1F83</td>\n",
       "      <td>2013-01-10 13:34:45</td>\n",
       "      <td>1</td>\n",
       "      <td>0.9</td>\n",
       "      <td>6.5</td>\n",
       "      <td>00:05:22</td>\n",
       "    </tr>\n",
       "    <tr>\n",
       "      <th>2013-01-06 16:30:15</th>\n",
       "      <td>04E59442A7DDBCE515E33CD355D866E7</td>\n",
       "      <td>7913172189931A1A1632562B10AB53C4</td>\n",
       "      <td>2013-01-06 16:42:26</td>\n",
       "      <td>1</td>\n",
       "      <td>1.3</td>\n",
       "      <td>10.0</td>\n",
       "      <td>00:12:11</td>\n",
       "    </tr>\n",
       "    <tr>\n",
       "      <th>2013-01-05 20:38:46</th>\n",
       "      <td>D30BED60331C79E3F7ACD05B325ED42F</td>\n",
       "      <td>B5E1D2461A5BCC8819188DACEC17CD69</td>\n",
       "      <td>2013-01-05 20:43:06</td>\n",
       "      <td>1</td>\n",
       "      <td>0.8</td>\n",
       "      <td>6.0</td>\n",
       "      <td>00:04:20</td>\n",
       "    </tr>\n",
       "  </tbody>\n",
       "</table>\n",
       "<p>14776615 rows × 7 columns</p>\n",
       "</div>"
      ],
      "text/plain": [
       "                                            medallion                      hack_license    dropoff_datetime  passenger_count  trip_distance  total_amount   length\n",
       "pickup_datetime                                                                                                                                                   \n",
       "2013-01-01 15:11:48  89D227B655E5C82AECF13C3F540D4CF4  BA96DE419E711691B9445D6A6307C170 2013-01-01 15:18:10                4            1.0           7.0 00:06:22\n",
       "2013-01-06 00:18:35  0BD7C8F5BA12B88E0B67BED28BEA73D8  9FD8F69F0804BDB5549F40E9DA1BE472 2013-01-06 00:22:54                1            1.5           7.0 00:04:19\n",
       "2013-01-05 18:49:41  0BD7C8F5BA12B88E0B67BED28BEA73D8  9FD8F69F0804BDB5549F40E9DA1BE472 2013-01-05 18:54:23                1            1.1           7.0 00:04:42\n",
       "2013-01-07 23:54:15  DFD2202EE08F7A8DC9A57B02ACB81FE2  51EE87E3205C985EF8431D850C786310 2013-01-07 23:58:20                2            0.7           6.0 00:04:05\n",
       "2013-01-07 23:25:03  DFD2202EE08F7A8DC9A57B02ACB81FE2  51EE87E3205C985EF8431D850C786310 2013-01-07 23:34:24                1            2.1          10.5 00:09:21\n",
       "...                                               ...                               ...                 ...              ...            ...           ...      ...\n",
       "2013-01-06 04:58:23  B33E71CD9E8FE1BE3B70FEB6E807DD15  BAF57796E45D921BB23217E17A372FF6 2013-01-06 05:11:24                1            3.3          14.0 00:13:01\n",
       "2013-01-08 14:42:04  ED160B76D5349C8AC1ECF22CD4B8D538  3B93F6DA5DEBDE9560993FA624C4FF76 2013-01-08 14:50:27                1            1.0           8.0 00:08:23\n",
       "2013-01-10 13:29:23  D83F9AC0E33F6F19869C243BE6AB6FE5  85A55B6772275374EF90AC9457DC1F83 2013-01-10 13:34:45                1            0.9           6.5 00:05:22\n",
       "2013-01-06 16:30:15  04E59442A7DDBCE515E33CD355D866E7  7913172189931A1A1632562B10AB53C4 2013-01-06 16:42:26                1            1.3          10.0 00:12:11\n",
       "2013-01-05 20:38:46  D30BED60331C79E3F7ACD05B325ED42F  B5E1D2461A5BCC8819188DACEC17CD69 2013-01-05 20:43:06                1            0.8           6.0 00:04:20\n",
       "\n",
       "[14776615 rows x 7 columns]"
      ]
     },
     "execution_count": 49,
     "metadata": {},
     "output_type": "execute_result"
    }
   ],
   "source": [
    "df.set_index('pickup_datetime')"
   ]
  },
  {
   "cell_type": "code",
   "execution_count": 50,
   "metadata": {
    "collapsed": false
   },
   "outputs": [
    {
     "data": {
      "text/plain": [
       "pickup_datetime\n",
       "2013-01-01    14.918470\n",
       "2013-01-02    14.243186\n",
       "2013-01-03    13.742986\n",
       "2013-01-04    13.453926\n",
       "2013-01-05    13.263263\n",
       "                ...    \n",
       "2013-01-27    14.212045\n",
       "2013-01-28    14.015539\n",
       "2013-01-29    13.954557\n",
       "2013-01-30    14.138172\n",
       "2013-01-31    14.329880\n",
       "Freq: D, Name: total_amount, dtype: float64"
      ]
     },
     "execution_count": 50,
     "metadata": {},
     "output_type": "execute_result"
    }
   ],
   "source": [
    "# fare over time\n",
    "fare_over_time = df.set_index('pickup_datetime')['total_amount'].resample('D',how='mean')\n",
    "fare_over_time"
   ]
  },
  {
   "cell_type": "code",
   "execution_count": 51,
   "metadata": {
    "collapsed": false
   },
   "outputs": [
    {
     "data": {
      "text/plain": [
       "<matplotlib.axes._subplots.AxesSubplot at 0x109eaa390>"
      ]
     },
     "execution_count": 51,
     "metadata": {},
     "output_type": "execute_result"
    },
    {
     "data": {
      "image/png": "[encoded data removed]",
      "text/plain": [
       "<matplotlib.figure.Figure at 0x10bbde750>"
      ]
     },
     "metadata": {},
     "output_type": "display_data"
    }
   ],
   "source": [
    "fare_over_time.plot()"
   ]
  },
  {
   "cell_type": "code",
   "execution_count": 52,
   "metadata": {
    "collapsed": false
   },
   "outputs": [
    {
     "data": {
      "text/plain": [
       "count    14776615.000000\n",
       "mean            2.770976\n",
       "std             3.305923\n",
       "min             0.000000\n",
       "25%             1.000000\n",
       "50%             1.700000\n",
       "75%             3.060000\n",
       "max           100.000000\n",
       "Name: trip_distance, dtype: float64"
      ]
     },
     "execution_count": 52,
     "metadata": {},
     "output_type": "execute_result"
    }
   ],
   "source": [
    "# focus on distance\n",
    "df['trip_distance'].describe()"
   ]
  },
  {
   "cell_type": "code",
   "execution_count": 53,
   "metadata": {
    "collapsed": false
   },
   "outputs": [
    {
     "data": {
      "text/plain": [
       "0           0.106111\n",
       "1           0.071944\n",
       "2           0.078333\n",
       "3           0.068056\n",
       "4           0.155833\n",
       "              ...   \n",
       "14776610    0.216944\n",
       "14776611    0.139722\n",
       "14776612    0.089444\n",
       "14776613    0.203056\n",
       "14776614    0.072222\n",
       "Name: length, dtype: float64"
      ]
     },
     "execution_count": 53,
     "metadata": {},
     "output_type": "execute_result"
    }
   ],
   "source": [
    "length_in_hours = df['length'] / np.timedelta64(1,'h')\n",
    "length_in_hours"
   ]
  },
  {
   "cell_type": "code",
   "execution_count": 54,
   "metadata": {
    "collapsed": false
   },
   "outputs": [
    {
     "data": {
      "text/html": [
       "<div style=\"max-height:1000px;max-width:1500px;overflow:auto;\">\n",
       "<table border=\"1\" class=\"dataframe\">\n",
       "  <thead>\n",
       "    <tr style=\"text-align: right;\">\n",
       "      <th></th>\n",
       "      <th>medallion</th>\n",
       "      <th>hack_license</th>\n",
       "      <th>pickup_datetime</th>\n",
       "      <th>dropoff_datetime</th>\n",
       "      <th>passenger_count</th>\n",
       "      <th>trip_distance</th>\n",
       "      <th>total_amount</th>\n",
       "      <th>length</th>\n",
       "      <th>speed</th>\n",
       "    </tr>\n",
       "  </thead>\n",
       "  <tbody>\n",
       "    <tr>\n",
       "      <th>0</th>\n",
       "      <td>89D227B655E5C82AECF13C3F540D4CF4</td>\n",
       "      <td>BA96DE419E711691B9445D6A6307C170</td>\n",
       "      <td>2013-01-01 15:11:48</td>\n",
       "      <td>2013-01-01 15:18:10</td>\n",
       "      <td>4</td>\n",
       "      <td>1.0</td>\n",
       "      <td>7.0</td>\n",
       "      <td>00:06:22</td>\n",
       "      <td>9.424084</td>\n",
       "    </tr>\n",
       "    <tr>\n",
       "      <th>1</th>\n",
       "      <td>0BD7C8F5BA12B88E0B67BED28BEA73D8</td>\n",
       "      <td>9FD8F69F0804BDB5549F40E9DA1BE472</td>\n",
       "      <td>2013-01-06 00:18:35</td>\n",
       "      <td>2013-01-06 00:22:54</td>\n",
       "      <td>1</td>\n",
       "      <td>1.5</td>\n",
       "      <td>7.0</td>\n",
       "      <td>00:04:19</td>\n",
       "      <td>20.849421</td>\n",
       "    </tr>\n",
       "    <tr>\n",
       "      <th>2</th>\n",
       "      <td>0BD7C8F5BA12B88E0B67BED28BEA73D8</td>\n",
       "      <td>9FD8F69F0804BDB5549F40E9DA1BE472</td>\n",
       "      <td>2013-01-05 18:49:41</td>\n",
       "      <td>2013-01-05 18:54:23</td>\n",
       "      <td>1</td>\n",
       "      <td>1.1</td>\n",
       "      <td>7.0</td>\n",
       "      <td>00:04:42</td>\n",
       "      <td>14.042553</td>\n",
       "    </tr>\n",
       "    <tr>\n",
       "      <th>3</th>\n",
       "      <td>DFD2202EE08F7A8DC9A57B02ACB81FE2</td>\n",
       "      <td>51EE87E3205C985EF8431D850C786310</td>\n",
       "      <td>2013-01-07 23:54:15</td>\n",
       "      <td>2013-01-07 23:58:20</td>\n",
       "      <td>2</td>\n",
       "      <td>0.7</td>\n",
       "      <td>6.0</td>\n",
       "      <td>00:04:05</td>\n",
       "      <td>10.285714</td>\n",
       "    </tr>\n",
       "    <tr>\n",
       "      <th>4</th>\n",
       "      <td>DFD2202EE08F7A8DC9A57B02ACB81FE2</td>\n",
       "      <td>51EE87E3205C985EF8431D850C786310</td>\n",
       "      <td>2013-01-07 23:25:03</td>\n",
       "      <td>2013-01-07 23:34:24</td>\n",
       "      <td>1</td>\n",
       "      <td>2.1</td>\n",
       "      <td>10.5</td>\n",
       "      <td>00:09:21</td>\n",
       "      <td>13.475936</td>\n",
       "    </tr>\n",
       "    <tr>\n",
       "      <th>...</th>\n",
       "      <td>...</td>\n",
       "      <td>...</td>\n",
       "      <td>...</td>\n",
       "      <td>...</td>\n",
       "      <td>...</td>\n",
       "      <td>...</td>\n",
       "      <td>...</td>\n",
       "      <td>...</td>\n",
       "      <td>...</td>\n",
       "    </tr>\n",
       "    <tr>\n",
       "      <th>14776610</th>\n",
       "      <td>B33E71CD9E8FE1BE3B70FEB6E807DD15</td>\n",
       "      <td>BAF57796E45D921BB23217E17A372FF6</td>\n",
       "      <td>2013-01-06 04:58:23</td>\n",
       "      <td>2013-01-06 05:11:24</td>\n",
       "      <td>1</td>\n",
       "      <td>3.3</td>\n",
       "      <td>14.0</td>\n",
       "      <td>00:13:01</td>\n",
       "      <td>15.211268</td>\n",
       "    </tr>\n",
       "    <tr>\n",
       "      <th>14776611</th>\n",
       "      <td>ED160B76D5349C8AC1ECF22CD4B8D538</td>\n",
       "      <td>3B93F6DA5DEBDE9560993FA624C4FF76</td>\n",
       "      <td>2013-01-08 14:42:04</td>\n",
       "      <td>2013-01-08 14:50:27</td>\n",
       "      <td>1</td>\n",
       "      <td>1.0</td>\n",
       "      <td>8.0</td>\n",
       "      <td>00:08:23</td>\n",
       "      <td>7.157058</td>\n",
       "    </tr>\n",
       "    <tr>\n",
       "      <th>14776612</th>\n",
       "      <td>D83F9AC0E33F6F19869C243BE6AB6FE5</td>\n",
       "      <td>85A55B6772275374EF90AC9457DC1F83</td>\n",
       "      <td>2013-01-10 13:29:23</td>\n",
       "      <td>2013-01-10 13:34:45</td>\n",
       "      <td>1</td>\n",
       "      <td>0.9</td>\n",
       "      <td>6.5</td>\n",
       "      <td>00:05:22</td>\n",
       "      <td>10.062112</td>\n",
       "    </tr>\n",
       "    <tr>\n",
       "      <th>14776613</th>\n",
       "      <td>04E59442A7DDBCE515E33CD355D866E7</td>\n",
       "      <td>7913172189931A1A1632562B10AB53C4</td>\n",
       "      <td>2013-01-06 16:30:15</td>\n",
       "      <td>2013-01-06 16:42:26</td>\n",
       "      <td>1</td>\n",
       "      <td>1.3</td>\n",
       "      <td>10.0</td>\n",
       "      <td>00:12:11</td>\n",
       "      <td>6.402189</td>\n",
       "    </tr>\n",
       "    <tr>\n",
       "      <th>14776614</th>\n",
       "      <td>D30BED60331C79E3F7ACD05B325ED42F</td>\n",
       "      <td>B5E1D2461A5BCC8819188DACEC17CD69</td>\n",
       "      <td>2013-01-05 20:38:46</td>\n",
       "      <td>2013-01-05 20:43:06</td>\n",
       "      <td>1</td>\n",
       "      <td>0.8</td>\n",
       "      <td>6.0</td>\n",
       "      <td>00:04:20</td>\n",
       "      <td>11.076923</td>\n",
       "    </tr>\n",
       "  </tbody>\n",
       "</table>\n",
       "<p>14776615 rows × 9 columns</p>\n",
       "</div>"
      ],
      "text/plain": [
       "                                 medallion                      hack_license     pickup_datetime    dropoff_datetime  passenger_count  trip_distance  total_amount   length      speed\n",
       "0         89D227B655E5C82AECF13C3F540D4CF4  BA96DE419E711691B9445D6A6307C170 2013-01-01 15:11:48 2013-01-01 15:18:10                4            1.0           7.0 00:06:22   9.424084\n",
       "1         0BD7C8F5BA12B88E0B67BED28BEA73D8  9FD8F69F0804BDB5549F40E9DA1BE472 2013-01-06 00:18:35 2013-01-06 00:22:54                1            1.5           7.0 00:04:19  20.849421\n",
       "2         0BD7C8F5BA12B88E0B67BED28BEA73D8  9FD8F69F0804BDB5549F40E9DA1BE472 2013-01-05 18:49:41 2013-01-05 18:54:23                1            1.1           7.0 00:04:42  14.042553\n",
       "3         DFD2202EE08F7A8DC9A57B02ACB81FE2  51EE87E3205C985EF8431D850C786310 2013-01-07 23:54:15 2013-01-07 23:58:20                2            0.7           6.0 00:04:05  10.285714\n",
       "4         DFD2202EE08F7A8DC9A57B02ACB81FE2  51EE87E3205C985EF8431D850C786310 2013-01-07 23:25:03 2013-01-07 23:34:24                1            2.1          10.5 00:09:21  13.475936\n",
       "...                                    ...                               ...                 ...                 ...              ...            ...           ...      ...        ...\n",
       "14776610  B33E71CD9E8FE1BE3B70FEB6E807DD15  BAF57796E45D921BB23217E17A372FF6 2013-01-06 04:58:23 2013-01-06 05:11:24                1            3.3          14.0 00:13:01  15.211268\n",
       "14776611  ED160B76D5349C8AC1ECF22CD4B8D538  3B93F6DA5DEBDE9560993FA624C4FF76 2013-01-08 14:42:04 2013-01-08 14:50:27                1            1.0           8.0 00:08:23   7.157058\n",
       "14776612  D83F9AC0E33F6F19869C243BE6AB6FE5  85A55B6772275374EF90AC9457DC1F83 2013-01-10 13:29:23 2013-01-10 13:34:45                1            0.9           6.5 00:05:22  10.062112\n",
       "14776613  04E59442A7DDBCE515E33CD355D866E7  7913172189931A1A1632562B10AB53C4 2013-01-06 16:30:15 2013-01-06 16:42:26                1            1.3          10.0 00:12:11   6.402189\n",
       "14776614  D30BED60331C79E3F7ACD05B325ED42F  B5E1D2461A5BCC8819188DACEC17CD69 2013-01-05 20:38:46 2013-01-05 20:43:06                1            0.8           6.0 00:04:20  11.076923\n",
       "\n",
       "[14776615 rows x 9 columns]"
      ]
     },
     "execution_count": 54,
     "metadata": {},
     "output_type": "execute_result"
    }
   ],
   "source": [
    "# new frame via assign\n",
    "r = df.assign(speed=df['trip_distance']/length_in_hours)\n",
    "r"
   ]
  },
  {
   "cell_type": "code",
   "execution_count": 55,
   "metadata": {
    "collapsed": false
   },
   "outputs": [
    {
     "data": {
      "text/plain": [
       "count    1.475238e+07\n",
       "mean              inf\n",
       "std               NaN\n",
       "min      0.000000e+00\n",
       "25%      9.081081e+00\n",
       "50%      1.200000e+01\n",
       "75%      1.608022e+01\n",
       "max               inf\n",
       "Name: speed, dtype: float64"
      ]
     },
     "execution_count": 55,
     "metadata": {},
     "output_type": "execute_result"
    }
   ],
   "source": [
    "r['speed'].describe()"
   ]
  },
  {
   "cell_type": "code",
   "execution_count": 56,
   "metadata": {
    "collapsed": false
   },
   "outputs": [
    {
     "data": {
      "text/plain": [
       "count    14742259.000000\n",
       "mean           14.591121\n",
       "std           129.947198\n",
       "min             0.000000\n",
       "25%             9.075630\n",
       "50%            12.000000\n",
       "75%            16.071429\n",
       "max        125280.000000\n",
       "Name: speed, dtype: float64"
      ]
     },
     "execution_count": 56,
     "metadata": {},
     "output_type": "execute_result"
    }
   ],
   "source": [
    "# bad values\n",
    "r.loc[np.isinf(r['speed']),'speed'] = np.nan\n",
    "r['speed'].describe()"
   ]
  },
  {
   "cell_type": "code",
   "execution_count": 57,
   "metadata": {
    "collapsed": false
   },
   "outputs": [
    {
     "data": {
      "text/plain": [
       "count    14742259.000000\n",
       "mean           13.488805\n",
       "std             7.124750\n",
       "min             0.000000\n",
       "25%             9.075630\n",
       "50%            12.000000\n",
       "75%            16.071429\n",
       "max           100.000000\n",
       "Name: speed, dtype: float64"
      ]
     },
     "execution_count": 57,
     "metadata": {},
     "output_type": "execute_result"
    }
   ],
   "source": [
    "r['speed'] = r['speed'].clip_upper(100)\n",
    "r['speed'].describe()"
   ]
  },
  {
   "cell_type": "code",
   "execution_count": 58,
   "metadata": {
    "collapsed": false
   },
   "outputs": [
    {
     "data": {
      "text/plain": [
       "count    14776615.000000\n",
       "mean           13.952985\n",
       "std            11.464686\n",
       "min             2.500000\n",
       "25%             7.700000\n",
       "50%            10.500000\n",
       "75%            15.500000\n",
       "max           650.000000\n",
       "Name: total_amount, dtype: float64"
      ]
     },
     "execution_count": 58,
     "metadata": {},
     "output_type": "execute_result"
    }
   ],
   "source": [
    "r['total_amount'].describe()"
   ]
  },
  {
   "cell_type": "code",
   "execution_count": 59,
   "metadata": {
    "collapsed": false
   },
   "outputs": [
    {
     "data": {
      "text/plain": [
       "0.87083268780165857"
      ]
     },
     "execution_count": 59,
     "metadata": {},
     "output_type": "execute_result"
    }
   ],
   "source": [
    "r['total_amount'].corr(r['trip_distance'])"
   ]
  },
  {
   "cell_type": "code",
   "execution_count": 60,
   "metadata": {
    "collapsed": false
   },
   "outputs": [
    {
     "data": {
      "text/plain": [
       "0.50115380621280714"
      ]
     },
     "execution_count": 60,
     "metadata": {},
     "output_type": "execute_result"
    }
   ],
   "source": [
    "r['total_amount'].corr(r['speed'])"
   ]
  },
  {
   "cell_type": "code",
   "execution_count": 61,
   "metadata": {
    "collapsed": false
   },
   "outputs": [],
   "source": [
    "# quantile the distance\n",
    "g = r.groupby(pd.qcut(r['trip_distance'],10))"
   ]
  },
  {
   "cell_type": "code",
   "execution_count": 64,
   "metadata": {
    "collapsed": false
   },
   "outputs": [
    {
     "data": {
      "text/html": [
       "<div style=\"max-height:1000px;max-width:1500px;overflow:auto;\">\n",
       "<table border=\"1\" class=\"dataframe\">\n",
       "  <thead>\n",
       "    <tr style=\"text-align: right;\">\n",
       "      <th></th>\n",
       "      <th>passenger_count</th>\n",
       "      <th>trip_distance</th>\n",
       "      <th>total_amount</th>\n",
       "      <th>speed</th>\n",
       "    </tr>\n",
       "    <tr>\n",
       "      <th>trip_distance</th>\n",
       "      <th></th>\n",
       "      <th></th>\n",
       "      <th></th>\n",
       "      <th></th>\n",
       "    </tr>\n",
       "  </thead>\n",
       "  <tbody>\n",
       "    <tr>\n",
       "      <th>[0, 0.66]</th>\n",
       "      <td>1.607301</td>\n",
       "      <td>0.442264</td>\n",
       "      <td>7.526243</td>\n",
       "      <td>9.191086</td>\n",
       "    </tr>\n",
       "    <tr>\n",
       "      <th>(0.66, 0.9]</th>\n",
       "      <td>1.630489</td>\n",
       "      <td>0.796659</td>\n",
       "      <td>7.019489</td>\n",
       "      <td>10.612871</td>\n",
       "    </tr>\n",
       "    <tr>\n",
       "      <th>(0.9, 1.13]</th>\n",
       "      <td>1.728567</td>\n",
       "      <td>1.033297</td>\n",
       "      <td>7.982222</td>\n",
       "      <td>10.903866</td>\n",
       "    </tr>\n",
       "    <tr>\n",
       "      <th>(1.13, 1.4]</th>\n",
       "      <td>1.680272</td>\n",
       "      <td>1.282398</td>\n",
       "      <td>8.940826</td>\n",
       "      <td>11.212023</td>\n",
       "    </tr>\n",
       "    <tr>\n",
       "      <th>(1.4, 1.7]</th>\n",
       "      <td>1.712682</td>\n",
       "      <td>1.572817</td>\n",
       "      <td>10.029136</td>\n",
       "      <td>11.642905</td>\n",
       "    </tr>\n",
       "    <tr>\n",
       "      <th>(1.7, 2.1]</th>\n",
       "      <td>1.715527</td>\n",
       "      <td>1.917775</td>\n",
       "      <td>11.293548</td>\n",
       "      <td>12.196089</td>\n",
       "    </tr>\n",
       "    <tr>\n",
       "      <th>(2.1, 2.68]</th>\n",
       "      <td>1.746597</td>\n",
       "      <td>2.379095</td>\n",
       "      <td>12.841359</td>\n",
       "      <td>12.935133</td>\n",
       "    </tr>\n",
       "    <tr>\n",
       "      <th>(2.68, 3.6]</th>\n",
       "      <td>1.702255</td>\n",
       "      <td>3.097016</td>\n",
       "      <td>15.290410</td>\n",
       "      <td>14.030745</td>\n",
       "    </tr>\n",
       "    <tr>\n",
       "      <th>(3.6, 5.81]</th>\n",
       "      <td>1.729555</td>\n",
       "      <td>4.524360</td>\n",
       "      <td>19.827871</td>\n",
       "      <td>16.603463</td>\n",
       "    </tr>\n",
       "    <tr>\n",
       "      <th>(5.81, 100]</th>\n",
       "      <td>1.736228</td>\n",
       "      <td>10.812710</td>\n",
       "      <td>39.284899</td>\n",
       "      <td>25.706061</td>\n",
       "    </tr>\n",
       "  </tbody>\n",
       "</table>\n",
       "</div>"
      ],
      "text/plain": [
       "               passenger_count  trip_distance  total_amount      speed\n",
       "trip_distance                                                         \n",
       "[0, 0.66]             1.607301       0.442264      7.526243   9.191086\n",
       "(0.66, 0.9]           1.630489       0.796659      7.019489  10.612871\n",
       "(0.9, 1.13]           1.728567       1.033297      7.982222  10.903866\n",
       "(1.13, 1.4]           1.680272       1.282398      8.940826  11.212023\n",
       "(1.4, 1.7]            1.712682       1.572817     10.029136  11.642905\n",
       "(1.7, 2.1]            1.715527       1.917775     11.293548  12.196089\n",
       "(2.1, 2.68]           1.746597       2.379095     12.841359  12.935133\n",
       "(2.68, 3.6]           1.702255       3.097016     15.290410  14.030745\n",
       "(3.6, 5.81]           1.729555       4.524360     19.827871  16.603463\n",
       "(5.81, 100]           1.736228      10.812710     39.284899  25.706061"
      ]
     },
     "execution_count": 64,
     "metadata": {},
     "output_type": "execute_result"
    }
   ],
   "source": [
    "td = g.mean()\n",
    "td"
   ]
  },
  {
   "cell_type": "code",
   "execution_count": 65,
   "metadata": {
    "collapsed": false
   },
   "outputs": [
    {
     "data": {
      "text/plain": [
       "<matplotlib.axes._subplots.AxesSubplot at 0x10aee7d50>"
      ]
     },
     "execution_count": 65,
     "metadata": {},
     "output_type": "execute_result"
    },
    {
     "data": {
      "image/png": "[encoded data removed]",
      "text/plain": [
       "<matplotlib.figure.Figure at 0x10b24a550>"
      ]
     },
     "metadata": {},
     "output_type": "display_data"
    }
   ],
   "source": [
    "td.plot('passenger_count','total_amount',kind='scatter')"
   ]
  },
  {
   "cell_type": "code",
   "execution_count": 66,
   "metadata": {
    "collapsed": false
   },
   "outputs": [
    {
     "data": {
      "text/plain": [
       "count    32224.000000\n",
       "mean      6398.271084\n",
       "std       2928.515207\n",
       "min          2.600000\n",
       "25%       4587.935000\n",
       "50%       6786.615000\n",
       "75%       8425.967500\n",
       "max      31918.100000\n",
       "Name: total_amount, dtype: float64"
      ]
     },
     "execution_count": 66,
     "metadata": {},
     "output_type": "execute_result"
    }
   ],
   "source": [
    "r.groupby(r['hack_license'])['total_amount'].sum().order(ascending=False).describe()"
   ]
  },
  {
   "cell_type": "code",
   "execution_count": null,
   "metadata": {
    "collapsed": true
   },
   "outputs": [],
   "source": [
    "# resources\n"
   ]
  }
 ],
 "metadata": {
  "kernelspec": {
   "display_name": "Python 2",
   "language": "python",
   "name": "python2"
  },
  "language_info": {
   "codemirror_mode": {
    "name": "ipython",
    "version": 2
   },
   "file_extension": ".py",
   "mimetype": "text/x-python",
   "name": "python",
   "nbconvert_exporter": "python",
   "pygments_lexer": "ipython2",
   "version": "2.7.9"
  }
 },
 "nbformat": 4,
 "nbformat_minor": 0
}