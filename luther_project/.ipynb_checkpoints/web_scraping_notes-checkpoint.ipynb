{
 "cells": [
  {
   "cell_type": "markdown",
   "metadata": {},
   "source": [
    "HTML is the basic language used to create a webpage. \n",
    "structured/hierarchical \n",
    "every page made up of discrete 'elements'\n",
    "elements are labelled with 'tags'\n",
    "\n",
    "<html>\n",
    "    <head>\n",
    "    Title/metadata\n",
    "    </head>\n",
    "\n",
    "    <body>\n",
    "        <p class=\"red\">some text that will be in a paragraph</p> -> attribute for organization\n",
    "        <h1>this is the largest header</h1>\n",
    "        <a href=\"www.link.com\">link</a>\n",
    "    </body>\n",
    "\n",
    "</html>"
   ]
  },
  {
   "cell_type": "markdown",
   "metadata": {},
   "source": [
    "###Get HTML from a page and convert to BeatifulSoup object\n",
    "####start by scraping info from boxofficemojo.com\n"
   ]
  },
  {
   "cell_type": "code",
   "execution_count": 2,
   "metadata": {
    "collapsed": false
   },
   "outputs": [],
   "source": [
    "from bs4 import BeautifulSoup as bs\n",
    "import urllib2\n",
    "\n",
    "url = \"http://www.boxofficemojo.com/movies/?id=biglebowski.htm\"\n",
    "page = urllib2.urlopen(url)\n",
    "soup = bs(page)\n"
   ]
  },
  {
   "cell_type": "markdown",
   "metadata": {},
   "source": [
    "##soup.find()\n",
    "returns first tag match that it will find\n",
    "search by using dag as a string (like 'body', 'div', 'p', ... ) as an argument\n",
    "\n"
   ]
  },
  {
   "cell_type": "code",
   "execution_count": null,
   "metadata": {
    "collapsed": true
   },
   "outputs": [],
   "source": [
    "print soup.find('a')\n",
    "#same as\n",
    "print soup.a\n",
    "#looks nicer\n",
    "print soup.a.prettify()\n",
    "\n",
    "#to get all of a tag use find_all(), returns a list\n",
    "#print soup.find_all('a') # will print all a tags (links)\n",
    "#can iterate through this lis"
   ]
  },
  {
   "cell_type": "code",
   "execution_count": 9,
   "metadata": {
    "collapsed": false
   },
   "outputs": [
    {
     "name": "stdout",
     "output_type": "stream",
     "text": [
      "<a href=\"/goto.php?a=5\" target=\"4\"><font face=\"Verdana\" size=\"3\"><b>'Furious 7' hits $800 million worldwide... &gt;</b></font><br/></a>\n",
      "/goto.php?a=5\n"
     ]
    }
   ],
   "source": [
    "#retrieve url from anchor tag\n",
    "print soup.find('a')\n",
    "print soup.find('a')['href'] # just the link"
   ]
  },
  {
   "cell_type": "code",
   "execution_count": 19,
   "metadata": {
    "collapsed": false
   },
   "outputs": [
    {
     "data": {
      "text/plain": [
       "[<td width=\"40%\"><b>Domestic:</b></td>,\n",
       " <td align=\"right\" width=\"35%\"> <b>$17,451,873</b></td>]"
      ]
     },
     "execution_count": 19,
     "metadata": {},
     "output_type": "execute_result"
    }
   ],
   "source": [
    "#you can also match on an attribute: class, id, etc\n",
    "\n",
    "soup.find(class_=\"mp_box_content\").find_all('td')"
   ]
  },
  {
   "cell_type": "code",
   "execution_count": 23,
   "metadata": {
    "collapsed": false
   },
   "outputs": [],
   "source": [
    "#print soup.find(id=\"hp_footer\") #find using another type of tag"
   ]
  },
  {
   "cell_type": "markdown",
   "metadata": {},
   "source": [
    "## items to scrape for in each movie page\n",
    "\n",
    "###movie title, total domestic gross, release date, runtime, rating"
   ]
  },
  {
   "cell_type": "code",
   "execution_count": 51,
   "metadata": {
    "collapsed": false
   },
   "outputs": [
    {
     "name": "stdout",
     "output_type": "stream",
     "text": [
      "Domestic Total Gross: \n",
      "$17,451,873\n"
     ]
    }
   ],
   "source": [
    "#movie title, which is in the head\n",
    "title_string = soup.find(\"title\").text\n",
    "title = title_string.split(\"(\")[0].strip()\n",
    "\n",
    "#domestic total gross\n",
    "print soup.find(text=\"Domestic Total Gross: \") #text has to match exactly, spaces included\n",
    "\n",
    "#using regex\n",
    "import re\n",
    "dtg_string = soup.find(text= re.compile(\"Domestic Total\")) #makes it work with no space and not completed\n",
    "print dtg_string.findNextSibling().text #get thing right next to it, same level on tree\n"
   ]
  },
  {
   "cell_type": "code",
   "execution_count": 52,
   "metadata": {
    "collapsed": true
   },
   "outputs": [],
   "source": [
    "#do it as a function\n",
    "#make the process more robust\n",
    "def get_movie_value(soup, field_name):\n",
    "    \"\"\"\n",
    "    takes a string attribute of a movie on the page\n",
    "    returns the string in the next sibling object (the value for that attribute)\n",
    "    \"\"\"\n",
    "    obj = soup.find(text=re.compile(field_name))\n",
    "    if not obj: #can use assert as well\n",
    "        return None\n",
    "    next_sibling = obj.findNextSibling()\n",
    "    if next_sibling:\n",
    "        return next_sibling.text\n",
    "    else:\n",
    "        return None"
   ]
  },
  {
   "cell_type": "code",
   "execution_count": 53,
   "metadata": {
    "collapsed": false
   },
   "outputs": [
    {
     "name": "stdout",
     "output_type": "stream",
     "text": [
      "$17,451,873\n",
      "1 hrs. 57 min.\n",
      "R\n",
      "March 6, 1998\n"
     ]
    }
   ],
   "source": [
    "#does exact same thing as before, but with a fucntion\n",
    "dtg = get_movie_value(soup, \"Domestic Total\")\n",
    "print dtg\n",
    "\n",
    "#run time\n",
    "runtime = get_movie_value(soup, \"Runtime\")\n",
    "print runtime\n",
    "\n",
    "#rating\n",
    "rating = get_movie_value(soup, \"MPAA Rating\")\n",
    "print rating\n",
    "\n",
    "#release date\n",
    "release_date = get_movie_value(soup, \"Release Date\")\n",
    "print release_date"
   ]
  },
  {
   "cell_type": "code",
   "execution_count": 59,
   "metadata": {
    "collapsed": false
   },
   "outputs": [
    {
     "name": "stdout",
     "output_type": "stream",
     "text": [
      "{'rating': u'R', 'runtime': u'1 hrs. 57 min.', 'movie title': u'The Big Lebowski', 'domestic total gross': '$17,451,873', 'release date': u'March 6, 1998'}\n",
      "[{'rating': u'R', 'runtime': u'1 hrs. 57 min.', 'movie title': u'The Big Lebowski', 'domestic total gross': '$17,451,873', 'release date': u'March 6, 1998'}]\n"
     ]
    }
   ],
   "source": [
    "headers = [\"movie title\", \"domestic total gross\", \"release date\", \"runtime\", \"rating\"]\n",
    "movie_data = []\n",
    "\n",
    "movie_d = dict(zip(headers, [title, dtg, release_date, runtime, rating]))\n",
    "print movie_d\n",
    "\n",
    "movie_data.append(movie_d) #just putting it in a list of dictionaries \n",
    "print movie_data"
   ]
  },
  {
   "cell_type": "code",
   "execution_count": null,
   "metadata": {
    "collapsed": true
   },
   "outputs": [],
   "source": []
  }
 ],
 "metadata": {
  "kernelspec": {
   "display_name": "Python 2",
   "language": "python",
   "name": "python2"
  },
  "language_info": {
   "codemirror_mode": {
    "name": "ipython",
    "version": 2
   },
   "file_extension": ".py",
   "mimetype": "text/x-python",
   "name": "python",
   "nbconvert_exporter": "python",
   "pygments_lexer": "ipython2",
   "version": "2.7.5"
  }
 },
 "nbformat": 4,
 "nbformat_minor": 0
}
