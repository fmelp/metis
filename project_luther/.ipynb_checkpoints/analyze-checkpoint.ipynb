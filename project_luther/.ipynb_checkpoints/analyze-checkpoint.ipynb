{
 "cells": [
  {
   "cell_type": "code",
   "execution_count": 12,
   "metadata": {
    "collapsed": false
   },
   "outputs": [
    {
     "name": "stdout",
     "output_type": "stream",
     "text": [
      "                 movie_title  domestic_total_gross         runtime  budget  \\\n",
      "3                  Airplane!              83453539  1 hrs. 28 min.     3.5   \n",
      "264      Terms of Endearment             108423489  2 hrs. 11 min.     8.0   \n",
      "92   Raiders of the Lost Ark             212222025  1 hrs. 55 min.    18.0   \n",
      "0    The Empire Strikes Back             209398025   2 hrs. 9 min.    18.0   \n",
      "476     The Care Bears Movie              22934622  1 hrs. 17 min.     2.0   \n",
      "\n",
      "          release_date     distributor  \\\n",
      "3        June 27, 1980       Paramount   \n",
      "264  November 23, 1983       Paramount   \n",
      "92       June 12, 1981       Paramount   \n",
      "0         May 21, 1980             Fox   \n",
      "476     March 29, 1985  Samuel Goldwyn   \n",
      "\n",
      "                                                 genre  \\\n",
      "3                                           ['Comedy']   \n",
      "264                                ['Comedy', 'Drama']   \n",
      "92                             ['Action', 'Adventure']   \n",
      "0         ['Action', 'Adventure', 'Fantasy', 'Sci-Fi']   \n",
      "476  ['Animation', 'Adventure', 'Comedy', 'Family',...   \n",
      "\n",
      "                                                actors  \\\n",
      "3    ['Robert Hays', 'Julie Hagerty', 'Leslie Niels...   \n",
      "264  ['Shirley MacLaine', 'Debra Winger', 'Jack Nic...   \n",
      "92    ['Harrison Ford', 'Karen Allen', 'Paul Freeman']   \n",
      "0    ['Mark Hamill', 'Harrison Ford', 'Carrie Fisher']   \n",
      "476  ['Georgia Engel', 'Mickey Rooney', 'Jackie Bur...   \n",
      "\n",
      "                                             director  \\\n",
      "3    ['Jim Abrahams', 'David Zucker', 'Jerry Zucker']   \n",
      "264                               ['James L. Brooks']   \n",
      "92                               ['Steven Spielberg']   \n",
      "0                                  ['Irvin Kershner']   \n",
      "476                                     Arna Selznick   \n",
      "\n",
      "                                             producers  rank_year  \\\n",
      "3    ['Jim Abrahams (executive producer)Hunt Lowry*...          4   \n",
      "264                                                NaN          2   \n",
      "92          ['George Lucas (Executive)Frank Marshall']          1   \n",
      "0                         ['George Lucas (Executive)']          1   \n",
      "476                                                NaN         40   \n",
      "\n",
      "    rank_history  number_theaters      close_date  imdb_rating  \\\n",
      "3            756              NaN             NaN           78   \n",
      "264          518             1259             NaN           74   \n",
      "92            90             1078  March 18, 1982           86   \n",
      "0             60             1278             NaN           88   \n",
      "476        2,782             1003             NaN           55   \n",
      "\n",
      "     metascore_rating rt_critics rt_audience  video_sales     gross/budget  \n",
      "3                 NaN         96          89          NaN  23843868.285714  \n",
      "264                79         88          84          NaN  13552936.125000  \n",
      "92                  9         95          96  $23,139,994  11790112.500000  \n",
      "0                  78         96          97  $18,995,694  11633223.611111  \n",
      "476               NaN       None        None          NaN  11467311.000000  \n"
     ]
    }
   ],
   "source": [
    "import pandas as pd\n",
    "import numpy as np\n",
    "from sklearn.linear_model import LinearRegression\n",
    "import statsmodels.formula.api as sm\n",
    "import matplotlib.pyplot as plt\n",
    "from statsmodels.formula.api import ols\n",
    "%matplotlib inline\n",
    "pd.options.mode.chained_assignment = None\n",
    "\n",
    "data = pd.read_csv(\"~/Desktop/metis/project_luther/fixed_fuller_data_by_line_v1.csv\")\n",
    "\n",
    "data['budget'] = data['budget'].convert_objects(convert_numeric=True)\n",
    "\n",
    "data['gross/budget'] = data['domestic_total_gross']/data['budget']\n",
    "\n",
    "sorted_by_ratio = data.sort(columns='gross/budget', ascending=False)\n",
    "\n",
    "print sorted_by_ratio.head()"
   ]
  },
  {
   "cell_type": "code",
   "execution_count": null,
   "metadata": {
    "collapsed": true
   },
   "outputs": [],
   "source": []
  }
 ],
 "metadata": {
  "kernelspec": {
   "display_name": "Python 2",
   "language": "python",
   "name": "python2"
  },
  "language_info": {
   "codemirror_mode": {
    "name": "ipython",
    "version": 2
   },
   "file_extension": ".py",
   "mimetype": "text/x-python",
   "name": "python",
   "nbconvert_exporter": "python",
   "pygments_lexer": "ipython2",
   "version": "2.7.5"
  }
 },
 "nbformat": 4,
 "nbformat_minor": 0
}
